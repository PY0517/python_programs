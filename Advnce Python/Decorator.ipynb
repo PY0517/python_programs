{
 "cells": [
  {
   "cell_type": "code",
   "execution_count": 4,
   "metadata": {},
   "outputs": [
    {
     "data": {
      "text/plain": [
       "50"
      ]
     },
     "execution_count": 4,
     "metadata": {},
     "output_type": "execute_result"
    }
   ],
   "source": [
    "def add(a,b):\n",
    "    return a+b\n",
    "def sample(x,y,z):\n",
    "    z=x(y,z)\n",
    "    return z\n",
    "sample(add,20,30)"
   ]
  },
  {
   "cell_type": "code",
   "execution_count": 5,
   "metadata": {},
   "outputs": [
    {
     "name": "stdout",
     "output_type": "stream",
     "text": [
      "start\n",
      "0\n",
      "end\n"
     ]
    }
   ],
   "source": [
    "def outer(func):\n",
    "    def inner(*args,**kwargs):\n",
    "        print(\"start\")\n",
    "        func(*args,**kwargs)\n",
    "        print(\"end\")\n",
    "    return inner\n",
    "@outer\n",
    "def sample(a,b,c):\n",
    "    print(a+b-c)\n",
    "sample(10,20,30)"
   ]
  }
 ],
 "metadata": {
  "kernelspec": {
   "display_name": "Python 3",
   "language": "python",
   "name": "python3"
  },
  "language_info": {
   "codemirror_mode": {
    "name": "ipython",
    "version": 3
   },
   "file_extension": ".py",
   "mimetype": "text/x-python",
   "name": "python",
   "nbconvert_exporter": "python",
   "pygments_lexer": "ipython3",
   "version": "3.11.3"
  },
  "orig_nbformat": 4
 },
 "nbformat": 4,
 "nbformat_minor": 2
}
