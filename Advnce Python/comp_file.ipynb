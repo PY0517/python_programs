{
 "cells": [
  {
   "cell_type": "code",
   "execution_count": 3,
   "metadata": {},
   "outputs": [
    {
     "name": "stdout",
     "output_type": "stream",
     "text": [
      "['a', 'b', 'c', 1, 2, 3, 4, 5, 6]\n"
     ]
    }
   ],
   "source": [
    "l=[['a','b','c'],[1,2,3],[4,5,6]]\n",
    "u=[]\n",
    "for i in l:\n",
    "    for j in i:\n",
    "        u+=[j]\n",
    "print(u)"
   ]
  },
  {
   "cell_type": "code",
   "execution_count": 5,
   "metadata": {},
   "outputs": [
    {
     "name": "stdout",
     "output_type": "stream",
     "text": [
      "['a', 'b', 'c', 1, 2, 3, 4, 5, 6]\n"
     ]
    }
   ],
   "source": [
    "res=[j for i in l for j in i]\n",
    "print(res)"
   ]
  },
  {
   "cell_type": "code",
   "execution_count": 11,
   "metadata": {},
   "outputs": [
    {
     "name": "stdout",
     "output_type": "stream",
     "text": [
      "[1, 5, 6]\n"
     ]
    }
   ],
   "source": [
    "l=[['a','b','c'],[1,2.5,3+5j],[[10,5],5,6]]\n",
    "u=[]\n",
    "for i in l:\n",
    "    for j in i:\n",
    "        if type(j)==int:\n",
    "            u+=[j]\n",
    "print(u)"
   ]
  },
  {
   "cell_type": "code",
   "execution_count": 12,
   "metadata": {},
   "outputs": [
    {
     "name": "stdout",
     "output_type": "stream",
     "text": [
      "[1, 5, 6]\n"
     ]
    }
   ],
   "source": [
    "res=[j for i in l for j in i if type(j)==int]\n",
    "print(res)"
   ]
  },
  {
   "cell_type": "code",
   "execution_count": 49,
   "metadata": {},
   "outputs": [
    {
     "name": "stdout",
     "output_type": "stream",
     "text": [
      "[64, 5040, 362880, 1, 4, 6, 324, 120, 36]\n"
     ]
    }
   ],
   "source": [
    "#WAP to extract even values if even values to perform square of the given values and \n",
    "#extract odd values gto perform factorial of odd values.\n",
    "n=[[8,7,9],[1,2,3],[18,5,6]]\n",
    "res=[]\n",
    "for i in n:\n",
    "    for j in i:\n",
    "        if j%2==0:\n",
    "            res+=[j**2]\n",
    "        else:\n",
    "            fact=1\n",
    "            for k in range(1,j+1):\n",
    "                fact*=k\n",
    "            res+=[fact]\n",
    "print(res)\n",
    "\n"
   ]
  },
  {
   "cell_type": "code",
   "execution_count": 52,
   "metadata": {},
   "outputs": [
    {
     "name": "stdout",
     "output_type": "stream",
     "text": [
      "[64, 5040, 362880, 1, 4, 6, 324, 120, 36]\n"
     ]
    }
   ],
   "source": [
    "n=[[8,7,9],[1,2,3],[18,5,6]]\n",
    "res=[]\n",
    "def factorial(j):\n",
    "    fact=1\n",
    "    for k in range(1,j+1):\n",
    "        fact*=k\n",
    "    return fact\n",
    "for i in n:\n",
    "    for j in i:\n",
    "        if j%2==0:\n",
    "            res+=[j**2]\n",
    "        else:\n",
    "            res+=[factorial(j)]\n",
    "print(res)"
   ]
  },
  {
   "cell_type": "code",
   "execution_count": 53,
   "metadata": {},
   "outputs": [
    {
     "name": "stdout",
     "output_type": "stream",
     "text": [
      "[64, 5040, 362880, 1, 4, 6, 324, 120, 36]\n"
     ]
    }
   ],
   "source": [
    "n=[[8,7,9],[1,2,3],[18,5,6]]\n",
    "res=[]\n",
    "def factorial(j):\n",
    "    fact=1\n",
    "    for k in range(1,j+1):\n",
    "        fact*=k\n",
    "    return fact\n",
    "res=[j**2 if j%2==0 else factorial(j) for i in n for j in i]\n",
    "print(res)"
   ]
  },
  {
   "cell_type": "code",
   "execution_count": 56,
   "metadata": {},
   "outputs": [
    {
     "name": "stdout",
     "output_type": "stream",
     "text": [
      "120\n",
      "120\n"
     ]
    }
   ],
   "source": [
    "from math import prod\n",
    "def factorial(j):\n",
    "    fact=[]\n",
    "    for k in range(1,j+1):\n",
    "        fact+=[k]\n",
    "    return fact\n",
    "res=prod(factorial(5))\n",
    "print(res)\n",
    "\n",
    "n=5\n",
    "res=prod(factorial(5))\n",
    "print(res)"
   ]
  },
  {
   "cell_type": "code",
   "execution_count": 57,
   "metadata": {},
   "outputs": [
    {
     "name": "stdout",
     "output_type": "stream",
     "text": [
      "120\n",
      "120\n"
     ]
    }
   ],
   "source": [
    "from math import prod\n",
    "def factorial(j):\n",
    "    fact=[]\n",
    "    for k in range(1,j+1):\n",
    "        fact+=[k]\n",
    "    return fact\n",
    "res=prod(factorial(5))\n",
    "print(res)\n",
    "\n",
    "n=5\n",
    "res=prod([i for i in range(1,n+1)])\n",
    "print(res)"
   ]
  },
  {
   "cell_type": "code",
   "execution_count": 59,
   "metadata": {},
   "outputs": [
    {
     "name": "stdout",
     "output_type": "stream",
     "text": [
      "[64, 5040, 362880, 1, 4, 6, 324, 120, 36]\n"
     ]
    }
   ],
   "source": [
    "from math import prod\n",
    "n=[[8,7,9],[1,2,3],[18,5,6]]\n",
    "res=[j**2 if j%2==0 else prod([i for i in range(1,j+1)]) for i in n for j in i]\n",
    "print(res)"
   ]
  }
 ],
 "metadata": {
  "kernelspec": {
   "display_name": "Python 3",
   "language": "python",
   "name": "python3"
  },
  "language_info": {
   "codemirror_mode": {
    "name": "ipython",
    "version": 3
   },
   "file_extension": ".py",
   "mimetype": "text/x-python",
   "name": "python",
   "nbconvert_exporter": "python",
   "pygments_lexer": "ipython3",
   "version": "3.11.3"
  },
  "orig_nbformat": 4
 },
 "nbformat": 4,
 "nbformat_minor": 2
}
