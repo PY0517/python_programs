{
 "cells": [
  {
   "cell_type": "code",
   "execution_count": 5,
   "metadata": {},
   "outputs": [
    {
     "data": {
      "text/plain": [
       "8"
      ]
     },
     "execution_count": 5,
     "metadata": {},
     "output_type": "execute_result"
    }
   ],
   "source": [
    "def fib(n):\n",
    "    p,q=0,1\n",
    "    while p<n:\n",
    "        yield p\n",
    "        p,q=q,p+q\n",
    "x=fib(10)\n",
    "x.__next__()    # output => 0\n",
    "x.__next__()    # output => 1\n",
    "x.__next__()    # output => 1\n",
    "x.__next__()    # output => 2\n",
    "x.__next__()    # output => 3\n",
    "x.__next__()    # output => 5\n",
    "x.__next__()    # output => 8"
   ]
  }
 ],
 "metadata": {
  "kernelspec": {
   "display_name": "Python 3",
   "language": "python",
   "name": "python3"
  },
  "language_info": {
   "codemirror_mode": {
    "name": "ipython",
    "version": 3
   },
   "file_extension": ".py",
   "mimetype": "text/x-python",
   "name": "python",
   "nbconvert_exporter": "python",
   "pygments_lexer": "ipython3",
   "version": "3.11.3"
  },
  "orig_nbformat": 4
 },
 "nbformat": 4,
 "nbformat_minor": 2
}
