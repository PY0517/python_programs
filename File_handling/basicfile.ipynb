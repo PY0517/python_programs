{
 "cells": [
  {
   "cell_type": "code",
   "execution_count": 4,
   "metadata": {},
   "outputs": [
    {
     "name": "stdout",
     "output_type": "stream",
     "text": [
      "<_io.TextIOWrapper name='demo.txt' mode='w' encoding='cp1252'>\n",
      "0\n",
      "24\n"
     ]
    }
   ],
   "source": [
    "fp=open(\"demo.txt\",\"w\")\n",
    "print(fp)\n",
    "print(fp.tell())\n",
    "fp.write(\"heyy hai how are you...!\")\n",
    "print(fp.tell())\n",
    "fp.close()\n"
   ]
  },
  {
   "cell_type": "code",
   "execution_count": 8,
   "metadata": {},
   "outputs": [
    {
     "name": "stdout",
     "output_type": "stream",
     "text": [
      "<_io.TextIOWrapper name='demo.txt' mode='w' encoding='cp1252'>\n",
      "0\n",
      "41\n"
     ]
    }
   ],
   "source": [
    "fp=open(\"demo.txt\",\"w\")\n",
    "print(fp)\n",
    "print(fp.tell())\n",
    "fp.write(\"Python is a top most programming language\")\n",
    "print(fp.tell())\n",
    "fp.close()\n"
   ]
  },
  {
   "cell_type": "code",
   "execution_count": 10,
   "metadata": {},
   "outputs": [
    {
     "name": "stdout",
     "output_type": "stream",
     "text": [
      "<_io.TextIOWrapper name='demo.txt' mode='w+' encoding='cp1252'>\n",
      "0\n",
      "41\n",
      "\n",
      "41\n"
     ]
    }
   ],
   "source": [
    "fp=open(\"demo.txt\",\"w+\")\n",
    "print(fp)\n",
    "print(fp.tell())\n",
    "fp.write(\"Python is a top most programming language\")\n",
    "print(fp.tell())\n",
    "res=fp.read()\n",
    "print(res)\n",
    "print(fp.tell())\n",
    "fp.close()"
   ]
  }
 ],
 "metadata": {
  "kernelspec": {
   "display_name": "Python 3",
   "language": "python",
   "name": "python3"
  },
  "language_info": {
   "codemirror_mode": {
    "name": "ipython",
    "version": 3
   },
   "file_extension": ".py",
   "mimetype": "text/x-python",
   "name": "python",
   "nbconvert_exporter": "python",
   "pygments_lexer": "ipython3",
   "version": "3.11.3"
  },
  "orig_nbformat": 4
 },
 "nbformat": 4,
 "nbformat_minor": 2
}
