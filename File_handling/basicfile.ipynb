{
 "cells": [
  {
   "cell_type": "code",
   "execution_count": 4,
   "metadata": {},
   "outputs": [
    {
     "name": "stdout",
     "output_type": "stream",
     "text": [
      "<_io.TextIOWrapper name='demo.txt' mode='w' encoding='cp1252'>\n",
      "0\n",
      "24\n"
     ]
    }
   ],
   "source": [
    "fp=open(\"demo.txt\",\"w\")\n",
    "print(fp)\n",
    "print(fp.tell())\n",
    "fp.write(\"heyy hai how are you...!\")\n",
    "print(fp.tell())\n",
    "fp.close()\n"
   ]
  },
  {
   "cell_type": "code",
   "execution_count": 8,
   "metadata": {},
   "outputs": [
    {
     "name": "stdout",
     "output_type": "stream",
     "text": [
      "<_io.TextIOWrapper name='demo.txt' mode='w' encoding='cp1252'>\n",
      "0\n",
      "41\n"
     ]
    }
   ],
   "source": [
    "fp=open(\"demo.txt\",\"w\")\n",
    "print(fp)\n",
    "print(fp.tell())\n",
    "fp.write(\"Python is a top most programming language\")\n",
    "print(fp.tell())\n",
    "fp.close()\n"
   ]
  },
  {
   "cell_type": "code",
   "execution_count": 10,
   "metadata": {},
   "outputs": [
    {
     "name": "stdout",
     "output_type": "stream",
     "text": [
      "<_io.TextIOWrapper name='demo.txt' mode='w+' encoding='cp1252'>\n",
      "0\n",
      "41\n",
      "\n",
      "41\n"
     ]
    }
   ],
   "source": [
    "fp=open(\"demo.txt\",\"w+\")\n",
    "print(fp)\n",
    "print(fp.tell())\n",
    "fp.write(\"Python is a top most programming language\")\n",
    "print(fp.tell())\n",
    "res=fp.read()\n",
    "print(res)\n",
    "print(fp.tell())\n",
    "fp.close()"
   ]
  },
  {
   "cell_type": "code",
   "execution_count": 5,
   "metadata": {},
   "outputs": [
    {
     "name": "stdout",
     "output_type": "stream",
     "text": [
      "102\n"
     ]
    }
   ],
   "source": [
    "l=\"Interpreter is a one typ of software or translator & it translates to one language to another language\"\n",
    "def func(file,data):\n",
    "    fp=open(file,\"w\")\n",
    "    res=fp.write(str(data))\n",
    "    print(res)\n",
    "    fp.close()\n",
    "func(\"book.txt\",l)"
   ]
  },
  {
   "cell_type": "code",
   "execution_count": 26,
   "metadata": {},
   "outputs": [],
   "source": [
    "l=\"it is a medium or way between two objects to perform a task by using set of instructions\"\n",
    "def func_append(file,data):\n",
    "    fp=open(file,\"a\")\n",
    "    res=fp.write(data)\n",
    "    fp.close()\n",
    "func_append(\"book.txt\",l)"
   ]
  },
  {
   "cell_type": "code",
   "execution_count": 30,
   "metadata": {},
   "outputs": [
    {
     "name": "stdout",
     "output_type": "stream",
     "text": [
      "it is a medium or way between two objects to perform a task by using set of instructions\n"
     ]
    }
   ],
   "source": [
    "def func_read(file):\n",
    "    fp=open(file,\"r\")\n",
    "    res=fp.read()\n",
    "    print(res)\n",
    "    fp.close()\n",
    "func_read(\"book.txt\")"
   ]
  },
  {
   "cell_type": "code",
   "execution_count": 33,
   "metadata": {},
   "outputs": [
    {
     "name": "stdout",
     "output_type": "stream",
     "text": [
      "88\n",
      "\n",
      "None\n",
      "None\n",
      "it is a medium or way between two objects to perform a task by using set of instructionsit is a medium or way between two objects to perform a task by using set of instructions\n",
      "None\n"
     ]
    }
   ],
   "source": [
    "print(func(\"book.txt\",l))\n",
    "print(func_append(\"book.txt\",l))\n",
    "print(func_read(\"book.txt\"))"
   ]
  }
 ],
 "metadata": {
  "kernelspec": {
   "display_name": "Python 3",
   "language": "python",
   "name": "python3"
  },
  "language_info": {
   "codemirror_mode": {
    "name": "ipython",
    "version": 3
   },
   "file_extension": ".py",
   "mimetype": "text/x-python",
   "name": "python",
   "nbconvert_exporter": "python",
   "pygments_lexer": "ipython3",
   "version": "3.11.3"
  },
  "orig_nbformat": 4
 },
 "nbformat": 4,
 "nbformat_minor": 2
}
