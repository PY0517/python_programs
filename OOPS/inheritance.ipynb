{
 "cells": [
  {
   "cell_type": "code",
   "execution_count": 6,
   "metadata": {},
   "outputs": [
    {
     "name": "stdout",
     "output_type": "stream",
     "text": [
      "course name : Python first came : 28  years ago: edureka  has courses to master python\n"
     ]
    }
   ],
   "source": [
    "class Parent:\n",
    "     def __init__(self , fname, fage):\n",
    "          self.firstname = fname\n",
    "          self.age = fage\n",
    "     def view(self):\n",
    "         print(self.firstname , self.age)\n",
    "class Child(Parent):\n",
    "     def __init__(self , fname , fage):\n",
    "          Parent.__init__(self, fname, fage)\n",
    "          self.lastname = \"edureka\"\n",
    "     def view(self):\n",
    "          print(\"course name :\" , self.firstname ,\"first came :\",  self.age , \" years ago:\" , self.lastname, \" has courses to master python\")\n",
    "ob = Child(\"Python\" , '28')\n",
    "ob.view()"
   ]
  },
  {
   "cell_type": "code",
   "execution_count": 16,
   "metadata": {},
   "outputs": [
    {
     "name": "stdout",
     "output_type": "stream",
     "text": [
      "this is function one\n"
     ]
    }
   ],
   "source": [
    "class Parent:\n",
    "     def func1(self):\n",
    "         print(\"this is function one\")\n",
    " \n",
    "class Child(Parent):\n",
    "     def func2(self):\n",
    "         print(\"this is function 2\")\n",
    " \n",
    "class Child1(Parent):\n",
    "     def func3(self):\n",
    "         print(\" this is function 3\")\n",
    " \n",
    "class Child3(Child1,Parent):\n",
    "     def func4(self):\n",
    "         super().child1()\n",
    "         print(\" this is function 4\")\n",
    " \n",
    "ob = Child3()\n",
    "ob.func1()"
   ]
  },
  {
   "cell_type": "code",
   "execution_count": 21,
   "metadata": {},
   "outputs": [
    {
     "name": "stdout",
     "output_type": "stream",
     "text": [
      "this is child function\n",
      "this is parent function\n"
     ]
    }
   ],
   "source": [
    "class Parent:\n",
    "    def func1(self):\n",
    "        print(\"this is parent function\")\n",
    "class Child(Parent):\n",
    "    def func1(self):\n",
    "        print(\"this is child function\")\n",
    " \n",
    "ob = Child()\n",
    "ob.func1()\n",
    "obj=Parent()\n",
    "obj.func1()"
   ]
  }
 ],
 "metadata": {
  "kernelspec": {
   "display_name": "Python 3",
   "language": "python",
   "name": "python3"
  },
  "language_info": {
   "codemirror_mode": {
    "name": "ipython",
    "version": 3
   },
   "file_extension": ".py",
   "mimetype": "text/x-python",
   "name": "python",
   "nbconvert_exporter": "python",
   "pygments_lexer": "ipython3",
   "version": "3.11.3"
  },
  "orig_nbformat": 4
 },
 "nbformat": 4,
 "nbformat_minor": 2
}
