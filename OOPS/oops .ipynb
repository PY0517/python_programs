{
 "cells": [
  {
   "cell_type": "code",
   "execution_count": 3,
   "metadata": {},
   "outputs": [
    {
     "name": "stdout",
     "output_type": "stream",
     "text": [
      "My name is:prasad\n",
      "My age is:21\n",
      "My phone no is:9192939695\n",
      "My email is:prasad@gmail.com\n",
      "My degree is:B.tech\n",
      "My branch is:Civil\n",
      "year:2023\n"
     ]
    }
   ],
   "source": [
    "class Institute:\n",
    "    name_Inst=\"BVCITS\"\n",
    "    Address=\"AMP\"\n",
    "    code=\"BVCITS111\"\n",
    "    def __init__(self,name,age,phone,email,degree,branch,year):\n",
    "        self.name=name\n",
    "        self.age=age\n",
    "        self.phone=phone\n",
    "        self.email=email\n",
    "        self.degree=degree\n",
    "        self.branch=branch\n",
    "        self.year=year\n",
    "    def obj(self):\n",
    "        print(f'My name is:{self.name}')\n",
    "        print(f'My age is:{self.age}')\n",
    "        print(f'My phone no is:{self.phone}')\n",
    "        print(f'My email is:{self.email}')\n",
    "        print(f'My degree is:{self.degree}')\n",
    "        print(f'My branch is:{self.branch}')\n",
    "        print(f'year:{self.year}')\n",
    "prasad=Institute(\"prasad\",21,9192939695,\"prasad@gmail.com\",\"B.tech\",\"Civil\",2023)\n",
    "prasad.obj()\n"
   ]
  },
  {
   "cell_type": "code",
   "execution_count": 4,
   "metadata": {},
   "outputs": [
    {
     "name": "stdout",
     "output_type": "stream",
     "text": [
      "Book Title  :   Python\n",
      "Book Author :   Gopal\n",
      "Book DESC   :   Python Programming\n",
      "Book Price  :   1000\n",
      "**************************************************\n",
      "Book Title  :   SQL\n",
      "Book Author :   Yasin\n",
      "Book DESC   :   Database\n",
      "Book Price  :   800\n",
      "**************************************************\n",
      "Book Title  :   Java\n",
      "Book Author :   kashi\n",
      "Book DESC   :   Java development\n",
      "Book Price  :   1000\n",
      "**************************************************\n"
     ]
    }
   ],
   "source": [
    "class Book:\n",
    "    publish=\"epson\"\n",
    "    address=\"HYD\"\n",
    "    def __init__(self,title,author,desc,price):\n",
    "        self.title=title\n",
    "        self.author=author\n",
    "        self.desc=desc\n",
    "        self.price=price\n",
    "    def view(self):\n",
    "        print(f\"Book Title  :   {self.title}\")\n",
    "        print(f\"Book Author :   {self.author}\")\n",
    "        print(f\"Book DESC   :   {self.desc}\")\n",
    "        print(f\"Book Price  :   {self.price}\")\n",
    "book1=Book(\"Python\",\"Gopal\",\"Python Programming\",1000)\n",
    "book2=Book(\"SQL\",\"Yasin\",\"Database\",800)\n",
    "book3=Book(\"Java\",\"kashi\",\"Java development\",1000)\n",
    "book1.view()\n",
    "print(\"*\"*50)\n",
    "book2.view()\n",
    "print(\"*\"*50)\n",
    "book3.view()\n",
    "print(\"*\"*50)"
   ]
  },
  {
   "cell_type": "code",
   "execution_count": 1,
   "metadata": {},
   "outputs": [],
   "source": [
    "class Book:\n",
    "    publish=\"epson\"\n",
    "    address=\"HYD\"\n",
    "    usncode=\"USN15480200\"\n",
    "    details={}\n",
    "    def __init__(self,title,author,desc,price):\n",
    "        self.title=title\n",
    "        self.author=author\n",
    "        self.desc=desc\n",
    "        self.price=price\n",
    "        self.change_usn()\n",
    "        self.usn=self.usncode\n",
    "        self.concat_data(self.usn,self)\n",
    "\n",
    "    @classmethod\n",
    "    def concat_data(cls,key,value):\n",
    "        cls.details[key]=value\n",
    "\n",
    "    @classmethod\n",
    "    def change_usn(cls):\n",
    "        cls.usncode=Book.usncode[:-1]+str(int(Book.usncode[-1])+1)\n",
    "\n",
    "    @classmethod\n",
    "    def all_display(cls):\n",
    "        for i in cls.details:\n",
    "            cls.view(cls.details[i])\n",
    "            print(\"_\"*50)\n",
    "\n",
    "    def view(self):\n",
    "        print(f\"Book Title  :   {self.title}\")\n",
    "        print(f\"Book Author :   {self.author}\")\n",
    "        print(f\"Book DESC   :   {self.desc}\")\n",
    "        print(f\"Book Price  :   {self.price}\")\n",
    "        print(f\"Book USN    :   {self.usn}\")\n",
    "book1=Book(\"Python\",\"Gopal\",\"Python Programming\",1000)\n",
    "book2=Book(\"SQL\",\"Yasin\",\"Database\",800)\n",
    "book3=Book(\"Java\",\"kashi\",\"Java development\",1000)"
   ]
  },
  {
   "cell_type": "code",
   "execution_count": 2,
   "metadata": {},
   "outputs": [
    {
     "name": "stdout",
     "output_type": "stream",
     "text": [
      "Book Title  :   Python\n",
      "Book Author :   Gopal\n",
      "Book DESC   :   Python Programming\n",
      "Book Price  :   1000\n",
      "Book USN    :   USN15480201\n",
      "__________________________________________________\n",
      "Book Title  :   SQL\n",
      "Book Author :   Yasin\n",
      "Book DESC   :   Database\n",
      "Book Price  :   800\n",
      "Book USN    :   USN15480202\n",
      "__________________________________________________\n",
      "Book Title  :   Java\n",
      "Book Author :   kashi\n",
      "Book DESC   :   Java development\n",
      "Book Price  :   1000\n",
      "Book USN    :   USN15480203\n",
      "__________________________________________________\n"
     ]
    }
   ],
   "source": [
    "Book.all_display()"
   ]
  },
  {
   "cell_type": "code",
   "execution_count": 1,
   "metadata": {},
   "outputs": [
    {
     "ename": "SyntaxError",
     "evalue": "incomplete input (432993173.py, line 24)",
     "output_type": "error",
     "traceback": [
      "\u001b[1;36m  Cell \u001b[1;32mIn[1], line 24\u001b[1;36m\u001b[0m\n\u001b[1;33m    def concat_cust_details(cls,c_acc,obj_address):\u001b[0m\n\u001b[1;37m                                                   ^\u001b[0m\n\u001b[1;31mSyntaxError\u001b[0m\u001b[1;31m:\u001b[0m incomplete input\n"
     ]
    }
   ],
   "source": [
    "class bank:\n",
    "    bank_name=\"SBI\"\n",
    "    IFSC=\"SBIN0000841\"\n",
    "    address=\"HYD\"\n",
    "    ROI=7.7\n",
    "    cust_no=0\n",
    "    cust_details={}\n",
    "    def __init__(self,c_name,c_phone,c_email,c_address,c_bal=500):\n",
    "        self.c_name=c_name\n",
    "        self.c_phone=c_phone\n",
    "        self.c_email=c_email\n",
    "        self.c_address=c_address\n",
    "        self.c_bal=c_bal\n",
    "        self.inc_cust_no()\n",
    "        self.c_acc=\"101578\"+str(self.cust_no)\n",
    "        self.concat_cust_details(self.c_acc,self)\n",
    "        print(f'Hai Welcome to {self.bank_name}\\nDear MR/MS {self.c_name.title()}\\n your account is created successfully with account number is {self.c_acc}')\n",
    "\n",
    "        @classmethod\n",
    "        def inc_cust_no(cls):\n",
    "            cls.cust_no+=1\n",
    "\n",
    "        @classmethod\n",
    "        def concat_cust_details(cls,c_acc,obj_address):"
   ]
  },
  {
   "cell_type": "code",
   "execution_count": 13,
   "metadata": {},
   "outputs": [
    {
     "ename": "OperationalError",
     "evalue": "near \",\": syntax error",
     "output_type": "error",
     "traceback": [
      "\u001b[1;31m---------------------------------------------------------------------------\u001b[0m",
      "\u001b[1;31mOperationalError\u001b[0m                          Traceback (most recent call last)",
      "Cell \u001b[1;32mIn[13], line 41\u001b[0m\n\u001b[0;32m     39\u001b[0m             \u001b[39mprint\u001b[39m(\u001b[39m\"\u001b[39m\u001b[39mDOJ:\u001b[39m\u001b[39m\"\u001b[39m,i[\u001b[39m6\u001b[39m])\n\u001b[0;32m     40\u001b[0m             \u001b[39mprint\u001b[39m(\u001b[39m\"\u001b[39m\u001b[39m-\u001b[39m\u001b[39m\"\u001b[39m\u001b[39m*\u001b[39m\u001b[39m60\u001b[39m)\n\u001b[1;32m---> 41\u001b[0m emp1\u001b[39m=\u001b[39mcompany(\u001b[39m\"\u001b[39;49m\u001b[39mPrasad\u001b[39;49m\u001b[39m\"\u001b[39;49m,\u001b[39m\"\u001b[39;49m\u001b[39mprasad@gmail.com\u001b[39;49m\u001b[39m\"\u001b[39;49m,\u001b[39m7788994455\u001b[39;49m,\u001b[39m\"\u001b[39;49m\u001b[39mhyd\u001b[39;49m\u001b[39m\"\u001b[39;49m,\u001b[39m\"\u001b[39;49m\u001b[39mMale\u001b[39;49m\u001b[39m\"\u001b[39;49m,\u001b[39m21\u001b[39;49m\u001b[39m-\u001b[39;49m\u001b[39m8\u001b[39;49m\u001b[39m-\u001b[39;49m\u001b[39m2023\u001b[39;49m)\n",
      "Cell \u001b[1;32mIn[13], line 19\u001b[0m, in \u001b[0;36mcompany.__init__\u001b[1;34m(self, name, email, phone, address, gender, doj)\u001b[0m\n\u001b[0;32m     17\u001b[0m n\u001b[39m=\u001b[39m\u001b[39mint\u001b[39m(\u001b[39minput\u001b[39m(\u001b[39m\"\u001b[39m\u001b[39mchoose the option\u001b[39m\u001b[39m\\n\u001b[39;00m\u001b[39m1.Commit\u001b[39m\u001b[39m\\n\u001b[39;00m\u001b[39m2.Cancel\u001b[39m\u001b[39m\"\u001b[39m))\n\u001b[0;32m     18\u001b[0m \u001b[39mif\u001b[39;00m n\u001b[39m==\u001b[39m\u001b[39m1\u001b[39m:\n\u001b[1;32m---> 19\u001b[0m     cursor\u001b[39m.\u001b[39;49mexecute(\u001b[39m\"\u001b[39;49m\u001b[39minsert into com_emp(id,name,email,phone,address,gender,doj), values(?,?,?,?,?,?,?)\u001b[39;49m\u001b[39m\"\u001b[39;49m,[\u001b[39mself\u001b[39;49m\u001b[39m.\u001b[39;49mid,\u001b[39mself\u001b[39;49m\u001b[39m.\u001b[39;49mname,\u001b[39mself\u001b[39;49m\u001b[39m.\u001b[39;49memail,\u001b[39mself\u001b[39;49m\u001b[39m.\u001b[39;49mphone,\u001b[39mself\u001b[39;49m\u001b[39m.\u001b[39;49maddress,\u001b[39mself\u001b[39;49m\u001b[39m.\u001b[39;49mgender,\u001b[39mself\u001b[39;49m\u001b[39m.\u001b[39;49mdoj])\n\u001b[0;32m     20\u001b[0m     \u001b[39mprint\u001b[39m(\u001b[39m\"\u001b[39m\u001b[39mData is stored\u001b[39m\u001b[39m\"\u001b[39m)\n\u001b[0;32m     21\u001b[0m     db\u001b[39m.\u001b[39mcommit\n",
      "\u001b[1;31mOperationalError\u001b[0m: near \",\": syntax error"
     ]
    }
   ],
   "source": [
    "class company:\n",
    "    com_name=\"ibm\"\n",
    "    address=\"Hyd\"\n",
    "    website=\"www.ibm.co.in\"\n",
    "    emp_count=0\n",
    "    def __init__(self,name,email,phone,address,gender,doj):\n",
    "        self.name=name\n",
    "        self.email=email\n",
    "        self.phone=phone\n",
    "        self.address=address\n",
    "        self.gender=gender\n",
    "        self.doj=doj\n",
    "        self.off_email=self.name+str(self.phone)[-4:]+\"@\"+self.com_name+\".com\"\n",
    "        self.inc_emp_count()\n",
    "        self.id=\"ibm23\"+str(self.emp_count)\n",
    "\n",
    "        n=int(input(\"choose the option\\n1.Commit\\n2.Cancel\"))\n",
    "        if n==1:\n",
    "            cursor.execute(\"insert into com_emp(id,name,email,phone,address,gender,doj), values(?,?,?,?,?,?,?)\",[self.id,self.name,self.email,self.phone,self.address,self.gender,self.doj])\n",
    "            print(\"Data is stored\")\n",
    "            db.commit\n",
    "            db.close\n",
    "        else:\n",
    "            print(\"Data is not stored\")\n",
    "    @classmethod\n",
    "    def inc_emp_count(cls):\n",
    "        cls.emp_count+=1\n",
    "    @staticmethod\n",
    "    def display():\n",
    "        cursor.execute(\"select * from com_emp\")\n",
    "        res=cursor.fetchall()\n",
    "        for i in res:\n",
    "            print(\"Id:\",i[0])\n",
    "            print(\"Name:\",i[1])\n",
    "            print(\"Email:\",i[2])\n",
    "            print(\"Phone:\",i[3])\n",
    "            print(\"Address:\",i[4])\n",
    "            print(\"Gender:\",i[5])\n",
    "            print(\"DOJ:\",i[6])\n",
    "            print(\"-\"*60)\n",
    "emp1=company(\"Prasad\",\"prasad@gmail.com\",7788994455,\"hyd\",\"Male\",21-8-2023)"
   ]
  },
  {
   "cell_type": "code",
   "execution_count": 5,
   "metadata": {},
   "outputs": [],
   "source": [
    "import sqlite3\n",
    "db=sqlite3.connect(\"company.bd\")\n",
    "cursor=db.cursor()\n",
    "def create_table():\n",
    "    cursor.execute('''create table com_emp(id varchar(20) primary key,\n",
    "    name varchar(50) not null,\n",
    "    email varchar(50) unique not null.\n",
    "    phone big int not null unique,\n",
    "    address text,\n",
    "    doj date)''')\n",
    "    print(cursor.rowcount)\n",
    "    db.commit"
   ]
  },
  {
   "cell_type": "code",
   "execution_count": 6,
   "metadata": {},
   "outputs": [],
   "source": [
    "import sqlite3\n",
    "db=sqlite3.connect(\"company.bd\")\n",
    "cursor=db.cursor()"
   ]
  },
  {
   "cell_type": "code",
   "execution_count": 9,
   "metadata": {},
   "outputs": [
    {
     "data": {
      "text/plain": [
       "{}"
      ]
     },
     "execution_count": 9,
     "metadata": {},
     "output_type": "execute_result"
    }
   ],
   "source": [
    "display.__dict__"
   ]
  }
 ],
 "metadata": {
  "kernelspec": {
   "display_name": "Python 3",
   "language": "python",
   "name": "python3"
  },
  "language_info": {
   "codemirror_mode": {
    "name": "ipython",
    "version": 3
   },
   "file_extension": ".py",
   "mimetype": "text/x-python",
   "name": "python",
   "nbconvert_exporter": "python",
   "pygments_lexer": "ipython3",
   "version": "3.11.3"
  },
  "orig_nbformat": 4
 },
 "nbformat": 4,
 "nbformat_minor": 2
}
