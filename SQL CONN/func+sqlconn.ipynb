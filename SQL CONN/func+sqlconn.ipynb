{
 "cells": [
  {
   "cell_type": "code",
   "execution_count": 1,
   "metadata": {},
   "outputs": [
    {
     "name": "stdout",
     "output_type": "stream",
     "text": [
      "-1 Record is affected\n"
     ]
    }
   ],
   "source": [
    "import sqlite3\n",
    "\n",
    "def Bankaccount(func):\n",
    "    def inner(*args,**kwargs):\n",
    "        db=sqlite3.connect(\"Bank.db\")\n",
    "        cursor=db.cursor()\n",
    "        res=func(cursor,*args,**kwargs)\n",
    "        print(cursor.rowcount,\"Record is affected\")\n",
    "        db.commit\n",
    "        db.close()\n",
    "        return res\n",
    "    return inner\n",
    "@Bankaccount\n",
    "def create_table(cursor):\n",
    "    cursor.execute(\"create table bank(id big int primary key, name varchar(50), email varchar(50), password varchar(10),phone big int,IFSC varchar(15), balance int)\")\n",
    "create_table()"
   ]
  },
  {
   "cell_type": "code",
   "execution_count": 6,
   "metadata": {},
   "outputs": [
    {
     "name": "stdout",
     "output_type": "stream",
     "text": [
      "1 Record is affected\n"
     ]
    }
   ],
   "source": [
    "@Bankaccount\n",
    "def insert(cursor):\n",
    "    id=1\n",
    "    name=\"prasad\"\n",
    "    email=\"prasad@gmail.com\"\n",
    "    password=\"Prasad111\"\n",
    "    phone=7788445522\n",
    "    IFSC=\"SBIN0123654\"\n",
    "    balance=1005\n",
    "    val=[id,name,email,password,phone,IFSC,balance]\n",
    "    cursor.execute(\"insert into bank(id,name,email,password,phone,IFSC,balance) values(?,?,?,?,?,?,?)\",val)\n",
    "insert()"
   ]
  },
  {
   "cell_type": "code",
   "execution_count": 4,
   "metadata": {},
   "outputs": [
    {
     "name": "stdout",
     "output_type": "stream",
     "text": [
      "-1 Record is affected\n"
     ]
    }
   ],
   "source": [
    "@Bankaccount\n",
    "def select_rec(cursor):\n",
    "    cursor.execute(\"select * from bank\")\n",
    "    res=cursor.fetchall()\n",
    "    for i in res:\n",
    "        print(i)\n",
    "select_rec()"
   ]
  },
  {
   "cell_type": "code",
   "execution_count": 7,
   "metadata": {},
   "outputs": [
    {
     "ename": "TypeError",
     "evalue": "'NoneType' object is not subscriptable",
     "output_type": "error",
     "traceback": [
      "\u001b[1;31m---------------------------------------------------------------------------\u001b[0m",
      "\u001b[1;31mTypeError\u001b[0m                                 Traceback (most recent call last)",
      "Cell \u001b[1;32mIn[7], line 7\u001b[0m\n\u001b[0;32m      5\u001b[0m     res\u001b[39m=\u001b[39mcursor\u001b[39m.\u001b[39mfetchone()\n\u001b[0;32m      6\u001b[0m     cursor\u001b[39m.\u001b[39mexecute(\u001b[39m\"\u001b[39m\u001b[39mupdate bank set balance=? where id =1\u001b[39m\u001b[39m\"\u001b[39m,[res[\u001b[39m0\u001b[39m]\u001b[39m+\u001b[39mn])\n\u001b[1;32m----> 7\u001b[0m deposit()\n",
      "Cell \u001b[1;32mIn[1], line 7\u001b[0m, in \u001b[0;36mBankaccount.<locals>.inner\u001b[1;34m(*args, **kwargs)\u001b[0m\n\u001b[0;32m      5\u001b[0m db\u001b[39m=\u001b[39msqlite3\u001b[39m.\u001b[39mconnect(\u001b[39m\"\u001b[39m\u001b[39mBank.db\u001b[39m\u001b[39m\"\u001b[39m)\n\u001b[0;32m      6\u001b[0m cursor\u001b[39m=\u001b[39mdb\u001b[39m.\u001b[39mcursor()\n\u001b[1;32m----> 7\u001b[0m res\u001b[39m=\u001b[39mfunc(cursor,\u001b[39m*\u001b[39;49margs,\u001b[39m*\u001b[39;49m\u001b[39m*\u001b[39;49mkwargs)\n\u001b[0;32m      8\u001b[0m \u001b[39mprint\u001b[39m(cursor\u001b[39m.\u001b[39mrowcount,\u001b[39m\"\u001b[39m\u001b[39mRecord is affected\u001b[39m\u001b[39m\"\u001b[39m)\n\u001b[0;32m      9\u001b[0m db\u001b[39m.\u001b[39mcommit\n",
      "Cell \u001b[1;32mIn[7], line 6\u001b[0m, in \u001b[0;36mdeposit\u001b[1;34m(cursor)\u001b[0m\n\u001b[0;32m      4\u001b[0m cursor\u001b[39m.\u001b[39mexecute(\u001b[39m\"\u001b[39m\u001b[39mselect balance from bank where id=1\u001b[39m\u001b[39m\"\u001b[39m)\n\u001b[0;32m      5\u001b[0m res\u001b[39m=\u001b[39mcursor\u001b[39m.\u001b[39mfetchone()\n\u001b[1;32m----> 6\u001b[0m cursor\u001b[39m.\u001b[39mexecute(\u001b[39m\"\u001b[39m\u001b[39mupdate bank set balance=? where id =1\u001b[39m\u001b[39m\"\u001b[39m,[res[\u001b[39m0\u001b[39;49m]\u001b[39m+\u001b[39mn])\n",
      "\u001b[1;31mTypeError\u001b[0m: 'NoneType' object is not subscriptable"
     ]
    }
   ],
   "source": [
    "@Bankaccount\n",
    "def deposit(cursor):\n",
    "    n=int(input(\"enter the deposit amount:\"))\n",
    "    cursor.execute(\"select balance from bank where id=1\")\n",
    "    res=cursor.fetchone()\n",
    "    cursor.execute(\"update bank set balance=? where id =1\",[res[0]+n])\n",
    "deposit()"
   ]
  }
 ],
 "metadata": {
  "kernelspec": {
   "display_name": "Python 3",
   "language": "python",
   "name": "python3"
  },
  "language_info": {
   "codemirror_mode": {
    "name": "ipython",
    "version": 3
   },
   "file_extension": ".py",
   "mimetype": "text/x-python",
   "name": "python",
   "nbconvert_exporter": "python",
   "pygments_lexer": "ipython3",
   "version": "3.11.3"
  },
  "orig_nbformat": 4
 },
 "nbformat": 4,
 "nbformat_minor": 2
}
