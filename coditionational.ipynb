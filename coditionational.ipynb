{
 "cells": [
  {
   "cell_type": "code",
   "execution_count": 4,
   "metadata": {},
   "outputs": [
    {
     "name": "stdout",
     "output_type": "stream",
     "text": [
      "given number is positive,n\n"
     ]
    }
   ],
   "source": [
    "# WAP to given number is positive or not\n",
    "n=int(input())\n",
    "if n>0:\n",
    "    print(\"given number is positive,n\")"
   ]
  },
  {
   "cell_type": "code",
   "execution_count": 6,
   "metadata": {},
   "outputs": [
    {
     "name": "stdout",
     "output_type": "stream",
     "text": [
      "25\n"
     ]
    }
   ],
   "source": [
    "# WAP to given number is negative number or not\n",
    "n=eval(input())\n",
    "if n<0:\n",
    "    print(n*n)"
   ]
  },
  {
   "cell_type": "code",
   "execution_count": 8,
   "metadata": {},
   "outputs": [
    {
     "name": "stdout",
     "output_type": "stream",
     "text": [
      "4\n"
     ]
    }
   ],
   "source": [
    "#wap to given number is even or not\n",
    "n=eval(input())\n",
    "if n%2==0:\n",
    "    print(n*n)"
   ]
  },
  {
   "cell_type": "code",
   "execution_count": 9,
   "metadata": {},
   "outputs": [
    {
     "name": "stdout",
     "output_type": "stream",
     "text": [
      "25.0\n"
     ]
    }
   ],
   "source": [
    "n=eval(input())\n",
    "if type(n)==int or type(n)==float:\n",
    "    print(n*n)"
   ]
  },
  {
   "cell_type": "code",
   "execution_count": 51,
   "metadata": {},
   "outputs": [
    {
     "name": "stdout",
     "output_type": "stream",
     "text": [
      "prasad45 <class 'str'>\n"
     ]
    }
   ],
   "source": [
    "n=eval(input())\n",
    "s=\"prasad\"\n",
    "if n>25 and n%5==0 and n%9==0:\n",
    "    s+=str(n)\n",
    "print(s,type(s))"
   ]
  },
  {
   "cell_type": "code",
   "execution_count": 12,
   "metadata": {},
   "outputs": [
    {
     "name": "stdout",
     "output_type": "stream",
     "text": [
      "hello world\n"
     ]
    }
   ],
   "source": [
    "#1] WAP to display hello world if the number is greater than 1 and less than 5\n",
    "n=eval(input())\n",
    "if n>1 and n<5:\n",
    "    print(\"hello world\")"
   ]
  },
  {
   "cell_type": "code",
   "execution_count": 14,
   "metadata": {},
   "outputs": [
    {
     "name": "stdout",
     "output_type": "stream",
     "text": [
      "fizz\n"
     ]
    }
   ],
   "source": [
    "#2] WAP to check wheather the given number is divisible by 3 or not if print fizz\n",
    "n=eval(input())\n",
    "if n%3==0 or n!=0:\n",
    "    print('fizz')"
   ]
  },
  {
   "cell_type": "code",
   "execution_count": 15,
   "metadata": {},
   "outputs": [
    {
     "name": "stdout",
     "output_type": "stream",
     "text": [
      "(18+0j)\n"
     ]
    }
   ],
   "source": [
    "#3] WAP to check wheather the given number is divisible by 2 and 6 if the condition is satisfied , convert given number into a complex number \n",
    "n=eval(input())\n",
    "if n%2==0 and n%6==0:\n",
    "    print(complex(n))"
   ]
  },
  {
   "cell_type": "code",
   "execution_count": 18,
   "metadata": {},
   "outputs": [
    {
     "name": "stdout",
     "output_type": "stream",
     "text": [
      "30\n",
      "['3', '0']\n"
     ]
    }
   ],
   "source": [
    "#4] WAP to check wheather the given number is divisible by 3 and 5 if the condition is satisfied , convert given number into list \n",
    "n=eval(input())\n",
    "if n%3==0 or n%5==0:\n",
    "    print(str(n))\n",
    "print(list(str(n)))"
   ]
  },
  {
   "cell_type": "code",
   "execution_count": 24,
   "metadata": {},
   "outputs": [
    {
     "name": "stdout",
     "output_type": "stream",
     "text": [
      "20\n"
     ]
    }
   ],
   "source": [
    "#5] WAP to check whether a given number is multiple of 5 or not\n",
    "n=eval(input())\n",
    "if n*5==0 or n*5!=0:\n",
    "    print(n)"
   ]
  },
  {
   "cell_type": "code",
   "execution_count": 25,
   "metadata": {},
   "outputs": [
    {
     "name": "stdout",
     "output_type": "stream",
     "text": [
      "0\n"
     ]
    }
   ],
   "source": [
    "#6] WAP to check whether the given input is 0 or not if 0 ptint 0\n",
    "n=eval(input())\n",
    "if n==0 or n!=0:\n",
    "    print(0)"
   ]
  },
  {
   "cell_type": "code",
   "execution_count": 29,
   "metadata": {},
   "outputs": [
    {
     "name": "stdout",
     "output_type": "stream",
     "text": [
      "negative\n"
     ]
    }
   ],
   "source": [
    "#7] WAP to check wheatherna number is negative . if negative , print a message negative\n",
    "n=eval(input())\n",
    "if n<0:\n",
    "    print(\"negative\")"
   ]
  },
  {
   "cell_type": "code",
   "execution_count": 12,
   "metadata": {},
   "outputs": [
    {
     "name": "stdout",
     "output_type": "stream",
     "text": [
      "[4]\n"
     ]
    }
   ],
   "source": [
    "#8] WAP to check wheather the given number is even or not. if even , store the values inside the list\n",
    "n=eval(input())\n",
    "if n%2==0 or n%2!=0:\n",
    "    print([n])"
   ]
  },
  {
   "cell_type": "code",
   "execution_count": 11,
   "metadata": {},
   "outputs": [
    {
     "name": "stdout",
     "output_type": "stream",
     "text": [
      "(6,)\n"
     ]
    }
   ],
   "source": [
    "#9] WAP to check whether a number is odd or not. If odd, store the value inside the tuple\n",
    "n=eval(input())\n",
    "if n%3==0 or n%3!=0:\n",
    "    print(tuple([n]))"
   ]
  },
  {
   "cell_type": "code",
   "execution_count": 4,
   "metadata": {},
   "outputs": [
    {
     "name": "stdout",
     "output_type": "stream",
     "text": [
      "40\n"
     ]
    }
   ],
   "source": [
    "#10] WAP to check if the given number is even or not. if it is yes, to print the power of 4 in a given number\n",
    "n=eval(input())\n",
    "if n%2==0 or n%2!=0:\n",
    "    print(n*4)"
   ]
  },
  {
   "cell_type": "code",
   "execution_count": null,
   "metadata": {},
   "outputs": [],
   "source": [
    "#11] WAP to take the input from the user as a number and check whether it is a number or not. if yes. take the number and add some value and print it\n"
   ]
  },
  {
   "cell_type": "code",
   "execution_count": 8,
   "metadata": {},
   "outputs": [
    {
     "name": "stdout",
     "output_type": "stream",
     "text": [
      "1500625\n"
     ]
    }
   ],
   "source": [
    "#12] WAP to check whether a given value is divisible by 5 and 7. If the value is divisible,to display the square of the  values. \n",
    "n=int(input())\n",
    "if n%5==0 and n%7==0:\n",
    "    print(n**4)"
   ]
  },
  {
   "cell_type": "code",
   "execution_count": null,
   "metadata": {},
   "outputs": [],
   "source": [
    "#13] WAP to check whether the given value's last digit is greater than 5 or not.if greater, to perform the bitwise right shift operator (skipping value is 2) "
   ]
  },
  {
   "cell_type": "code",
   "execution_count": 13,
   "metadata": {},
   "outputs": [
    {
     "name": "stdout",
     "output_type": "stream",
     "text": [
      "81\n"
     ]
    }
   ],
   "source": [
    "#14] WAP to check whether a given value is divisible by 3 and less than 30. If the value is divisible,to display the square of the  values.\n",
    "n=eval(input())\n",
    "if n%3==0 and n<30:\n",
    "    print(n*n)"
   ]
  },
  {
   "cell_type": "code",
   "execution_count": 17,
   "metadata": {},
   "outputs": [
    {
     "name": "stdout",
     "output_type": "stream",
     "text": [
      "512\n"
     ]
    }
   ],
   "source": [
    "#15] WAP to check whether a given value is an even number and divisible by 4. If satisfied ,to display the cube of the  values.\n",
    "n=eval(input())\n",
    "if n%2==0 and n%4==0:\n",
    "    print(n*n*n)"
   ]
  },
  {
   "cell_type": "code",
   "execution_count": 18,
   "metadata": {},
   "outputs": [
    {
     "name": "stdout",
     "output_type": "stream",
     "text": [
      "[20]\n"
     ]
    }
   ],
   "source": [
    "#16] WAP to check whether a given value is even or not. If the even number stores the value inside the list.\n",
    "n=eval(input())\n",
    "if n%2==0 or n%2!=0:\n",
    "    print([n])"
   ]
  },
  {
   "cell_type": "code",
   "execution_count": 21,
   "metadata": {},
   "outputs": [
    {
     "name": "stdout",
     "output_type": "stream",
     "text": [
      "2\n"
     ]
    }
   ],
   "source": [
    "#17] WAP to check whether a given value is a negative or even number. If satisfied ,to display the last digit of the  values.\n",
    "n=eval(input())\n",
    "if n<0 or n%2==0:\n",
    "    print(n%10)"
   ]
  },
  {
   "cell_type": "code",
   "execution_count": 24,
   "metadata": {},
   "outputs": [
    {
     "name": "stdout",
     "output_type": "stream",
     "text": [
      "-512\n"
     ]
    }
   ],
   "source": [
    "#18] WAP to check whether a given value is a negative or odd number and divisible by 4. If satisfied ,to display the cube of the  values.\n",
    "n=eval(input())\n",
    "if n<0 or n%2!=0 and n%4==0:\n",
    "    print(n*n*n)"
   ]
  },
  {
   "cell_type": "code",
   "execution_count": 36,
   "metadata": {},
   "outputs": [
    {
     "name": "stdout",
     "output_type": "stream",
     "text": [
      "P\n"
     ]
    }
   ],
   "source": [
    "#19] WAP to check whether a given ascii value is divisible by 4 and even value. If satisfied, to display the ascii character.\n",
    "n=eval(input())\n",
    "if n%4==0 and n%2==0:\n",
    "    print(chr(n))"
   ]
  },
  {
   "cell_type": "code",
   "execution_count": 42,
   "metadata": {},
   "outputs": [
    {
     "name": "stdout",
     "output_type": "stream",
     "text": [
      "x\n"
     ]
    }
   ],
   "source": [
    "#20] WAP to check whether a given value is present in between 45 to 125 and the number should be divisible by 4 and 5 and even value. If satisfied, to display the ascii character\n",
    "n=eval(input())\n",
    "if (n>45 and n<125) and n%4==0 and n%5==0:\n",
    "    print(chr(n))"
   ]
  },
  {
   "cell_type": "code",
   "execution_count": 43,
   "metadata": {},
   "outputs": [
    {
     "name": "stdout",
     "output_type": "stream",
     "text": [
      "200\n"
     ]
    }
   ],
   "source": [
    "#21] WAP to check whether a given value is present in between 25 to 100 and the number should be divisible by 4 and 5. If satisfied, to display  multiplication of given value with 5\n",
    "n=eval(input())\n",
    "if (n>25 and n<100) and n%4==0 and n%5==0:\n",
    "    print(n*5)"
   ]
  },
  {
   "cell_type": "code",
   "execution_count": 48,
   "metadata": {},
   "outputs": [
    {
     "name": "stdout",
     "output_type": "stream",
     "text": [
      "15\n"
     ]
    }
   ],
   "source": [
    "#22] WAP to check whether a given number is an integer and odd number. If the condition is satisfied, the integer is divisible by 5 and displays the result\n",
    "n=eval(input())\n",
    "if (n>0 or n<0) and n%2!=0 and n%5==0:\n",
    "    print(n)"
   ]
  },
  {
   "cell_type": "code",
   "execution_count": 54,
   "metadata": {},
   "outputs": [
    {
     "name": "stdout",
     "output_type": "stream",
     "text": [
      "50 <class 'str'>\n"
     ]
    }
   ],
   "source": [
    "#23] WAP to check whether a given value is an integer or not. If integer, the given value is converted to string and displays the result\n",
    "n=eval(input())\n",
    "s=\"\"\n",
    "if n>0 or n<0:\n",
    "    s+=str(n)\n",
    "print(s,type(s))"
   ]
  },
  {
   "cell_type": "code",
   "execution_count": 70,
   "metadata": {},
   "outputs": [
    {
     "name": "stdout",
     "output_type": "stream",
     "text": [
      "i\n"
     ]
    }
   ],
   "source": [
    "#24] WAP to check whether a given value is less than 125 and greater than 60 or not. If the condition is satisfied, take the name and extract the middle character and display it.\n",
    "n=eval(input())\n",
    "if n<125 and n>60 or n!=60:\n",
    "    s=\"mid\"\n",
    "    print(s[len(s)//2])"
   ]
  },
  {
   "cell_type": "code",
   "execution_count": 77,
   "metadata": {},
   "outputs": [
    {
     "name": "stdout",
     "output_type": "stream",
     "text": [
      "12\n"
     ]
    }
   ],
   "source": [
    "#25] WAP to check whether a given two integers are equal or not. If both are equal, to perform addition and display the result. \n",
    "n=eval(input())\n",
    "s=eval(input())\n",
    "if(n==s):\n",
    "    print(n+s)"
   ]
  },
  {
   "cell_type": "code",
   "execution_count": 79,
   "metadata": {},
   "outputs": [
    {
     "name": "stdout",
     "output_type": "stream",
     "text": [
      "0\n"
     ]
    }
   ],
   "source": [
    "#26] WAP to check whether two values are equal or not. if equal, to perform multiplication of two numbers and that result is division by 3 and display the value\n",
    "\n",
    "n=eval(input())\n",
    "s=eval(input())\n",
    "if(n==s):\n",
    "    print((n*s)%3)"
   ]
  },
  {
   "cell_type": "code",
   "execution_count": 57,
   "metadata": {},
   "outputs": [
    {
     "name": "stdout",
     "output_type": "stream",
     "text": [
      "{'A': 65}\n"
     ]
    }
   ],
   "source": [
    "#27] WAP to check whether a character is in the alphabet or not. If the alphabet, store the value inside the dict(key as a character and value as an ascii value).\n",
    "n=str(input())\n",
    "if 'A'<=n<='Z' or 'a'<=n<='z':\n",
    "    b={}\n",
    "    b[n]=ord(n)\n",
    "    print(b)"
   ]
  },
  {
   "cell_type": "code",
   "execution_count": 51,
   "metadata": {},
   "outputs": [
    {
     "name": "stdout",
     "output_type": "stream",
     "text": [
      "{'A': 65}\n"
     ]
    }
   ],
   "source": [
    "#28] WAP to check whether a character is in the uppercase or not. If the uppercase, store the value inside the dict(key as a character and value as an ascii value).\n",
    "n=input()\n",
    "if ch.isupper():\n",
    "    b={}\n",
    "    b[n]=ord(n)\n",
    "    print(b)"
   ]
  },
  {
   "cell_type": "code",
   "execution_count": 56,
   "metadata": {},
   "outputs": [
    {
     "name": "stdout",
     "output_type": "stream",
     "text": [
      "{'n': 110}\n"
     ]
    }
   ],
   "source": [
    "#29] WAP to check whether a character is in the uppercase or not. If the uppercase, convert to lowercase and store the value inside the dict(character as a key and ascii value as a value).\n",
    "n=input()\n",
    "if ch.isupper() and 'a'<=n<='z':\n",
    "    b={}\n",
    "    b[n]=ord(n)\n",
    "    print(b)"
   ]
  },
  {
   "cell_type": "code",
   "execution_count": 65,
   "metadata": {},
   "outputs": [],
   "source": [
    "#WAP to check whether a character is in the lowercase or not. If the lowercase, to perform the replication operation on that character.\n",
    "n=input()\n",
    "if ch.islower():\n",
    "    b=\"haii\"\n",
    "    b[n]=b*6\n",
    "    print(b)"
   ]
  },
  {
   "cell_type": "code",
   "execution_count": null,
   "metadata": {},
   "outputs": [],
   "source": [
    "# WAP to check whether a character is in the ascii number or not. If the ascii number, to convert into integer."
   ]
  },
  {
   "cell_type": "code",
   "execution_count": null,
   "metadata": {},
   "outputs": [],
   "source": [
    "# WAP to check whether a character is in the special symbol or not. If the special symbol, to display a symbol with ascii value."
   ]
  },
  {
   "cell_type": "code",
   "execution_count": null,
   "metadata": {},
   "outputs": [],
   "source": [
    "# WAP to check whether a character is an even number or not. If the even number, to display an even number"
   ]
  },
  {
   "cell_type": "code",
   "execution_count": null,
   "metadata": {},
   "outputs": [],
   "source": [
    "# WAP to check whether a Given two integers a and b, if any of the integers is 10 or if their sum is 10, to perform the sum of the numbers and to display  the square of the result."
   ]
  },
  {
   "cell_type": "code",
   "execution_count": null,
   "metadata": {},
   "outputs": [],
   "source": [
    "# WAP to check whether a character is in the vowel or not. If the vowel,print the next character.\n"
   ]
  },
  {
   "cell_type": "code",
   "execution_count": null,
   "metadata": {},
   "outputs": [],
   "source": [
    "# WAP to check whether a character is in the not a vowel. If it's not a vowel,print the previous character."
   ]
  },
  {
   "cell_type": "code",
   "execution_count": null,
   "metadata": {},
   "outputs": [],
   "source": [
    "# WAP to check whether a given value is a single value data type or not. If single value, display the given value as a single value data type."
   ]
  },
  {
   "cell_type": "code",
   "execution_count": null,
   "metadata": {},
   "outputs": [],
   "source": [
    "# WAP to check whether a given value is a multi-value data type or not. If multi value, store the given value inside the tuple and display it."
   ]
  },
  {
   "cell_type": "code",
   "execution_count": null,
   "metadata": {},
   "outputs": [],
   "source": [
    "# WAP to check whether a given value is an immutable data type or not. If an immutable data type value, store the given value inside the set and display it."
   ]
  },
  {
   "cell_type": "code",
   "execution_count": null,
   "metadata": {},
   "outputs": [],
   "source": [
    "# WAP to check whether the middle element of a given list is odd or not. If it is odd then print odd then print the number else directly print the number"
   ]
  },
  {
   "cell_type": "code",
   "execution_count": null,
   "metadata": {},
   "outputs": [],
   "source": [
    "# WAP Return a new string with \"not\" prefixed to the front of the original string. Return the string unmodified if the string already has the word \"not\" at the beginning"
   ]
  },
  {
   "cell_type": "code",
   "execution_count": null,
   "metadata": {},
   "outputs": [],
   "source": [
    "# WAP to check whether a given string(str) and one integer(n) value, to display a new string that is devoid of the character at index n. if you are given a non-empty string and an int n. The value of n will be a legitimate character index from the original string, therefore it will fall within the range of 0 to len(str)-1, inclusive."
   ]
  },
  {
   "cell_type": "code",
   "execution_count": null,
   "metadata": {},
   "outputs": [],
   "source": [
    "# WAP to check whether the two variables are pointing to the same memory location or not if they are pointing to the same memory location then print the address of both the variables."
   ]
  },
  {
   "cell_type": "code",
   "execution_count": null,
   "metadata": {},
   "outputs": [],
   "source": [
    "# WAP to check whether the given length of the string is even or not. If the condition is satisfied, display the sequence of characters from zero position to length of collection -2. "
   ]
  }
 ],
 "metadata": {
  "kernelspec": {
   "display_name": "Python 3",
   "language": "python",
   "name": "python3"
  },
  "language_info": {
   "codemirror_mode": {
    "name": "ipython",
    "version": 3
   },
   "file_extension": ".py",
   "mimetype": "text/x-python",
   "name": "python",
   "nbconvert_exporter": "python",
   "pygments_lexer": "ipython3",
   "version": "3.11.3"
  },
  "orig_nbformat": 4
 },
 "nbformat": 4,
 "nbformat_minor": 2
}
