{
 "cells": [
  {
   "cell_type": "code",
   "execution_count": 4,
   "metadata": {},
   "outputs": [
    {
     "name": "stdout",
     "output_type": "stream",
     "text": [
      "given number is positive,n\n"
     ]
    }
   ],
   "source": [
    "# WAP to given number is positive or not\n",
    "n=int(input())\n",
    "if n>0:\n",
    "    print(\"given number is positive,n\")"
   ]
  },
  {
   "cell_type": "code",
   "execution_count": 6,
   "metadata": {},
   "outputs": [
    {
     "name": "stdout",
     "output_type": "stream",
     "text": [
      "25\n"
     ]
    }
   ],
   "source": [
    "# WAP to given number is negative number or not\n",
    "n=eval(input())\n",
    "if n<0:\n",
    "    print(n*n)"
   ]
  },
  {
   "cell_type": "code",
   "execution_count": 8,
   "metadata": {},
   "outputs": [
    {
     "name": "stdout",
     "output_type": "stream",
     "text": [
      "4\n"
     ]
    }
   ],
   "source": [
    "#wap to given number is even or not\n",
    "n=eval(input())\n",
    "if n%2==0:\n",
    "    print(n*n)"
   ]
  },
  {
   "cell_type": "code",
   "execution_count": 9,
   "metadata": {},
   "outputs": [
    {
     "name": "stdout",
     "output_type": "stream",
     "text": [
      "25.0\n"
     ]
    }
   ],
   "source": [
    "n=eval(input())\n",
    "if type(n)==int or type(n)==float:\n",
    "    print(n*n)"
   ]
  },
  {
   "cell_type": "code",
   "execution_count": 10,
   "metadata": {},
   "outputs": [
    {
     "name": "stdout",
     "output_type": "stream",
     "text": [
      "prasad45\n"
     ]
    }
   ],
   "source": [
    "n=eval(input())\n",
    "s=\"prasad\"\n",
    "if n>25 and n%5==0 and n%9==0:\n",
    "    s+=str(n)\n",
    "print(s)"
   ]
  },
  {
   "cell_type": "code",
   "execution_count": 12,
   "metadata": {},
   "outputs": [
    {
     "name": "stdout",
     "output_type": "stream",
     "text": [
      "hello world\n"
     ]
    }
   ],
   "source": [
    "# WAP to display hello world if the number is greater than 1 and less than 5\n",
    "n=eval(input())\n",
    "if n>1 and n<5:\n",
    "    print(\"hello world\")"
   ]
  },
  {
   "cell_type": "code",
   "execution_count": 14,
   "metadata": {},
   "outputs": [
    {
     "name": "stdout",
     "output_type": "stream",
     "text": [
      "fizz\n"
     ]
    }
   ],
   "source": [
    "# WAP to check wheather the given number is divisible by 3 or not if print fizz\n",
    "n=eval(input())\n",
    "if n%3==0 or n!=0:\n",
    "    print('fizz')"
   ]
  },
  {
   "cell_type": "code",
   "execution_count": 15,
   "metadata": {},
   "outputs": [
    {
     "name": "stdout",
     "output_type": "stream",
     "text": [
      "(18+0j)\n"
     ]
    }
   ],
   "source": [
    "# WAP to check wheather the given number is divisible by 2 and 6 if the condition is satisfied , convert given number into a complex number \n",
    "n=eval(input())\n",
    "if n%2==0 and n%6==0:\n",
    "    print(complex(n))"
   ]
  },
  {
   "cell_type": "code",
   "execution_count": 18,
   "metadata": {},
   "outputs": [
    {
     "name": "stdout",
     "output_type": "stream",
     "text": [
      "30\n",
      "['3', '0']\n"
     ]
    }
   ],
   "source": [
    "# WAP to check wheather the given number is divisible by 3 and 5 if the condition is satisfied , convert given number into list \n",
    "n=eval(input())\n",
    "if n%3==0 or n%5==0:\n",
    "    print(str(n))\n",
    "print(list(str(n)))"
   ]
  },
  {
   "cell_type": "code",
   "execution_count": 24,
   "metadata": {},
   "outputs": [
    {
     "name": "stdout",
     "output_type": "stream",
     "text": [
      "20\n"
     ]
    }
   ],
   "source": [
    "# WAP to check whether a given number is multiple of 5 or not\n",
    "n=eval(input())\n",
    "if n*5==0 or n*5!=0:\n",
    "    print(n)"
   ]
  },
  {
   "cell_type": "code",
   "execution_count": 25,
   "metadata": {},
   "outputs": [
    {
     "name": "stdout",
     "output_type": "stream",
     "text": [
      "0\n"
     ]
    }
   ],
   "source": [
    "# WAP to check whether the given input is 0 or not if 0 ptint 0\n",
    "n=eval(input())\n",
    "if n==0 or n!=0:\n",
    "    print(0)"
   ]
  },
  {
   "cell_type": "code",
   "execution_count": 29,
   "metadata": {},
   "outputs": [
    {
     "name": "stdout",
     "output_type": "stream",
     "text": [
      "negative\n"
     ]
    }
   ],
   "source": [
    "# WAP to check wheatherna number is negative . if negative , print a message negative\n",
    "n=eval(input())\n",
    "if n<0:\n",
    "    print(\"negative\")"
   ]
  },
  {
   "cell_type": "code",
   "execution_count": 27,
   "metadata": {},
   "outputs": [
    {
     "name": "stdout",
     "output_type": "stream",
     "text": [
      "[10, 20]\n"
     ]
    }
   ],
   "source": [
    "# WAP to check wheather the given number is even or not. if even , store the values inside the list\n",
    "n=eval(input())\n",
    "s=[10,20]\n",
    "if n%2==0 or n%2!=0:\n",
    "    print(s)"
   ]
  }
 ],
 "metadata": {
  "kernelspec": {
   "display_name": "Python 3",
   "language": "python",
   "name": "python3"
  },
  "language_info": {
   "codemirror_mode": {
    "name": "ipython",
    "version": 3
   },
   "file_extension": ".py",
   "mimetype": "text/x-python",
   "name": "python",
   "nbconvert_exporter": "python",
   "pygments_lexer": "ipython3",
   "version": "3.11.3"
  },
  "orig_nbformat": 4
 },
 "nbformat": 4,
 "nbformat_minor": 2
}
