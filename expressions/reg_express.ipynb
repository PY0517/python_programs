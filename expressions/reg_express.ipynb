{
 "cells": [
  {
   "cell_type": "code",
   "execution_count": 21,
   "metadata": {},
   "outputs": [
    {
     "name": "stdout",
     "output_type": "stream",
     "text": [
      "['9988774411', '6354125892']\n"
     ]
    }
   ],
   "source": [
    "import re\n",
    "data=\"\"\"welcomme to python 9988774411 and 897451263 and 6354125892 1800 945456\"\"\"\n",
    "res=re.findall('[16789]{1}[0-9]{9}',data)\n",
    "print(res)"
   ]
  },
  {
   "cell_type": "code",
   "execution_count": 22,
   "metadata": {},
   "outputs": [
    {
     "name": "stdout",
     "output_type": "stream",
     "text": [
      "[]\n"
     ]
    }
   ],
   "source": [
    "import re\n",
    "data=\"\"\"welcome to python +92 9988774411 and +918974512634 and 6544887766 1800 985 456 +800668477 2569558866\"\"\"\n",
    "res=re.findall('1+[0-9]{2}\\s?[6789]{1}[0-9]{9}[16789]{1}\\d{3}\\s?\\d{3}\\s?\\d{3}',data)\n",
    "print(res)"
   ]
  },
  {
   "cell_type": "code",
   "execution_count": 25,
   "metadata": {},
   "outputs": [
    {
     "name": "stdout",
     "output_type": "stream",
     "text": [
      "['bob', 'bob', 'bob']\n",
      "3\n"
     ]
    }
   ],
   "source": [
    "import re\n",
    "data='''helobobjobhellobobhibob'''\n",
    "res=re.findall('bob',data)\n",
    "print(res)\n",
    "c=0\n",
    "for i in res:\n",
    "    c+=1\n",
    "print(c)"
   ]
  }
 ],
 "metadata": {
  "kernelspec": {
   "display_name": "Python 3",
   "language": "python",
   "name": "python3"
  },
  "language_info": {
   "codemirror_mode": {
    "name": "ipython",
    "version": 3
   },
   "file_extension": ".py",
   "mimetype": "text/x-python",
   "name": "python",
   "nbconvert_exporter": "python",
   "pygments_lexer": "ipython3",
   "version": "3.11.3"
  },
  "orig_nbformat": 4
 },
 "nbformat": 4,
 "nbformat_minor": 2
}
