{
 "cells": [
  {
   "cell_type": "code",
   "execution_count": 12,
   "metadata": {},
   "outputs": [
    {
     "name": "stdout",
     "output_type": "stream",
     "text": [
      "positive\n"
     ]
    }
   ],
   "source": [
    "#1.WAP to check whether a number is positive or negative. If Positive print positive message or else print Negative Number.\n",
    "n=10\n",
    "if n>0 or n<0:\n",
    "    res=(\"positive\")\n",
    "else:\n",
    "    res=('negative')\n",
    "print(res)"
   ]
  },
  {
   "cell_type": "code",
   "execution_count": 18,
   "metadata": {},
   "outputs": [
    {
     "name": "stdout",
     "output_type": "stream",
     "text": [
      "even\n"
     ]
    }
   ],
   "source": [
    "#2.WAP to check whether a number is even or odd. If even, print message an even or else print message as odd.\n",
    "n=22\n",
    "if n%2==0:\n",
    "    res=(\"even\")\n",
    "else:\n",
    "    res=('odd')\n",
    "print(res)"
   ]
  },
  {
   "cell_type": "code",
   "execution_count": 75,
   "metadata": {},
   "outputs": [
    {
     "name": "stdout",
     "output_type": "stream",
     "text": [
      "('not greater', 9.999)\n"
     ]
    }
   ],
   "source": [
    "# 3.Write a program to check whether a given number is greater than 10 or not. if it is greater than 10 print message as greater or else print that number with not a greater than.\n",
    "n=9.999\n",
    "if n>10:\n",
    "    res=('greater')\n",
    "else:\n",
    "    res=('not greater',n)\n",
    "print(res)\n"
   ]
  },
  {
   "cell_type": "code",
   "execution_count": 23,
   "metadata": {},
   "outputs": [
    {
     "name": "stdout",
     "output_type": "stream",
     "text": [
      "P\n"
     ]
    }
   ],
   "source": [
    "#4.WAP to check whether a given value is present in between 45 to 125. If value is present print the ascii character.\n",
    "n=77\n",
    "if 45<n<125:\n",
    "    res=('P')\n",
    "else:\n",
    "    res=('py')\n",
    "print(res)"
   ]
  },
  {
   "cell_type": "code",
   "execution_count": 24,
   "metadata": {},
   "outputs": [
    {
     "name": "stdout",
     "output_type": "stream",
     "text": [
      "Good morning\n"
     ]
    }
   ],
   "source": [
    "#5.WAP to check whether the given two input numbers are divisible by 3 and 5. If it is divisible, print “Good Morning”, if it is not print “Good Evening”.\n",
    "n=15\n",
    "m=30\n",
    "if n%3==0 and n%5==0 and m%3==0 and m%5==0:\n",
    "    res=('Good morning')\n",
    "else:\n",
    "    res=('Good evening')\n",
    "print(res)"
   ]
  },
  {
   "cell_type": "code",
   "execution_count": 15,
   "metadata": {},
   "outputs": [
    {
     "name": "stdout",
     "output_type": "stream",
     "text": [
      "(60, 'is largest')\n"
     ]
    }
   ],
   "source": [
    "#6.WAP to find the largest of two numbers.\n",
    "n=60\n",
    "m=50\n",
    "if (n>=m):\n",
    "    res=(n,\"is largest\")\n",
    "else:\n",
    "    res=(m, 'is largest')\n",
    "print(res)\n",
    "    "
   ]
  },
  {
   "cell_type": "code",
   "execution_count": 74,
   "metadata": {},
   "outputs": [
    {
     "ename": "TypeError",
     "evalue": "decoding str is not supported",
     "output_type": "error",
     "traceback": [
      "\u001b[1;31m---------------------------------------------------------------------------\u001b[0m",
      "\u001b[1;31mTypeError\u001b[0m                                 Traceback (most recent call last)",
      "Cell \u001b[1;32mIn[74], line 8\u001b[0m\n\u001b[0;32m      6\u001b[0m     \u001b[39mprint\u001b[39m(n\u001b[39m*\u001b[39mm)\n\u001b[0;32m      7\u001b[0m \u001b[39melse\u001b[39;00m:\n\u001b[1;32m----> 8\u001b[0m     \u001b[39mprint\u001b[39m(\u001b[39mstr\u001b[39;49m(\u001b[39m'\u001b[39;49m\u001b[39mn\u001b[39;49m\u001b[39m'\u001b[39;49m,\u001b[39m'\u001b[39;49m\u001b[39mm\u001b[39;49m\u001b[39m'\u001b[39;49m))\n",
      "\u001b[1;31mTypeError\u001b[0m: decoding str is not supported"
     ]
    }
   ],
   "source": [
    "#6]WAP to accept two integers and check whether they are equal or not.\n",
    "#If equal, multiply to value or quotation value and display it.\n",
    "n=10\n",
    "m=11\n",
    "if n==m:\n",
    "    print(n*m)\n",
    "else:\n",
    "    print(str('n','m'))"
   ]
  },
  {
   "cell_type": "code",
   "execution_count": null,
   "metadata": {},
   "outputs": [],
   "source": []
  },
  {
   "cell_type": "code",
   "execution_count": 34,
   "metadata": {},
   "outputs": [
    {
     "name": "stdout",
     "output_type": "stream",
     "text": [
      "Greater 25\n"
     ]
    }
   ],
   "source": [
    "#7.WAP to check whether the input number is greater than 10 or not if it is greater than 10 print messages as greater with print that number. if that number is not greater than 10 print that number.\n",
    "n=25\n",
    "if n>10:\n",
    "    res=('Greater 25')\n",
    "else:\n",
    "    res=('Not greaterthan 10')\n",
    "print(res)"
   ]
  },
  {
   "cell_type": "code",
   "execution_count": 68,
   "metadata": {},
   "outputs": [
    {
     "name": "stdout",
     "output_type": "stream",
     "text": [
      "79\n"
     ]
    }
   ],
   "source": [
    "#8.WAP to the given number integer, if n is greater than 21,print the absolute difference between n and 21 otherwise print twice the absolute difference.\n",
    "n=100\n",
    "if n>21:\n",
    "    res=(abs(n)-21)\n",
    "else:\n",
    "    res=2*(4)\n",
    "print(res)"
   ]
  },
  {
   "cell_type": "code",
   "execution_count": 70,
   "metadata": {},
   "outputs": [
    {
     "name": "stdout",
     "output_type": "stream",
     "text": [
      "(40, 'is samllest')\n"
     ]
    }
   ],
   "source": [
    "#9.WAP to find the smallest of two numbers.\n",
    "n=int(input())\n",
    "m=int(input())\n",
    "if (n<=m):\n",
    "    res=(n,\"is smallest\")\n",
    "else:\n",
    "    res=(m, 'is samllest')\n",
    "print(res)"
   ]
  },
  {
   "cell_type": "code",
   "execution_count": null,
   "metadata": {},
   "outputs": [],
   "source": [
    "#10]WAP to check whether the given number is even or odd. If it is even then make it as an odd number, if it is an odd number then make it as even number.\n",
    "n=2\n",
    "if n%2==0:"
   ]
  },
  {
   "cell_type": "code",
   "execution_count": 45,
   "metadata": {},
   "outputs": [
    {
     "name": "stdout",
     "output_type": "stream",
     "text": [
      "64\n"
     ]
    }
   ],
   "source": [
    "#11]WAP to check whether the given number is divisible by 3 or not if yes,print the number or else print the cube of the numbers.\n",
    "n=4\n",
    "if n%3==0:\n",
    "    print(15)\n",
    "else:\n",
    "    print(n*n*n)"
   ]
  },
  {
   "cell_type": "code",
   "execution_count": 61,
   "metadata": {},
   "outputs": [
    {
     "name": "stdout",
     "output_type": "stream",
     "text": [
      "30\n"
     ]
    }
   ],
   "source": [
    "#12]WAP to check whether the given input is divisible by 3 and 5. If yes print the actual number or else print string of that number. \n",
    "n=30\n",
    "if n%3==0 and n%5==0:\n",
    "    print(n)\n"
   ]
  },
  {
   "cell_type": "code",
   "execution_count": 76,
   "metadata": {},
   "outputs": [
    {
     "name": "stdout",
     "output_type": "stream",
     "text": [
      "289\n"
     ]
    }
   ],
   "source": [
    "#13]WAP to check whether the given number lies between 1 to 19, if it is true square that number or else false cube that number  and display the number.\n",
    "n=17\n",
    "if 1<n<19:\n",
    "    res=(n*n)\n",
    "else:\n",
    "    res=(n*n*n)\n",
    "print(res)"
   ]
  },
  {
   "cell_type": "code",
   "execution_count": 79,
   "metadata": {},
   "outputs": [
    {
     "name": "stdout",
     "output_type": "stream",
     "text": [
      "62 PASS\n"
     ]
    }
   ],
   "source": [
    "#14]WAP to check whether the student has passed or failed. If the student got more than 40 marks, print ‘PASS’ along with those marks, if it is not printed ‘FAIL’ along with those marks.\n",
    "n=62\n",
    "if n>40:\n",
    "    print(n,\"PASS\")\n",
    "else:\n",
    "    print(n,\"FAIL\")"
   ]
  },
  {
   "cell_type": "code",
   "execution_count": 90,
   "metadata": {},
   "outputs": [
    {
     "name": "stdout",
     "output_type": "stream",
     "text": [
      "7\n"
     ]
    }
   ],
   "source": [
    "#15]WAP to check whether a given value is even and in range of 47 to 58 and not in 0 or odd. if condition is True, to perform display the ascii character.or else to perform floor division with 5 and display it.\n",
    "n=55\n",
    "if n%2!=0 and (47<=n<58):\n",
    "    res=chr(n)\n",
    "else:\n",
    "    res=chr(n//5)\n",
    "print(res)"
   ]
  },
  {
   "cell_type": "code",
   "execution_count": 95,
   "metadata": {},
   "outputs": [
    {
     "name": "stdout",
     "output_type": "stream",
     "text": [
      "{122: 'z'} [1, 2, 3, 4]\n"
     ]
    }
   ],
   "source": [
    "#16]WAP to check whether a given value is less than 125 and in between 47 to 125 or not. if condition is True, to perform store the given value as key and value as a character into the dict.or else to append the value in list and display it.\n",
    "n=122\n",
    "d={}\n",
    "l=[1,2,3,4]\n",
    "if 47<n<125:\n",
    "    d[n]=chr(n)\n",
    "else:\n",
    "    l[len(l)//2:len(l)//2]=[n]\n",
    "print(d,l)"
   ]
  },
  {
   "cell_type": "code",
   "execution_count": 42,
   "metadata": {},
   "outputs": [
    {
     "name": "stdout",
     "output_type": "stream",
     "text": [
      "P P\n"
     ]
    }
   ],
   "source": [
    "#17]WAP to check whether a given character is in the alphabet or not. if alphabet, display the alphabet with character.or else display the not alphabet with character.\n",
    "n='P'\n",
    "if \"A\"<=n<='Z' or 'a'<=n<='z':\n",
    "    print(n,chr(ord(n)))\n",
    "else:\n",
    "    print('not alphabet',n)"
   ]
  },
  {
   "cell_type": "code",
   "execution_count": 30,
   "metadata": {},
   "outputs": [
    {
     "name": "stdout",
     "output_type": "stream",
     "text": [
      "N\n"
     ]
    }
   ],
   "source": [
    "#18]WAP to check whether a given character is uppercase or other character. if uppercase, display the uppercase with character.or else display the other character with character.\n",
    "n='N'\n",
    "if \"A\"<=n<='Z':\n",
    "    b=chr(ord(n))\n",
    "    print(b)\n",
    "else:\n",
    "    print(\"Other char\",n)\n"
   ]
  },
  {
   "cell_type": "code",
   "execution_count": 33,
   "metadata": {},
   "outputs": [
    {
     "name": "stdout",
     "output_type": "stream",
     "text": [
      "Other char *\n"
     ]
    }
   ],
   "source": [
    "#19]WAP to check whether a given character is lowercase or other character. if lowercase, display the lowercase with character.or else display the other character with character.\n",
    "n='*'\n",
    "if \"a\"<=n<='z':\n",
    "    b=chr(ord(n))\n",
    "    print(b)\n",
    "else:\n",
    "    print(\"Other char\",n)"
   ]
  },
  {
   "cell_type": "code",
   "execution_count": 3,
   "metadata": {},
   "outputs": [
    {
     "name": "stdout",
     "output_type": "stream",
     "text": [
      "a\n"
     ]
    }
   ],
   "source": [
    "#20]WAP to check whether a given character is uppercase or other character. if uppercase, convert to lowercase .or else display the ascii number.\n",
    "ch='A'\n",
    "if \"A\"<=ch<='Z':\n",
    "    b=chr(ord(ch)+32)\n",
    "else:\n",
    "    b=(ord(ch))\n",
    "print(b)\n"
   ]
  },
  {
   "cell_type": "code",
   "execution_count": 37,
   "metadata": {},
   "outputs": [
    {
     "name": "stdout",
     "output_type": "stream",
     "text": [
      "A\n"
     ]
    }
   ],
   "source": [
    "#21]WAP to check whether the given character is in lowercase or uppercase. If it is in lowercase, convert it into uppercase, or else it is in uppercase and convert it into lowercase. Display the value.\n",
    "ch='a'\n",
    "if \"a\"<=ch<='z':\n",
    "    print(ch.upper())\n",
    "else:\n",
    "    print(ch.lower())"
   ]
  },
  {
   "cell_type": "code",
   "execution_count": null,
   "metadata": {},
   "outputs": [],
   "source": [
    "#22]WAP to check whether the given string of the first character is a special symbol or not. If a special symbol, to extract and display the middle character or else to reverse the string and display the half of the string.\n"
   ]
  },
  {
   "cell_type": "code",
   "execution_count": 6,
   "metadata": {},
   "outputs": [
    {
     "name": "stdout",
     "output_type": "stream",
     "text": [
      "VOWEL\n"
     ]
    }
   ],
   "source": [
    "#23]WAP to check whether the input character is a vowel or not. If it is vowel print ‘VOWEL’ along with that character, if it is not just print ‘CONSONANT’.\n",
    "n=input()\n",
    "if n in 'AEIOUaeiou':\n",
    "    res=(\"VOWEL\")\n",
    "else:\n",
    "    res=('CONSONANT')\n",
    "print(res)"
   ]
  },
  {
   "cell_type": "code",
   "execution_count": 8,
   "metadata": {},
   "outputs": [
    {
     "name": "stdout",
     "output_type": "stream",
     "text": [
      "J\n"
     ]
    }
   ],
   "source": [
    "#24]WAP to check whether a given character is a vowel or consonant. if vowel,to print the next character of a given character or else print previous characters.\n",
    "n='I'\n",
    "if n in 'AEIOUaeiou':\n",
    "    res=(chr(ord(n)+1))\n",
    "else:\n",
    "    res=(chr(ord(ch)-1))\n",
    "print(res)"
   ]
  },
  {
   "cell_type": "code",
   "execution_count": 39,
   "metadata": {},
   "outputs": [
    {
     "name": "stdout",
     "output_type": "stream",
     "text": [
      "dasarp\n"
     ]
    }
   ],
   "source": [
    "#25]WAP to check whether a given string of first character is alphabet or not\n",
    "#if the alphabet prints reverse the string or else print the middle character.\n",
    "n='prasad'\n",
    "if 'A'<=n<='z' and 'a'<=n<='z':\n",
    "    res=n[-1::-1]\n",
    "else:\n",
    "    res=n[len(n)//2]\n",
    "print(res)\n"
   ]
  },
  {
   "cell_type": "code",
   "execution_count": 47,
   "metadata": {},
   "outputs": [
    {
     "name": "stdout",
     "output_type": "stream",
     "text": [
      "A\n"
     ]
    }
   ],
   "source": [
    "#26]WAP to check whether the given input character is uppercase or lowercase. If the input character is upper case convert into lower case and vice versa.\n",
    "ch='a'\n",
    "if 'A'<=ch<='Z':\n",
    "    print(ch.lower())\n",
    "else:\n",
    "    print(ch.upper())"
   ]
  },
  {
   "cell_type": "code",
   "execution_count": 56,
   "metadata": {},
   "outputs": [
    {
     "name": "stdout",
     "output_type": "stream",
     "text": [
      "ok\n"
     ]
    }
   ],
   "source": [
    "#27]WAP to check whether a given string is less than 3 characters, to print the entire string otherwise to print after third positions to the remaining string.\n",
    "n=\"ok\"\n",
    "if len(n)<3:\n",
    "    print(n)\n",
    "else:\n",
    "    print(n[3::])"
   ]
  },
  {
   "cell_type": "code",
   "execution_count": 68,
   "metadata": {},
   "outputs": [
    {
     "name": "stdout",
     "output_type": "stream",
     "text": [
      "('h', 'y')\n"
     ]
    }
   ],
   "source": [
    "#28]WAP to check whether a given length of the string is even or not. if even, to append the new string called \"bye\" or else print the first and last characters.\n",
    "n='helloworldy'\n",
    "if len(n)%2==0:\n",
    "    res=n+'bye'\n",
    "else:\n",
    "    res=(n[0],n[-1])\n",
    "print(res)\n"
   ]
  },
  {
   "cell_type": "code",
   "execution_count": 156,
   "metadata": {},
   "outputs": [
    {
     "name": "stdout",
     "output_type": "stream",
     "text": [
      "Haiihello\n"
     ]
    }
   ],
   "source": [
    "#30]WAP to check whether a given length of the string is odd or not. if odd, to append the new string(\"Haii\") from the starting of the given string, or else to avoid the starting character and ending character of the given string and to display the remaining characters\n",
    "n='hello'\n",
    "if len(n)%2!=0:\n",
    "    res='Haii'+n\n",
    "    print(res)\n",
    "else:\n",
    "    res=n[1:]+n[-1:1]\n",
    "    print(res)"
   ]
  },
  {
   "cell_type": "code",
   "execution_count": 159,
   "metadata": {},
   "outputs": [
    {
     "ename": "SyntaxError",
     "evalue": "invalid syntax (2888450922.py, line 5)",
     "output_type": "error",
     "traceback": [
      "\u001b[1;36m  Cell \u001b[1;32mIn[159], line 5\u001b[1;36m\u001b[0m\n\u001b[1;33m    if not('A'<=n<='Z' and 'a'<=n<='z') 0<=n<=9 and :\u001b[0m\n\u001b[1;37m                                        ^\u001b[0m\n\u001b[1;31mSyntaxError\u001b[0m\u001b[1;31m:\u001b[0m invalid syntax\n"
     ]
    }
   ],
   "source": [
    "#31]WAP to check whether the last of the given string is a special character or not, \n",
    "#if the special character prints reverse the string except the last character or else to check if the length of the string is odd or not, \n",
    "#if odd to extract the middle character to the end of the string.\n",
    "n='prasad@'\n",
    "if not('A'<=n<='Z' and 'a'<=n<='z') 0<=n<=9 and :\n",
    "    res=n[-1::1]\n",
    "    print(res)"
   ]
  },
  {
   "cell_type": "code",
   "execution_count": null,
   "metadata": {},
   "outputs": [],
   "source": []
  },
  {
   "cell_type": "code",
   "execution_count": null,
   "metadata": {},
   "outputs": [],
   "source": []
  },
  {
   "cell_type": "code",
   "execution_count": null,
   "metadata": {},
   "outputs": [],
   "source": []
  },
  {
   "cell_type": "code",
   "execution_count": null,
   "metadata": {},
   "outputs": [],
   "source": []
  },
  {
   "cell_type": "code",
   "execution_count": null,
   "metadata": {},
   "outputs": [],
   "source": []
  },
  {
   "cell_type": "code",
   "execution_count": null,
   "metadata": {},
   "outputs": [],
   "source": []
  },
  {
   "cell_type": "code",
   "execution_count": null,
   "metadata": {},
   "outputs": [],
   "source": []
  },
  {
   "cell_type": "code",
   "execution_count": null,
   "metadata": {},
   "outputs": [],
   "source": []
  },
  {
   "cell_type": "code",
   "execution_count": null,
   "metadata": {},
   "outputs": [],
   "source": []
  },
  {
   "cell_type": "code",
   "execution_count": null,
   "metadata": {},
   "outputs": [],
   "source": []
  },
  {
   "cell_type": "code",
   "execution_count": null,
   "metadata": {},
   "outputs": [],
   "source": []
  },
  {
   "cell_type": "code",
   "execution_count": null,
   "metadata": {},
   "outputs": [],
   "source": []
  },
  {
   "cell_type": "code",
   "execution_count": null,
   "metadata": {},
   "outputs": [],
   "source": []
  }
 ],
 "metadata": {
  "kernelspec": {
   "display_name": "Python 3",
   "language": "python",
   "name": "python3"
  },
  "language_info": {
   "codemirror_mode": {
    "name": "ipython",
    "version": 3
   },
   "file_extension": ".py",
   "mimetype": "text/x-python",
   "name": "python",
   "nbconvert_exporter": "python",
   "pygments_lexer": "ipython3",
   "version": "3.11.3"
  },
  "orig_nbformat": 4
 },
 "nbformat": 4,
 "nbformat_minor": 2
}
