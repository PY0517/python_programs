{
 "cells": [
  {
   "cell_type": "code",
   "execution_count": 5,
   "metadata": {},
   "outputs": [
    {
     "name": "stdout",
     "output_type": "stream",
     "text": [
      "Largest element is: 40\n"
     ]
    }
   ],
   "source": [
    "#find largest number\n",
    "n=int(input(\"Enter number of elements:\"))\n",
    "a=[]\n",
    "for i in range(1,n+1):\n",
    "    b=int(input(\"Enter element:\"))\n",
    "    a.append(b)\n",
    "a.sort()\n",
    "print(\"Largest element is:\",a[n-1])"
   ]
  },
  {
   "cell_type": "code",
   "execution_count": 67,
   "metadata": {},
   "outputs": [
    {
     "name": "stdout",
     "output_type": "stream",
     "text": [
      "80\n",
      "[10, 20, 40, 50, 80]\n"
     ]
    }
   ],
   "source": [
    "l=[10,20,50,40,80]\n",
    "p=0\n",
    "k=len(l)\n",
    "for i in range(k):\n",
    "    for j in range(k):\n",
    "        if l[i]<l[j]:\n",
    "            p=l[i]\n",
    "            l[i]=l[j]\n",
    "            l[j]=p\n",
    "print(l[-1])\n",
    "print(l)"
   ]
  },
  {
   "cell_type": "code",
   "execution_count": 9,
   "metadata": {},
   "outputs": [
    {
     "name": "stdout",
     "output_type": "stream",
     "text": [
      "Largest element is: 5\n"
     ]
    }
   ],
   "source": [
    "#Find Second Largest Number in a List\n",
    "n=int(input(\"Enter number of elements:\"))\n",
    "a=[]\n",
    "for i in range(1,n+1):\n",
    "    b=int(input(\"Enter element:\"))\n",
    "    a.append(b)\n",
    "a.sort()\n",
    "print(\"Largest element is:\",a[n-2])\n"
   ]
  },
  {
   "cell_type": "code",
   "execution_count": 21,
   "metadata": {},
   "outputs": [
    {
     "name": "stdout",
     "output_type": "stream",
     "text": [
      "Largest even number: 10\n",
      "Largest odd number 15\n"
     ]
    }
   ],
   "source": [
    "# Largest Even and Largest Odd Number in a List \n",
    "n=int(input(\"Enter the number of elements to be in the list:\"))\n",
    "b=[]\n",
    "for i in range(0,n):\n",
    "    a=int(input(\"Element: \"))\n",
    "    b.append(a)\n",
    "c=[]\n",
    "d=[]\n",
    "for i in b:\n",
    "    if(i%2==0):\n",
    "        c.append(i)\n",
    "    else:\n",
    "        d.append(i)\n",
    "c.sort()\n",
    "d.sort()\n",
    "count1=0\n",
    "count2=0\n",
    "for k in c:\n",
    "    count1=count1+1\n",
    "for j in d:\n",
    "    count2=count2+1\n",
    "print(\"Largest even number:\",c[count1-1])\n",
    "print(\"Largest odd number\",d[count2-1])"
   ]
  },
  {
   "cell_type": "code",
   "execution_count": 30,
   "metadata": {},
   "outputs": [
    {
     "name": "stdout",
     "output_type": "stream",
     "text": [
      "Largest even number: 40\n",
      "Largest odd number 17\n"
     ]
    }
   ],
   "source": [
    "# second Largest Even and Largest Odd Number in a List \n",
    "n=int(input(\"Enter the number of elements to be in the list:\"))\n",
    "b=[]\n",
    "for i in range(0,n):\n",
    "    a=int(input(\"Element: \"))\n",
    "    b.append(a)\n",
    "c=[]\n",
    "d=[]\n",
    "for i in b:\n",
    "    if(i%2==0):\n",
    "        c.append(i)\n",
    "    else:\n",
    "        d.append(i)\n",
    "c.sort()\n",
    "d.sort()\n",
    "print(\"Largest even number:\",c[-2])\n",
    "print(\"Largest odd number\",d[-2])"
   ]
  },
  {
   "cell_type": "code",
   "execution_count": 38,
   "metadata": {},
   "outputs": [
    {
     "name": "stdout",
     "output_type": "stream",
     "text": [
      "[15, 13, 17, 15]\n",
      "[14, 12, 50, 30, 20, 10]\n"
     ]
    }
   ],
   "source": [
    "#Split Even and Odd Elements into Two Lists\n",
    "n=int(input(\"enter the number of elements\"))\n",
    "m=[]\n",
    "for i in range(1,n+1):\n",
    "    b=int(input(\"enter the elements\"))\n",
    "    m.append(b)\n",
    "even=[]\n",
    "odd=[]\n",
    "for j in m:\n",
    "    if j%2==0:\n",
    "        even.append(j)\n",
    "    else:\n",
    "        odd.append(j)\n",
    "print(odd)\n",
    "print(even)"
   ]
  },
  {
   "cell_type": "code",
   "execution_count": 59,
   "metadata": {},
   "outputs": [
    {
     "name": "stdout",
     "output_type": "stream",
     "text": [
      "[22, 20, 24, 18]\n",
      "Average of elements in the list 21.0\n"
     ]
    }
   ],
   "source": [
    "#Find Average of a List\n",
    "n=int(input(\"Enter the number of elements to be inserted: \"))\n",
    "a=[]\n",
    "for i in range(0,n):\n",
    "    elem=int(input(\"Enter element: \"))\n",
    "    a.append(elem)\n",
    "print(a)\n",
    "avg=sum(a)/n\n",
    "print(\"Average of elements in the list\",round(avg,2))"
   ]
  },
  {
   "cell_type": "code",
   "execution_count": null,
   "metadata": {},
   "outputs": [],
   "source": []
  }
 ],
 "metadata": {
  "kernelspec": {
   "display_name": "Python 3",
   "language": "python",
   "name": "python3"
  },
  "language_info": {
   "codemirror_mode": {
    "name": "ipython",
    "version": 3
   },
   "file_extension": ".py",
   "mimetype": "text/x-python",
   "name": "python",
   "nbconvert_exporter": "python",
   "pygments_lexer": "ipython3",
   "version": "3.11.3"
  },
  "orig_nbformat": 4
 },
 "nbformat": 4,
 "nbformat_minor": 2
}
