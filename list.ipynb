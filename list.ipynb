{
 "cells": [
  {
   "cell_type": "code",
   "execution_count": 42,
   "metadata": {},
   "outputs": [
    {
     "name": "stdout",
     "output_type": "stream",
     "text": [
      "Largest element is: 30\n"
     ]
    }
   ],
   "source": [
    "#find largest number\n",
    "n=int(input(\"Enter number of elements:\"))\n",
    "a=[]\n",
    "for i in range(0,n):\n",
    "    b=int(input(\"Enter element:\"))\n",
    "    a.append(b)\n",
    "a.sort()\n",
    "print(\"Largest element is:\",a[n-1])"
   ]
  },
  {
   "cell_type": "code",
   "execution_count": 67,
   "metadata": {},
   "outputs": [
    {
     "name": "stdout",
     "output_type": "stream",
     "text": [
      "80\n",
      "[10, 20, 40, 50, 80]\n"
     ]
    }
   ],
   "source": [
    "l=[10,20,50,40,80]\n",
    "p=0\n",
    "k=len(l)\n",
    "for i in range(k):\n",
    "    for j in range(k):\n",
    "        if l[i]<l[j]:\n",
    "            p=l[i]\n",
    "            l[i]=l[j]\n",
    "            l[j]=p\n",
    "print(l[-1])\n",
    "print(l)"
   ]
  },
  {
   "cell_type": "code",
   "execution_count": 9,
   "metadata": {},
   "outputs": [
    {
     "name": "stdout",
     "output_type": "stream",
     "text": [
      "Largest element is: 5\n"
     ]
    }
   ],
   "source": [
    "#Find Second Largest Number in a List\n",
    "n=int(input(\"Enter number of elements:\"))\n",
    "a=[]\n",
    "for i in range(1,n+1):\n",
    "    b=int(input(\"Enter element:\"))\n",
    "    a.append(b)\n",
    "a.sort()\n",
    "print(\"Largest element is:\",a[n-2])\n"
   ]
  },
  {
   "cell_type": "code",
   "execution_count": 21,
   "metadata": {},
   "outputs": [
    {
     "name": "stdout",
     "output_type": "stream",
     "text": [
      "Largest even number: 10\n",
      "Largest odd number 15\n"
     ]
    }
   ],
   "source": [
    "# Largest Even and Largest Odd Number in a List \n",
    "n=int(input(\"Enter the number of elements to be in the list:\"))\n",
    "b=[]\n",
    "for i in range(0,n):\n",
    "    a=int(input(\"Element: \"))\n",
    "    b.append(a)\n",
    "c=[]\n",
    "d=[]\n",
    "for i in b:\n",
    "    if(i%2==0):\n",
    "        c.append(i)\n",
    "    else:\n",
    "        d.append(i)\n",
    "c.sort()\n",
    "d.sort()\n",
    "count1=0\n",
    "count2=0\n",
    "for k in c:\n",
    "    count1=count1+1\n",
    "for j in d:\n",
    "    count2=count2+1\n",
    "print(\"Largest even number:\",c[count1-1])\n",
    "print(\"Largest odd number\",d[count2-1])"
   ]
  },
  {
   "cell_type": "code",
   "execution_count": 30,
   "metadata": {},
   "outputs": [
    {
     "name": "stdout",
     "output_type": "stream",
     "text": [
      "Largest even number: 40\n",
      "Largest odd number 17\n"
     ]
    }
   ],
   "source": [
    "# second Largest Even and Largest Odd Number in a List \n",
    "n=int(input(\"Enter the number of elements to be in the list:\"))\n",
    "b=[]\n",
    "for i in range(0,n):\n",
    "    a=int(input(\"Element: \"))\n",
    "    b.append(a)\n",
    "c=[]\n",
    "d=[]\n",
    "for i in b:\n",
    "    if(i%2==0):\n",
    "        c.append(i)\n",
    "    else:\n",
    "        d.append(i)\n",
    "c.sort()\n",
    "d.sort()\n",
    "print(\"Largest even number:\",c[-2])\n",
    "print(\"Largest odd number\",d[-2])"
   ]
  },
  {
   "cell_type": "code",
   "execution_count": 38,
   "metadata": {},
   "outputs": [
    {
     "name": "stdout",
     "output_type": "stream",
     "text": [
      "[15, 13, 17, 15]\n",
      "[14, 12, 50, 30, 20, 10]\n"
     ]
    }
   ],
   "source": [
    "#Split Even and Odd Elements into Two Lists\n",
    "n=int(input(\"enter the number of elements\"))\n",
    "m=[]\n",
    "for i in range(1,n+1):\n",
    "    b=int(input(\"enter the elements\"))\n",
    "    m.append(b)\n",
    "even=[]\n",
    "odd=[]\n",
    "for j in m:\n",
    "    if j%2==0:\n",
    "        even.append(j)\n",
    "    else:\n",
    "        odd.append(j)\n",
    "print(odd)\n",
    "print(even)"
   ]
  },
  {
   "cell_type": "code",
   "execution_count": 59,
   "metadata": {},
   "outputs": [
    {
     "name": "stdout",
     "output_type": "stream",
     "text": [
      "[22, 20, 24, 18]\n",
      "Average of elements in the list 21.0\n"
     ]
    }
   ],
   "source": [
    "#Find Average of a List\n",
    "n=int(input(\"Enter the number of elements to be inserted: \"))\n",
    "a=[]\n",
    "for i in range(0,n):\n",
    "    elem=int(input(\"Enter element: \"))\n",
    "    a.append(elem)\n",
    "print(a)\n",
    "avg=sum(a)/n\n",
    "print(\"Average of elements in the list\",round(avg,2))"
   ]
  },
  {
   "cell_type": "code",
   "execution_count": 37,
   "metadata": {},
   "outputs": [
    {
     "name": "stdout",
     "output_type": "stream",
     "text": [
      "[10, -12, 15]\n",
      "sum of all even no: 10\n",
      "sum of all odd no: 15\n",
      "sum of all negative no: 1\n"
     ]
    }
   ],
   "source": [
    "#Print Sum of Negative Numbers, Positive Even Numbers and Positive Odd numbers in a List\n",
    "n=int(input())\n",
    "a=[]\n",
    "for i in range(0,n):\n",
    "    b=int(input())\n",
    "    a.append(b)\n",
    "even=0\n",
    "odd=0\n",
    "sum=0\n",
    "for j in a:\n",
    "    if (j>0):\n",
    "        if (j%2)==0:\n",
    "            even+=j\n",
    "        else:\n",
    "           odd+=j\n",
    "    else:\n",
    "        sum+=1\n",
    "print(a)\n",
    "print(\"sum of all even no:\",even)\n",
    "print(\"sum of all odd no:\",odd)\n",
    "print(\"sum of all negative no:\",sum)\n",
    "\n",
    "    "
   ]
  },
  {
   "cell_type": "code",
   "execution_count": 15,
   "metadata": {},
   "outputs": [
    {
     "name": "stdout",
     "output_type": "stream",
     "text": [
      "[517, 37, 40, 35, 37]\n",
      "2\n"
     ]
    }
   ],
   "source": [
    "#Count Occurrences of Element in List\n",
    "n=int(input())\n",
    "a=[]\n",
    "for i in range(0,n):\n",
    "    b=int(input())\n",
    "    a.append(b)\n",
    "count=0\n",
    "m=int(input())\n",
    "for j in a:\n",
    "    if m==j:\n",
    "        count+=1\n",
    "print(a)\n",
    "print(count)"
   ]
  },
  {
   "cell_type": "code",
   "execution_count": 21,
   "metadata": {},
   "outputs": [
    {
     "name": "stdout",
     "output_type": "stream",
     "text": [
      "The list is:\n",
      "[40, 37, 40]\n",
      "Sum of items in list:\n",
      "117\n"
     ]
    }
   ],
   "source": [
    "#Find the Sum of Elements in a List using Recursion\n",
    "def sum_arr(arr,size):\n",
    "   if (size == 0):\n",
    "     return 0\n",
    "   else:\n",
    "     return arr[size-1] + sum_arr(arr,size-1)\n",
    "n=int(input(\"Enter the number of elements for list:\"))\n",
    "a=[]\n",
    "for i in range(0,n):\n",
    "    element=int(input(\"Enter element:\"))\n",
    "    a.append(element)\n",
    "print(\"The list is:\")\n",
    "print(a)\n",
    "print(\"Sum of items in list:\")\n",
    "b=sum_arr(a,n)\n",
    "print(b)"
   ]
  },
  {
   "cell_type": "code",
   "execution_count": 28,
   "metadata": {},
   "outputs": [
    {
     "name": "stdout",
     "output_type": "stream",
     "text": [
      "Length of the string is: \n",
      "[1, 2, 3]\n"
     ]
    }
   ],
   "source": [
    "def length(lst):\n",
    "    if not lst:\n",
    "        return 0\n",
    "    return 1 + length(lst[1::2]) + length(lst[2::2])\n",
    "a=[1,2,3]\n",
    "print(\"Length of the string is: \")\n",
    "print(a)"
   ]
  },
  {
   "cell_type": "code",
   "execution_count": 33,
   "metadata": {},
   "outputs": [
    {
     "name": "stdout",
     "output_type": "stream",
     "text": [
      "[15, 16, 13, 14]\n",
      "[14, 30]\n",
      "[13, 14, 14, 15, 16, 30]\n"
     ]
    }
   ],
   "source": [
    "# Merge Two Lists and Sort it\n",
    "a=[]\n",
    "c=[]\n",
    "n=int(input())\n",
    "for i in range(1,n+1):\n",
    "    b=int(input())\n",
    "    a.append(b)\n",
    "m=int(input(\"enter the element\"))\n",
    "for j in range(1,m+1):\n",
    "    d=int(input())\n",
    "    c.append(d)\n",
    "print(a)\n",
    "print(c)\n",
    "list=a+c\n",
    "list.sort()\n",
    "print(list)"
   ]
  },
  {
   "cell_type": "code",
   "execution_count": 35,
   "metadata": {},
   "outputs": [
    {
     "ename": "TypeError",
     "evalue": "bad operand type for unary +: 'str'",
     "output_type": "error",
     "traceback": [
      "\u001b[1;31m---------------------------------------------------------------------------\u001b[0m",
      "\u001b[1;31mTypeError\u001b[0m                                 Traceback (most recent call last)",
      "Cell \u001b[1;32mIn[35], line 4\u001b[0m\n\u001b[0;32m      2\u001b[0m a\u001b[39m=\u001b[39m[]\n\u001b[0;32m      3\u001b[0m \u001b[39mfor\u001b[39;00m i \u001b[39min\u001b[39;00m \u001b[39mrange\u001b[39m(\u001b[39m0\u001b[39m,n):\n\u001b[1;32m----> 4\u001b[0m     b\u001b[39m=\u001b[39m\u001b[39mint\u001b[39m(\u001b[39minput\u001b[39m(\u001b[39m+\u001b[39;49m \u001b[39mstr\u001b[39;49m(i\u001b[39m+\u001b[39;49m\u001b[39m1\u001b[39;49m) \u001b[39m+\u001b[39m \u001b[39m\"\u001b[39m\u001b[39m:\u001b[39m\u001b[39m\"\u001b[39m))\n\u001b[0;32m      5\u001b[0m     a\u001b[39m.\u001b[39mappend(b)\n\u001b[0;32m      6\u001b[0m l\u001b[39m=\u001b[39m\u001b[39mset\u001b[39m()\n",
      "\u001b[1;31mTypeError\u001b[0m: bad operand type for unary +: 'str'"
     ]
    }
   ],
   "source": [
    "n=int(input())\n",
    "a=[]\n",
    "for i in range(0,n):\n",
    "    b=int(input(+ str(i+1) + \":\"))\n",
    "    a.append(b)\n",
    "l=set()\n",
    "c=[]\n",
    "for i in a:\n",
    "    if i not in l:\n",
    "        c.append(i)\n",
    "        c.add(i)\n",
    "print(c)"
   ]
  }
 ],
 "metadata": {
  "kernelspec": {
   "display_name": "Python 3",
   "language": "python",
   "name": "python3"
  },
  "language_info": {
   "codemirror_mode": {
    "name": "ipython",
    "version": 3
   },
   "file_extension": ".py",
   "mimetype": "text/x-python",
   "name": "python",
   "nbconvert_exporter": "python",
   "pygments_lexer": "ipython3",
   "version": "3.11.3"
  },
  "orig_nbformat": 4
 },
 "nbformat": 4,
 "nbformat_minor": 2
}
