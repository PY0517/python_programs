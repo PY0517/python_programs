{
 "cells": [
  {
   "cell_type": "code",
   "execution_count": 8,
   "metadata": {},
   "outputs": [
    {
     "name": "stdout",
     "output_type": "stream",
     "text": [
      "Name of vechicle FZ\n",
      "Type of vechicle Bike\n",
      "Speed of the vechicle 180 Kmph\n",
      "--------------------------------------------------\n",
      "Name of vechicle Bmw\n",
      "Type of vechicle Car\n",
      "Speed of the vechicle 300 Kmph\n"
     ]
    }
   ],
   "source": [
    "class vechiles:\n",
    "    def __init__(self,name,typ,speed):\n",
    "        self.name=name\n",
    "        self.typ=typ\n",
    "        self.speed=speed\n",
    "    def obj(self):\n",
    "        print(\"Name of vechicle\",self.name)\n",
    "        print(\"Type of vechicle\",self.typ)\n",
    "        print(\"Speed of the vechicle\",self.speed,\"Kmph\")\n",
    "obj1=vechiles(\"FZ\",\"Bike\",180)\n",
    "obj2=vechiles(\"Bmw\",\"Car\",300)\n",
    "obj1.obj()\n",
    "print(\"-\"*50)\n",
    "obj2.obj()"
   ]
  },
  {
   "cell_type": "code",
   "execution_count": null,
   "metadata": {},
   "outputs": [],
   "source": []
  }
 ],
 "metadata": {
  "kernelspec": {
   "display_name": "Python 3",
   "language": "python",
   "name": "python3"
  },
  "language_info": {
   "codemirror_mode": {
    "name": "ipython",
    "version": 3
   },
   "file_extension": ".py",
   "mimetype": "text/x-python",
   "name": "python",
   "nbconvert_exporter": "python",
   "pygments_lexer": "ipython3",
   "version": "3.11.3"
  },
  "orig_nbformat": 4
 },
 "nbformat": 4,
 "nbformat_minor": 2
}
