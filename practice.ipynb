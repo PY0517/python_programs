{
 "cells": [
  {
   "cell_type": "code",
   "execution_count": 4,
   "metadata": {},
   "outputs": [
    {
     "name": "stdout",
     "output_type": "stream",
     "text": [
      "prasadyalla\n",
      "helloworld\n",
      "(10, 20, 30, 40, 50)\n"
     ]
    }
   ],
   "source": [
    "# WAE to modify the specific element in the given string\n",
    "\n",
    "#syntax: VN[SI:SP]+\"NEWVALUE\"+VN[SP+1:]\n",
    "s=\"prasaayalla\"\n",
    "res=s[0:5]+\"d\"+s[5+1:]\n",
    "print(res)\n",
    "\n",
    "p=\"hell0world\"\n",
    "res=p[0:4]+\"o\"+p[4+1:]\n",
    "print(res)\n",
    "\n",
    "t=(10,20,30,40,60)\n",
    "res=t[0:4]+(50,)+t[4+1:]\n",
    "print(res)\n"
   ]
  },
  {
   "cell_type": "code",
   "execution_count": 17,
   "metadata": {},
   "outputs": [
    {
     "name": "stdout",
     "output_type": "stream",
     "text": [
      "['apple', 'prasad', 517, 5, 17, 2001, 2003]\n",
      "['yalla', 'bat', 517, 5, 17, 2001, 2003]\n"
     ]
    }
   ],
   "source": [
    "# modification of sequence of elements \n",
    "\n",
    "#syntax: VN[SI:SP]+\"NEWVALUE\"+VN[SP+EI]\n",
    "\n",
    "L=[\"apple\",\"bat\",517,5,17,2001,2003]\n",
    "res=L[0:1]+[\"prasad\"]+L[2:]\n",
    "print(res)\n",
    "res=L[0:0]+[\"yalla\"]+L[1:]\n",
    "print(res)"
   ]
  },
  {
   "cell_type": "code",
   "execution_count": 19,
   "metadata": {},
   "outputs": [
    {
     "name": "stdout",
     "output_type": "stream",
     "text": [
      "hello\n",
      "good morning\n"
     ]
    }
   ],
   "source": [
    "#swap the 2 elements\n",
    "#Swapping two variables refers to mutually exchanging the values of the variables.\n",
    "x=\"hello\"\n",
    "y=\"good morning\"\n",
    "temp=x\n",
    "x=y\n",
    "y=temp\n",
    "print(y)\n",
    "print(x)"
   ]
  },
  {
   "cell_type": "code",
   "execution_count": 24,
   "metadata": {},
   "outputs": [
    {
     "name": "stdout",
     "output_type": "stream",
     "text": [
      "517\n",
      "510175\n"
     ]
    }
   ],
   "source": [
    "a=517\n",
    "print(a)\n",
    "a=510175\n",
    "print(a)\n",
    "del[a]\n"
   ]
  },
  {
   "cell_type": "code",
   "execution_count": 31,
   "metadata": {},
   "outputs": [
    {
     "name": "stdout",
     "output_type": "stream",
     "text": [
      "['5', '1', '7']\n"
     ]
    }
   ],
   "source": [
    "#single to multi variable DT\n",
    "x=517\n",
    "y=str(x)\n",
    "y\n",
    "s=list(y)\n",
    "print(s)"
   ]
  },
  {
   "cell_type": "code",
   "execution_count": 52,
   "metadata": {},
   "outputs": [
    {
     "name": "stdout",
     "output_type": "stream",
     "text": [
      "12\n",
      "6\n",
      "helloo\n",
      "prasad\n",
      "helloo good evening prasad\n"
     ]
    }
   ],
   "source": [
    "#len of collection \n",
    "#syntax; len(vn), len(vn)//2\n",
    "\n",
    "x=\"hellooprasad\"\n",
    "res=len(x)\n",
    "print(res)\n",
    "res=len(x)//2\n",
    "print(res)\n",
    "\n",
    "res=x[0:len(x)//2]\n",
    "print(res)\n",
    "res=x[len(x)//2:]\n",
    "print(res)\n",
    "res=x[0:len(x)//2]+(\" good evening \")+x[len(x)//2:]\n",
    "print(res)"
   ]
  },
  {
   "cell_type": "code",
   "execution_count": 14,
   "metadata": {},
   "outputs": [
    {
     "name": "stdout",
     "output_type": "stream",
     "text": [
      "qspiers\n",
      "qsrs\n"
     ]
    }
   ],
   "source": [
    "st=\"qspiders\"\n",
    "res=st[0:4]+st[4+1:]\n",
    "print(res)\n",
    "\n",
    "res=st[:2]+st[6:]\n",
    "print(res)"
   ]
  },
  {
   "cell_type": "code",
   "execution_count": 1,
   "metadata": {},
   "outputs": [
    {
     "name": "stdout",
     "output_type": "stream",
     "text": [
      "weird\n"
     ]
    }
   ],
   "source": [
    "n=int(input())\n",
    "if n%2==0:\n",
    "    print(\"weird\")\n",
    "else:\n",
    "    print(\"not weird\")"
   ]
  }
 ],
 "metadata": {
  "kernelspec": {
   "display_name": "Python 3",
   "language": "python",
   "name": "python3"
  },
  "language_info": {
   "codemirror_mode": {
    "name": "ipython",
    "version": 3
   },
   "file_extension": ".py",
   "mimetype": "text/x-python",
   "name": "python",
   "nbconvert_exporter": "python",
   "pygments_lexer": "ipython3",
   "version": "3.11.3"
  },
  "orig_nbformat": 4
 },
 "nbformat": 4,
 "nbformat_minor": 2
}
