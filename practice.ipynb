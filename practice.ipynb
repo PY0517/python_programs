{
 "cells": [
  {
   "cell_type": "code",
   "execution_count": 1,
   "metadata": {},
   "outputs": [
    {
     "name": "stdout",
     "output_type": "stream",
     "text": [
      "prasadyalla\n",
      "helloworld\n",
      "(10, 20, 30, 40, 50)\n"
     ]
    }
   ],
   "source": [
    "# WAE to modify the specific element in the given string\n",
    "\n",
    "#syntax: VN[SI:SP]+\"NEWVALUE\"+VN[SP+1:]\n",
    "s=\"prasaayalla\"\n",
    "res=s[0:5]+\"d\"+s[5+1:]\n",
    "print(res)\n",
    "\n",
    "p=\"hell0world\"\n",
    "res=p[0:4]+\"o\"+p[4+1:]\n",
    "print(res)\n",
    "\n",
    "t=(10,20,30,40,60)\n",
    "res=t[0:4]+(50,)+t[4+1:]\n",
    "print(res)\n"
   ]
  },
  {
   "cell_type": "code",
   "execution_count": 2,
   "metadata": {},
   "outputs": [
    {
     "name": "stdout",
     "output_type": "stream",
     "text": [
      "['apple', 'prasad', 517, 5, 17, 2001, 2003]\n",
      "['yalla', 'bat', 517, 5, 17, 2001, 2003]\n"
     ]
    }
   ],
   "source": [
    "# modification of sequence of elements \n",
    "\n",
    "#syntax: VN[SI:SP]+\"NEWVALUE\"+VN[SP+EI]\n",
    "\n",
    "L=[\"apple\",\"bat\",517,5,17,2001,2003]\n",
    "res=L[0:1]+[\"prasad\"]+L[2:]\n",
    "print(res)\n",
    "res=L[0:0]+[\"yalla\"]+L[1:]\n",
    "print(res)"
   ]
  },
  {
   "cell_type": "code",
   "execution_count": 3,
   "metadata": {},
   "outputs": [
    {
     "name": "stdout",
     "output_type": "stream",
     "text": [
      "hello\n",
      "good morning\n"
     ]
    }
   ],
   "source": [
    "#swap the 2 elements\n",
    "#Swapping two variables refers to mutually exchanging the values of the variables.\n",
    "x=\"hello\"\n",
    "y=\"good morning\"\n",
    "temp=x\n",
    "x=y\n",
    "y=temp\n",
    "print(y)\n",
    "print(x)"
   ]
  },
  {
   "cell_type": "code",
   "execution_count": 4,
   "metadata": {},
   "outputs": [
    {
     "name": "stdout",
     "output_type": "stream",
     "text": [
      "517\n",
      "510175\n"
     ]
    }
   ],
   "source": [
    "a=517\n",
    "print(a)\n",
    "a=510175\n",
    "print(a)\n",
    "del[a]\n"
   ]
  },
  {
   "cell_type": "code",
   "execution_count": 5,
   "metadata": {},
   "outputs": [
    {
     "name": "stdout",
     "output_type": "stream",
     "text": [
      "['5', '1', '7']\n"
     ]
    }
   ],
   "source": [
    "#single to multi variable DT\n",
    "x=517\n",
    "y=str(x)\n",
    "y\n",
    "s=list(y)\n",
    "print(s)"
   ]
  },
  {
   "cell_type": "code",
   "execution_count": 6,
   "metadata": {},
   "outputs": [
    {
     "name": "stdout",
     "output_type": "stream",
     "text": [
      "12\n",
      "6\n",
      "helloo\n",
      "prasad\n",
      "helloo good evening prasad\n"
     ]
    }
   ],
   "source": [
    "#len of collection \n",
    "#syntax; len(vn), len(vn)//2\n",
    "\n",
    "x=\"hellooprasad\"\n",
    "res=len(x)\n",
    "print(res)\n",
    "res=len(x)//2\n",
    "print(res)\n",
    "\n",
    "res=x[0:len(x)//2]\n",
    "print(res)\n",
    "res=x[len(x)//2:]\n",
    "print(res)\n",
    "res=x[0:len(x)//2]+(\" good evening \")+x[len(x)//2:]\n",
    "print(res)"
   ]
  },
  {
   "cell_type": "code",
   "execution_count": 7,
   "metadata": {},
   "outputs": [
    {
     "name": "stdout",
     "output_type": "stream",
     "text": [
      "qspiers\n",
      "qsrs\n"
     ]
    }
   ],
   "source": [
    "st=\"qspiders\"\n",
    "res=st[0:4]+st[4+1:]\n",
    "print(res)\n",
    "\n",
    "res=st[:2]+st[6:]\n",
    "print(res)"
   ]
  },
  {
   "cell_type": "code",
   "execution_count": 8,
   "metadata": {},
   "outputs": [
    {
     "name": "stdout",
     "output_type": "stream",
     "text": [
      "\n"
     ]
    }
   ],
   "source": [
    "n=(input())\n",
    "if 'A'<=n<='Z':\n",
    "    print(n)\n",
    "elif 'a'<=n<='z':\n",
    "    print(n,'lower case')\n",
    "else:\n",
    "    print(n)"
   ]
  },
  {
   "cell_type": "code",
   "execution_count": 9,
   "metadata": {},
   "outputs": [
    {
     "name": "stdout",
     "output_type": "stream",
     "text": [
      "['banana', 'cherry']\n"
     ]
    }
   ],
   "source": [
    "fruits = [\"apple\", \"banana\", \"cherry\"]\n",
    "del fruits[0]\n",
    "print(fruits)"
   ]
  },
  {
   "cell_type": "code",
   "execution_count": 10,
   "metadata": {},
   "outputs": [
    {
     "ename": "ValueError",
     "evalue": "invalid literal for int() with base 10: ''",
     "output_type": "error",
     "traceback": [
      "\u001b[1;31m---------------------------------------------------------------------------\u001b[0m",
      "\u001b[1;31mValueError\u001b[0m                                Traceback (most recent call last)",
      "Cell \u001b[1;32mIn[10], line 1\u001b[0m\n\u001b[1;32m----> 1\u001b[0m n\u001b[39m=\u001b[39m\u001b[39mint\u001b[39;49m(\u001b[39minput\u001b[39;49m())\n\u001b[0;32m      2\u001b[0m \u001b[39mif\u001b[39;00m n\u001b[39m%\u001b[39m\u001b[39m2\u001b[39m\u001b[39m==\u001b[39m\u001b[39m0\u001b[39m:\n\u001b[0;32m      3\u001b[0m     \u001b[39mprint\u001b[39m(\u001b[39m\"\u001b[39m\u001b[39mweird\u001b[39m\u001b[39m\"\u001b[39m)\n",
      "\u001b[1;31mValueError\u001b[0m: invalid literal for int() with base 10: ''"
     ]
    }
   ],
   "source": [
    "n=int(input())\n",
    "if n%2==0:\n",
    "    print(\"weird\")\n",
    "else:\n",
    "    print(\"not weird\")"
   ]
  },
  {
   "cell_type": "code",
   "execution_count": null,
   "metadata": {},
   "outputs": [
    {
     "data": {
      "text/plain": [
       "'dlrowolleh'"
      ]
     },
     "execution_count": 18,
     "metadata": {},
     "output_type": "execute_result"
    }
   ],
   "source": [
    "st=\"helloworld\"\n",
    "st[::-1]"
   ]
  },
  {
   "cell_type": "code",
   "execution_count": null,
   "metadata": {},
   "outputs": [
    {
     "name": "stdout",
     "output_type": "stream",
     "text": [
      "0\n",
      "1\n",
      "2\n",
      "3\n",
      "4\n",
      "5\n",
      "6\n",
      "5\n",
      "4\n",
      "3\n",
      "2\n",
      "1\n",
      "0\n"
     ]
    }
   ],
   "source": [
    "s='0123456543210'\n",
    "def number(coll,i=0):\n",
    "    if i==len(coll):\n",
    "        return\n",
    "    print(coll[i])\n",
    "    number(coll,i+1)\n",
    "        \n",
    "number(s)"
   ]
  },
  {
   "cell_type": "code",
   "execution_count": null,
   "metadata": {},
   "outputs": [
    {
     "name": "stdout",
     "output_type": "stream",
     "text": [
      "prasad\n",
      "praad\n",
      "hellooworld\n",
      "heloworld\n",
      "[1, 2, 20, 3, 4, 5, 6]\n",
      "[1, 2, 3, 4, 5, 6]\n"
     ]
    }
   ],
   "source": [
    "s=\"prad\"\n",
    "print(s[0:3]+\"sa\"+s[3::])\n",
    "print(s[0:3]+s[2:])\n",
    "\n",
    "s=\"helooworld\"\n",
    "print(s[0:2]+\"l\"+s[2::])\n",
    "print(s[0:3]+s[3+1:])\n",
    "\n",
    "n=[1,2,3,4,5,6]\n",
    "n[2:2]=[20]\n",
    "print(n)\n",
    "del n[2:2+1:1]\n",
    "print(n)\n"
   ]
  },
  {
   "cell_type": "code",
   "execution_count": null,
   "metadata": {},
   "outputs": [
    {
     "name": "stdout",
     "output_type": "stream",
     "text": [
      "G\n",
      "F\n",
      "E\n",
      "D\n",
      "C\n",
      "A\n"
     ]
    }
   ],
   "source": [
    "s=\"ACDEFGIJXAdD\"\n",
    "start=-7\n",
    "end=-12\n",
    "start1=11\n",
    "end1=6\n",
    "while start>=end:\n",
    "    if start%-1==0:\n",
    "        print(s[start])\n",
    "    start-=1"
   ]
  },
  {
   "cell_type": "code",
   "execution_count": null,
   "metadata": {},
   "outputs": [
    {
     "name": "stdout",
     "output_type": "stream",
     "text": [
      " GFEDCADdAXJI\n"
     ]
    }
   ],
   "source": [
    "s=\"ACDEFGIJXAdD\"\n",
    "res1=\" \"\n",
    "for i in range(5,0-1,-1):\n",
    "    res1+=s[i]\n",
    "    for j in s:\n",
    "       res=s[-1:-6-1:-1] \n",
    "print(res1+res)"
   ]
  },
  {
   "cell_type": "code",
   "execution_count": null,
   "metadata": {},
   "outputs": [
    {
     "name": "stdout",
     "output_type": "stream",
     "text": [
      " GFE\n"
     ]
    }
   ],
   "source": [
    "s=\"ACDEFGIJXAdD\"\n",
    "#  GFEACDDdAIJX\n",
    "res=' '\n",
    "for i in range(-7,-10,-1):\n",
    "    res+=s[i]\n",
    "print(res)"
   ]
  },
  {
   "cell_type": "code",
   "execution_count": 19,
   "metadata": {},
   "outputs": [
    {
     "name": "stdout",
     "output_type": "stream",
     "text": [
      "strings are anagram\n"
     ]
    }
   ],
   "source": [
    "a=input()\n",
    "s=input()\n",
    "if len(a)!=len(s):\n",
    "    print(\"strings are not anagram\")\n",
    "else:\n",
    "    a=sorted(a)\n",
    "    s=sorted(s)\n",
    "    if a==s:\n",
    "        print(\"strings are anagram\")\n",
    "    else:\n",
    "        print(\"strings are not panagram\")\n",
    "\n"
   ]
  },
  {
   "cell_type": "code",
   "execution_count": 4,
   "metadata": {},
   "outputs": [
    {
     "name": "stdout",
     "output_type": "stream",
     "text": [
      "5\n"
     ]
    }
   ],
   "source": [
    "a=1\n",
    "while a<10:\n",
    "    if a==5:\n",
    "        print(a)\n",
    "        break\n",
    "    a+=1\n",
    "else:\n",
    "    print(\"success\")\n",
    "    "
   ]
  },
  {
   "cell_type": "code",
   "execution_count": 11,
   "metadata": {},
   "outputs": [
    {
     "name": "stdout",
     "output_type": "stream",
     "text": [
      "{'w', 'o', 'a', 'x', 'z', 'T', 's', 'c', 'l', 'j', 'f', 'p', 'g', 't', 'y', 'h', 'n', ' ', 'm', 'e', 'r', 'd', 'v', 'k', 'u', 'b', 'i', 'q'}\n",
      "28\n"
     ]
    }
   ],
   "source": [
    "st=input()\n",
    "res=(set(st))\n",
    "print(res)\n",
    "print(len(res))"
   ]
  },
  {
   "cell_type": "code",
   "execution_count": 16,
   "metadata": {},
   "outputs": [
    {
     "name": "stdout",
     "output_type": "stream",
     "text": [
      "The string is a pangram\n"
     ]
    }
   ],
   "source": [
    "from string import ascii_lowercase as asc_lower\n",
    "def check(s):\n",
    "    return set(asc_lower) - set(s) == set([])\n",
    "d=input(\"Enter string:\")\n",
    "if(check(d)==True):\n",
    "      print(\"The string is a pangram\")\n",
    "else:\n",
    "    print(\"The string isn't a pangram\")"
   ]
  },
  {
   "cell_type": "code",
   "execution_count": 23,
   "metadata": {},
   "outputs": [
    {
     "name": "stdout",
     "output_type": "stream",
     "text": [
      "Modified string is:\n",
      "p\n",
      "a\n",
      "a\n",
      " \n",
      "e\n",
      "l\n",
      "paa el\n"
     ]
    }
   ],
   "source": [
    "def modify(s):  \n",
    "  m = \"\"   \n",
    "  for i in range(len(s)):  \n",
    "    if i % 2 == 0: \n",
    "      m = m + s[i]  \n",
    "      print(s[i])\n",
    "  return m\n",
    "s=input(\"Enter string:\")\n",
    "print(\"Modified string is:\")\n",
    "print(modify(s))\n"
   ]
  },
  {
   "cell_type": "code",
   "execution_count": 27,
   "metadata": {},
   "outputs": [
    {
     "name": "stdout",
     "output_type": "stream",
     "text": [
      "Count is:\n",
      "2\n"
     ]
    }
   ],
   "source": [
    "def check(string,ch):\n",
    "      if not string:\n",
    "        return 0\n",
    "      elif string[0]==ch:\n",
    "            return 1+check(string[1:],ch)\n",
    "      else:\n",
    "            return check(string[1:],ch)\n",
    "string=input(\"Enter string:\")\n",
    "ch=input(\"Enter character to check:\")\n",
    "print(\"Count is:\")\n",
    "print(check(string,ch))"
   ]
  },
  {
   "cell_type": "code",
   "execution_count": 29,
   "metadata": {},
   "outputs": [
    {
     "name": "stdout",
     "output_type": "stream",
     "text": [
      "The number of lowercase characters is:\n",
      "3\n",
      "The number of uppercase characters is:\n",
      "3\n"
     ]
    }
   ],
   "source": [
    "n=input(\"Enter string:\")\n",
    "count1=0\n",
    "count2=0\n",
    "for i in n:\n",
    "      if(i.islower()):\n",
    "            count1=count1+1\n",
    "      elif(i.isupper()):\n",
    "            count2=count2+1\n",
    "print(\"The number of lowercase characters is:\")\n",
    "print(count1)\n",
    "print(\"The number of uppercase characters is:\")\n",
    "print(count2)"
   ]
  },
  {
   "cell_type": "code",
   "execution_count": 32,
   "metadata": {},
   "outputs": [
    {
     "name": "stdout",
     "output_type": "stream",
     "text": [
      "Enter a hyphen separated sequence of words:\n",
      "Sorted:\n",
      "\n"
     ]
    }
   ],
   "source": [
    "print(\"Enter a hyphen separated sequence of words:\")\n",
    "lst=[]\n",
    "for n in input().split('-'):\n",
    "    lst.sort()\n",
    "print(\"Sorted:\")\n",
    "print('-'.join(lst))"
   ]
  },
  {
   "cell_type": "code",
   "execution_count": 24,
   "metadata": {},
   "outputs": [
    {
     "name": "stdout",
     "output_type": "stream",
     "text": [
      "prasad\n",
      "Newly formed string is:\n",
      "prad\n"
     ]
    }
   ],
   "source": [
    "string=input(\"Enter string:\")\n",
    "count=0\n",
    "for i in string:\n",
    "      count=count+1\n",
    "new=string[0:2]+string[count-2:count]\n",
    "print(string)\n",
    "print(\"Newly formed string is:\")\n",
    "print(new)"
   ]
  },
  {
   "cell_type": "code",
   "execution_count": 5,
   "metadata": {},
   "outputs": [
    {
     "name": "stdout",
     "output_type": "stream",
     "text": [
      "Number of words in the string:\n",
      "2\n",
      "Number of characters in the string:\n",
      "12\n"
     ]
    }
   ],
   "source": [
    "string=input(\"Enter string:\")\n",
    "char=0\n",
    "word=1\n",
    "for i in string:\n",
    "      char+=1\n",
    "      if(i==' '):\n",
    "            word+=1\n",
    "print(\"Number of words in the string:\")\n",
    "print(word)\n",
    "print(\"Number of characters in the string:\")\n",
    "print(char)"
   ]
  },
  {
   "cell_type": "code",
   "execution_count": 16,
   "metadata": {},
   "outputs": [
    {
     "name": "stdout",
     "output_type": "stream",
     "text": [
      "Largest string is :\n",
      "prasad\n"
     ]
    }
   ],
   "source": [
    "n=input(\"enter the string:\")\n",
    "m=input(\"enter the string:\")\n",
    "c1=0\n",
    "c2=0\n",
    "for i in n:\n",
    "    c1+=1\n",
    "for j in m:\n",
    "    c2+=1\n",
    "if (c1<c2):\n",
    "    print(\"Largest string is :\")\n",
    "    print(m)\n",
    "elif (c1==c2):\n",
    "    print(\"Both are same\")\n",
    "else:\n",
    "    print(\"Largest string is :\")\n",
    "    print(n)"
   ]
  },
  {
   "cell_type": "code",
   "execution_count": 22,
   "metadata": {},
   "outputs": [
    {
     "name": "stdout",
     "output_type": "stream",
     "text": [
      "prasad0241\n",
      "no. of digits: 4\n",
      "no of alphabets: 6\n",
      "no. of char: 10\n"
     ]
    }
   ],
   "source": [
    "n=input(\"enter the string:\")\n",
    "c1=0\n",
    "c2=0\n",
    "c3=0\n",
    "for i in n:\n",
    "    if (i.isdecimal()):\n",
    "        c1+=1\n",
    "    elif (i.islower() or i.isupper()):\n",
    "        c3+=1\n",
    "    c2+=1\n",
    "print(n)\n",
    "print(\"no. of digits:\",c1)\n",
    "print(\"no of alphabets:\",c3)\n",
    "print(\"no. of char:\",c2)"
   ]
  },
  {
   "cell_type": "code",
   "execution_count": 25,
   "metadata": {},
   "outputs": [
    {
     "name": "stdout",
     "output_type": "stream",
     "text": [
      "Newly formed string is:\n",
      "prad\n"
     ]
    }
   ],
   "source": [
    "string=input(\"Enter string:\")\n",
    "count=0\n",
    "for i in string:\n",
    "      count=count+1\n",
    "new=string[0:2]+string[count-2:]\n",
    "print(\"Newly formed string is:\")\n",
    "print(new)"
   ]
  },
  {
   "cell_type": "code",
   "execution_count": 42,
   "metadata": {},
   "outputs": [
    {
     "name": "stdout",
     "output_type": "stream",
     "text": [
      "prasady - 6\n",
      "Modified string:\n",
      "prasad\n"
     ]
    }
   ],
   "source": [
    "def remove(string, n):  \n",
    "      first = string[:n] #PRASAD [:n]  \n",
    "      last = string[n+1:]  #[n+1:]\n",
    "      return first + last\n",
    "string=input(\"Enter the sring:\")\n",
    "n=int(input(\"Enter the index of the character to remove:\"))\n",
    "print(string,\"-\",n)\n",
    "print(\"Modified string:\")\n",
    "print(remove(string,n))"
   ]
  },
  {
   "cell_type": "code",
   "execution_count": 48,
   "metadata": {},
   "outputs": [
    {
     "name": "stdout",
     "output_type": "stream",
     "text": [
      "Hey-haii-broh\n"
     ]
    }
   ],
   "source": [
    "n=\"Hey haii broh\"\n",
    "res=n.replace(\" \",\"-\")\n",
    "print(res)"
   ]
  },
  {
   "cell_type": "code",
   "execution_count": null,
   "metadata": {},
   "outputs": [],
   "source": []
  },
  {
   "cell_type": "code",
   "execution_count": 26,
   "metadata": {},
   "outputs": [
    {
     "name": "stdout",
     "output_type": "stream",
     "text": [
      "Concatenated dictionary is:\n",
      "{'A': 1, 'B': 2, 'C': 3}\n"
     ]
    }
   ],
   "source": [
    "d1={'A':1,'B':2}\n",
    "d2={'C':3}\n",
    "res=d1|d2\n",
    "print(\"Concatenated dictionary is:\")\n",
    "print(res)"
   ]
  }
 ],
 "metadata": {
  "kernelspec": {
   "display_name": "Python 3",
   "language": "python",
   "name": "python3"
  },
  "language_info": {
   "codemirror_mode": {
    "name": "ipython",
    "version": 3
   },
   "file_extension": ".py",
   "mimetype": "text/x-python",
   "name": "python",
   "nbconvert_exporter": "python",
   "pygments_lexer": "ipython3",
   "version": "3.11.3"
  },
  "orig_nbformat": 4
 },
 "nbformat": 4,
 "nbformat_minor": 2
}
