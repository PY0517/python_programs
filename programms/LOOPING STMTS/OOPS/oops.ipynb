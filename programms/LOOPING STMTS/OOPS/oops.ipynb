{
 "cells": [
  {
   "cell_type": "code",
   "execution_count": 1,
   "metadata": {},
   "outputs": [
    {
     "name": "stdout",
     "output_type": "stream",
     "text": [
      "My name is:prasad\n",
      "My age is:21\n",
      "My phone no is:9192939695\n",
      "My email is:prasad@gmail.com\n",
      "My degree is:B.tech\n",
      "My branch is:Civil\n",
      "year:2023\n"
     ]
    }
   ],
   "source": [
    "class Institute:\n",
    "    name_Inst=\"BVCITS\"\n",
    "    Address=\"AMP\"\n",
    "    code=\"BVCITS111\"\n",
    "    def __init__(self,name,age,phone,email,degree,branch,year):\n",
    "        self.name=name\n",
    "        self.age=age\n",
    "        self.phone=phone\n",
    "        self.email=email\n",
    "        self.degree=degree\n",
    "        self.branch=branch\n",
    "        self.year=year\n",
    "    def obj(self):\n",
    "        print(f'My name is:{self.name}')\n",
    "        print(f'My age is:{self.age}')\n",
    "        print(f'My phone no is:{self.phone}')\n",
    "        print(f'My email is:{self.email}')\n",
    "        print(f'My degree is:{self.degree}')\n",
    "        print(f'My branch is:{self.branch}')\n",
    "        print(f'year:{self.year}')\n",
    "prasad=Institute(\"prasad\",21,9192939695,\"prasad@gmail.com\",\"B.tech\",\"Civil\",2023)\n",
    "prasad.obj()\n"
   ]
  },
  {
   "cell_type": "code",
   "execution_count": 2,
   "metadata": {},
   "outputs": [
    {
     "name": "stdout",
     "output_type": "stream",
     "text": [
      "Book Title  :   Python\n",
      "Book Author :   Gopal\n",
      "Book DESC   :   Python Programming\n",
      "Book Price  :   1000\n",
      "**************************************************\n",
      "Book Title  :   SQL\n",
      "Book Author :   Yasin\n",
      "Book DESC   :   Database\n",
      "Book Price  :   800\n",
      "**************************************************\n",
      "Book Title  :   Java\n",
      "Book Author :   kashi\n",
      "Book DESC   :   Java development\n",
      "Book Price  :   1000\n",
      "**************************************************\n"
     ]
    }
   ],
   "source": [
    "class Book:\n",
    "    publish=\"epson\"\n",
    "    address=\"HYD\"\n",
    "    def __init__(self,title,author,desc,price):\n",
    "        self.title=title\n",
    "        self.author=author\n",
    "        self.desc=desc\n",
    "        self.price=price\n",
    "    def view(self):\n",
    "        print(f\"Book Title  :   {self.title}\")\n",
    "        print(f\"Book Author :   {self.author}\")\n",
    "        print(f\"Book DESC   :   {self.desc}\")\n",
    "        print(f\"Book Price  :   {self.price}\")\n",
    "book1=Book(\"Python\",\"Gopal\",\"Python Programming\",1000)\n",
    "book2=Book(\"SQL\",\"Yasin\",\"Database\",800)\n",
    "book3=Book(\"Java\",\"kashi\",\"Java development\",1000)\n",
    "book1.view()\n",
    "print(\"*\"*50)\n",
    "book2.view()\n",
    "print(\"*\"*50)\n",
    "book3.view()\n",
    "print(\"*\"*50)"
   ]
  },
  {
   "cell_type": "code",
   "execution_count": 9,
   "metadata": {},
   "outputs": [],
   "source": [
    "class Book:\n",
    "    publish=\"epson\"\n",
    "    address=\"HYD\"\n",
    "    usncode=\"USN15480200\"\n",
    "    details={}\n",
    "    def __init__(self,title,author,desc,price):\n",
    "        self.title=title\n",
    "        self.author=author\n",
    "        self.desc=desc\n",
    "        self.price=price\n",
    "        self.change_usn()\n",
    "        self.usn=self.usncode\n",
    "        self.concat_data(self.usn,self)\n",
    "\n",
    "    @classmethod\n",
    "    def concat_data(cls,key,value):\n",
    "        cls.details[key]=value\n",
    "\n",
    "    @classmethod\n",
    "    def change_usn(cls):\n",
    "        cls.usncode=Book.usncode[:-1]+str(int(Book.usncode[-1])+1)\n",
    "\n",
    "    @classmethod\n",
    "    def all_display(cls):\n",
    "        for i in cls.details:\n",
    "            cls.view(cls.details[i])\n",
    "            print(\"_\"*50)\n",
    "\n",
    "    def view(self):\n",
    "        print(f\"Book Title  :   {self.title}\")\n",
    "        print(f\"Book Author :   {self.author}\")\n",
    "        print(f\"Book DESC   :   {self.desc}\")\n",
    "        print(f\"Book Price  :   {self.price}\")\n",
    "        print(f\"Book USN    :   {self.usn}\")\n",
    "book1=Book(\"Python\",\"Gopal\",\"Python Programming\",1000)\n",
    "book2=Book(\"SQL\",\"Yasin\",\"Database\",800)\n",
    "book3=Book(\"Java\",\"kashi\",\"Java development\",1000)"
   ]
  },
  {
   "cell_type": "code",
   "execution_count": 4,
   "metadata": {},
   "outputs": [
    {
     "name": "stdout",
     "output_type": "stream",
     "text": [
      "Book Title  :   Python\n",
      "Book Author :   Gopal\n",
      "Book DESC   :   Python Programming\n",
      "Book Price  :   1000\n",
      "Book USN    :   USN15480201\n",
      "Book Title  :   SQL\n",
      "Book Author :   Yasin\n",
      "Book DESC   :   Database\n",
      "Book Price  :   800\n",
      "Book USN    :   USN15480202\n",
      "Book Title  :   Java\n",
      "Book Author :   kashi\n",
      "Book DESC   :   Java development\n",
      "Book Price  :   1000\n",
      "Book USN    :   USN15480203\n"
     ]
    }
   ],
   "source": [
    "book1.view()\n",
    "book2.view()\n",
    "book3.view()"
   ]
  },
  {
   "cell_type": "code",
   "execution_count": 5,
   "metadata": {},
   "outputs": [
    {
     "name": "stdout",
     "output_type": "stream",
     "text": [
      "Book Title  :   Python\n",
      "Book Author :   Gopal\n",
      "Book DESC   :   Python Programming\n",
      "Book Price  :   1000\n",
      "Book USN    :   USN15480201\n",
      "__________________________________________________\n",
      "Book Title  :   SQL\n",
      "Book Author :   Yasin\n",
      "Book DESC   :   Database\n",
      "Book Price  :   800\n",
      "Book USN    :   USN15480202\n",
      "__________________________________________________\n",
      "Book Title  :   Java\n",
      "Book Author :   kashi\n",
      "Book DESC   :   Java development\n",
      "Book Price  :   1000\n",
      "Book USN    :   USN15480203\n",
      "__________________________________________________\n"
     ]
    }
   ],
   "source": [
    "Book.all_display()"
   ]
  },
  {
   "cell_type": "code",
   "execution_count": null,
   "metadata": {},
   "outputs": [],
   "source": [
    "class bank:\n",
    "    bank_name=\"SBI\"\n",
    "    IFSC=\"SBIN0000841\"\n",
    "    address=\"HYD\"\n",
    "    ROI=7.7\n",
    "    cust_no=0\n",
    "    cust_details={}\n",
    "    def __init__(self,c_name,c_phone,c_email,c_address,c_bal=500):\n",
    "        self.c_name=c_name\n",
    "        self.c_phone=c_phone\n",
    "        self.c_email=c_email\n",
    "        self.c_address=c_address\n",
    "        self.c_bal=c_bal\n",
    "        self.inc_cust_no()\n",
    "        self.c_acc=\"101578\"+str(self.cust_no)\n",
    "        self.concat_cust_details(self.c_acc,self)\n",
    "        print(f'Hai Welcome to {self.bank_name}\\nDear MR/MS {self.c_name.title()}\\n your account is created successfully with account number is {self.c_acc}')\n",
    "\n",
    "        @classmethod\n",
    "        def inc_cust_no(cls):\n",
    "            cls.cust_no+=1\n",
    "\n",
    "        @classmethod\n",
    "        def concat_cust_details(cls,c_acc,obj_address):"
   ]
  }
 ],
 "metadata": {
  "kernelspec": {
   "display_name": "Python 3",
   "language": "python",
   "name": "python3"
  },
  "language_info": {
   "codemirror_mode": {
    "name": "ipython",
    "version": 3
   },
   "file_extension": ".py",
   "mimetype": "text/x-python",
   "name": "python",
   "nbconvert_exporter": "python",
   "pygments_lexer": "ipython3",
   "version": "3.11.3"
  },
  "orig_nbformat": 4
 },
 "nbformat": 4,
 "nbformat_minor": 2
}
