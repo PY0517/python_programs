{
 "cells": [
  {
   "cell_type": "code",
   "execution_count": null,
   "metadata": {},
   "outputs": [
    {
     "name": "stdout",
     "output_type": "stream",
     "text": [
      "1\n",
      "2\n",
      "3\n",
      "6\n",
      "9\n",
      "18\n"
     ]
    }
   ],
   "source": [
    "n=18\n",
    "start=1\n",
    "while start<=n:\n",
    "    if n%start==0:\n",
    "        print(start)\n",
    "    start+=1"
   ]
  },
  {
   "cell_type": "code",
   "execution_count": 3,
   "metadata": {},
   "outputs": [
    {
     "name": "stdout",
     "output_type": "stream",
     "text": [
      "0\n",
      "TATA BYE BYE\n",
      "1\n",
      "TATA BYE BYE\n",
      "2\n",
      "TATA BYE BYE\n",
      "3\n",
      "TATA BYE BYE\n",
      "4\n",
      "TATA BYE BYE\n",
      "5\n",
      "TATA BYE BYE\n",
      "6\n",
      "TATA BYE BYE\n",
      "7\n",
      "TATA BYE BYE\n",
      "8\n",
      "TATA BYE BYE\n",
      "9\n"
     ]
    }
   ],
   "source": [
    "n=10\n",
    "count=0\n",
    "sum=0\n",
    "while n:\n",
    "    #if n%count==0:\n",
    "        print(count)\n",
    "        sum+=count\n",
    "        count+=1\n",
    "        if count==10:\n",
    "            break\n",
    "        else:\n",
    "            print('TATA BYE BYE')"
   ]
  },
  {
   "cell_type": "code",
   "execution_count": 40,
   "metadata": {},
   "outputs": [
    {
     "name": "stdout",
     "output_type": "stream",
     "text": [
      "S\n",
      "P\n",
      "I\n",
      "D\n",
      "E\n"
     ]
    }
   ],
   "source": [
    "st='PYSPIDERS 10string  QSPIDERS Ram Sam 10 20 30 Hello Venu Kashi'\n",
    "start=2\n",
    "end=len(st)\n",
    "while start<end:\n",
    "    if start==7:\n",
    "        break\n",
    "    print(st[start])\n",
    "    start+=1"
   ]
  },
  {
   "cell_type": "code",
   "execution_count": 32,
   "metadata": {},
   "outputs": [
    {
     "name": "stdout",
     "output_type": "stream",
     "text": [
      "S\n",
      "E\n",
      "I\n",
      "S\n"
     ]
    }
   ],
   "source": [
    "st='PYSPIDERS'\n",
    "start=8\n",
    "end=len(st)\n",
    "up=2\n",
    "while start<end:\n",
    "    if start%up==0:\n",
    "        print(st[start])\n",
    "        if start==2:\n",
    "            #print(st[start])\n",
    "            break\n",
    "    start-=2"
   ]
  },
  {
   "cell_type": "code",
   "execution_count": 35,
   "metadata": {},
   "outputs": [
    {
     "name": "stdout",
     "output_type": "stream",
     "text": [
      "S\n",
      "E\n",
      "I\n",
      "S\n"
     ]
    }
   ],
   "source": [
    "st='PYSPIDERS 10string  QSPIDERS Ram Sam 10 20 30 Hello Venu Kashi'\n",
    "start=8\n",
    "end=len(st)\n",
    "up=2\n",
    "while start<end:\n",
    "    if start%up==0:\n",
    "        print(st[start])\n",
    "        if start==2:\n",
    "            #print(st[start])\n",
    "            break\n",
    "    start-=2\n"
   ]
  },
  {
   "cell_type": "code",
   "execution_count": 45,
   "metadata": {},
   "outputs": [
    {
     "name": "stdout",
     "output_type": "stream",
     "text": [
      "P\n",
      "Y\n",
      "S\n",
      "P\n",
      "I\n",
      "D\n",
      "E\n",
      "R\n",
      "S\n",
      " \n"
     ]
    }
   ],
   "source": [
    "st='PYSPIDERS 10string  QSPIDERS Ram Sam 10 20 30 Hello Venu Kashi'\n",
    "start=0\n",
    "end=len(st)\n",
    "up=1\n",
    "while start<end:\n",
    "    if start%up==0:\n",
    "         print(st[start])\n",
    "         if start==9:\n",
    "            break\n",
    "    start+=1"
   ]
  },
  {
   "cell_type": "code",
   "execution_count": 57,
   "metadata": {},
   "outputs": [
    {
     "name": "stdout",
     "output_type": "stream",
     "text": [
      "g\n",
      "n\n",
      "i\n",
      "r\n",
      "t\n",
      "s\n",
      "0\n",
      "1\n"
     ]
    }
   ],
   "source": [
    "st='10string'\n",
    "start=7\n",
    "end=0\n",
    "while start>=end:\n",
    "    print(st[start])\n",
    "    start-=1"
   ]
  },
  {
   "cell_type": "code",
   "execution_count": 60,
   "metadata": {},
   "outputs": [
    {
     "name": "stdout",
     "output_type": "stream",
     "text": [
      "g\n",
      "n\n",
      "i\n",
      "r\n",
      "t\n",
      "s\n",
      "0\n",
      "1\n",
      " \n"
     ]
    }
   ],
   "source": [
    "#13]\n",
    "st='PYSPIDERS 10string  QSPIDERS Ram Sam 10 20 30 Hello Venu Kashi'\n",
    "start=17\n",
    "end=9\n",
    "up=1\n",
    "while start>=end:\n",
    "    print(st[start])\n",
    "    start-=1\n"
   ]
  },
  {
   "cell_type": "code",
   "execution_count": 63,
   "metadata": {},
   "outputs": [
    {
     "name": "stdout",
     "output_type": "stream",
     "text": [
      "s\n",
      "t\n",
      "r\n"
     ]
    }
   ],
   "source": [
    "#2]\n",
    "st='PYSPIDERS 10string  QSPIDERS Ram Sam 10 20 30 Hello Venu Kashi'\n",
    "start=12\n",
    "end=15\n",
    "while start<end:\n",
    "    print(st[start])\n",
    "    start+=1"
   ]
  },
  {
   "cell_type": "code",
   "execution_count": 103,
   "metadata": {},
   "outputs": [
    {
     "name": "stdout",
     "output_type": "stream",
     "text": [
      "Q\n",
      "P\n",
      "D\n"
     ]
    }
   ],
   "source": [
    "#4]\n",
    "st=\"PYSPIDERS 10string QSPIDERS Ram Sam 10 20 30 Hello Venu Kashi\"\n",
    "start=19\n",
    "end=24\n",
    "while start<end:\n",
    "    print(st[start])\n",
    "    start+=2"
   ]
  },
  {
   "cell_type": "code",
   "execution_count": 106,
   "metadata": {},
   "outputs": [
    {
     "name": "stdout",
     "output_type": "stream",
     "text": [
      "m\n",
      "a\n",
      "S\n",
      " \n",
      "m\n",
      "a\n",
      "R\n"
     ]
    }
   ],
   "source": [
    "#5]\n",
    "st='PYSPIDERS 10string  QSPIDERS Ram Sam 10 20 30 Hello Venu Kashi'\n",
    "start=35\n",
    "end=28\n",
    "while start>end:\n",
    "    print(st[start])\n",
    "    start-=1"
   ]
  },
  {
   "cell_type": "code",
   "execution_count": 121,
   "metadata": {},
   "outputs": [
    {
     "name": "stdout",
     "output_type": "stream",
     "text": [
      "E\n",
      "D\n",
      "I\n",
      "P\n"
     ]
    }
   ],
   "source": [
    "st='PYSPIDERS 10string QSPIDERS Ram Sam 10 20 30 Hello Venu Kashi'\n",
    "start=6\n",
    "end=2\n",
    "while start>end:\n",
    "    print(st[start])\n",
    "    start-=1"
   ]
  },
  {
   "cell_type": "code",
   "execution_count": 128,
   "metadata": {},
   "outputs": [
    {
     "name": "stdout",
     "output_type": "stream",
     "text": [
      "s\n",
      "r\n",
      "n\n"
     ]
    }
   ],
   "source": [
    "#10]\n",
    "st='PYSPIDERS 10string QSPIDERS Ram Sam 10 20 30 Hello Venu Kashi'\n",
    "start=12\n",
    "end=18\n",
    "while start<end:\n",
    "    print(st[start])\n",
    "    start+=2"
   ]
  },
  {
   "cell_type": "code",
   "execution_count": 129,
   "metadata": {},
   "outputs": [
    {
     "name": "stdout",
     "output_type": "stream",
     "text": [
      "S\n",
      "R\n",
      "E\n",
      "D\n",
      "I\n",
      "P\n",
      "S\n",
      "Q\n"
     ]
    }
   ],
   "source": [
    "#16]\n",
    "st='PYSPIDERS 10string QSPIDERS Ram Sam 10 20 30 Hello Venu Kashi'\n",
    "start=26\n",
    "end=18\n",
    "while start>end:\n",
    "    print(st[start])\n",
    "    start-=1"
   ]
  },
  {
   "cell_type": "code",
   "execution_count": null,
   "metadata": {},
   "outputs": [],
   "source": []
  }
 ],
 "metadata": {
  "kernelspec": {
   "display_name": "Python 3",
   "language": "python",
   "name": "python3"
  },
  "language_info": {
   "codemirror_mode": {
    "name": "ipython",
    "version": 3
   },
   "file_extension": ".py",
   "mimetype": "text/x-python",
   "name": "python",
   "nbconvert_exporter": "python",
   "pygments_lexer": "ipython3",
   "version": "3.11.3"
  },
  "orig_nbformat": 4
 },
 "nbformat": 4,
 "nbformat_minor": 2
}
