{
 "cells": [
  {
   "cell_type": "code",
   "execution_count": 1,
   "metadata": {},
   "outputs": [
    {
     "name": "stdout",
     "output_type": "stream",
     "text": [
      "1\n",
      "2\n",
      "3\n",
      "6\n",
      "9\n",
      "18\n"
     ]
    }
   ],
   "source": [
    "n=18\n",
    "start=1\n",
    "while start<=n:\n",
    "    if n%start==0:\n",
    "        print(start)\n",
    "    start+=1"
   ]
  },
  {
   "cell_type": "code",
   "execution_count": 2,
   "metadata": {},
   "outputs": [
    {
     "name": "stdout",
     "output_type": "stream",
     "text": [
      "0\n",
      "TATA BYE BYE\n",
      "1\n",
      "TATA BYE BYE\n",
      "2\n",
      "TATA BYE BYE\n",
      "3\n",
      "TATA BYE BYE\n",
      "4\n",
      "TATA BYE BYE\n",
      "5\n",
      "TATA BYE BYE\n",
      "6\n",
      "TATA BYE BYE\n",
      "7\n",
      "TATA BYE BYE\n",
      "8\n",
      "TATA BYE BYE\n",
      "9\n"
     ]
    }
   ],
   "source": [
    "n=10\n",
    "count=0\n",
    "sum=0\n",
    "while n:\n",
    "    #if n%count==0:\n",
    "        print(count)\n",
    "        sum+=count\n",
    "        count+=1\n",
    "        if count==10:\n",
    "            break\n",
    "        else:\n",
    "            print('TATA BYE BYE')"
   ]
  },
  {
   "cell_type": "code",
   "execution_count": 3,
   "metadata": {},
   "outputs": [
    {
     "name": "stdout",
     "output_type": "stream",
     "text": [
      "SPIDE"
     ]
    }
   ],
   "source": [
    "st='PYSPIDERS 10string  QSPIDERS Ram Sam 10 20 30 Hello Venu Kashi'\n",
    "start=2\n",
    "end=len(st)\n",
    "while start<end:\n",
    "    if start==7:\n",
    "        break\n",
    "    print(st[start],end=\"\")\n",
    "    start+=1"
   ]
  },
  {
   "cell_type": "code",
   "execution_count": 4,
   "metadata": {},
   "outputs": [
    {
     "name": "stdout",
     "output_type": "stream",
     "text": [
      "SEIS"
     ]
    }
   ],
   "source": [
    "st='PYSPIDERS 10string  QSPIDERS Ram Sam 10 20 30 Hello Venu Kashi'\n",
    "start=8\n",
    "end=len(st)\n",
    "up=2\n",
    "while start<end:\n",
    "    if start%up==0:\n",
    "        print(st[start],end=\"\")\n",
    "        if start==2:\n",
    "            #print(st[start])\n",
    "            break\n",
    "    start-=2\n"
   ]
  },
  {
   "cell_type": "code",
   "execution_count": 5,
   "metadata": {},
   "outputs": [
    {
     "name": "stdout",
     "output_type": "stream",
     "text": [
      "PYSPIDERS "
     ]
    }
   ],
   "source": [
    "st='PYSPIDERS 10string  QSPIDERS Ram Sam 10 20 30 Hello Venu Kashi'\n",
    "start=0\n",
    "end=len(st)\n",
    "up=1\n",
    "while start<end:\n",
    "    if start%up==0:\n",
    "         print(st[start],end='')\n",
    "         if start==9:\n",
    "            break\n",
    "    start+=1"
   ]
  },
  {
   "cell_type": "code",
   "execution_count": 6,
   "metadata": {},
   "outputs": [
    {
     "name": "stdout",
     "output_type": "stream",
     "text": [
      "gnirts01 "
     ]
    }
   ],
   "source": [
    "#13]\n",
    "st='PYSPIDERS 10string  QSPIDERS Ram Sam 10 20 30 Hello Venu Kashi'\n",
    "start=17\n",
    "end=9\n",
    "up=1\n",
    "while start>=end:\n",
    "    print(st[start],end='')\n",
    "    start-=1\n"
   ]
  },
  {
   "cell_type": "code",
   "execution_count": 7,
   "metadata": {},
   "outputs": [
    {
     "name": "stdout",
     "output_type": "stream",
     "text": [
      "str"
     ]
    }
   ],
   "source": [
    "#2]\n",
    "st='PYSPIDERS 10string  QSPIDERS Ram Sam 10 20 30 Hello Venu Kashi'\n",
    "start=12\n",
    "end=15\n",
    "while start<end:\n",
    "    print(st[start],end='')\n",
    "    start+=1"
   ]
  },
  {
   "cell_type": "code",
   "execution_count": 8,
   "metadata": {},
   "outputs": [
    {
     "name": "stdout",
     "output_type": "stream",
     "text": [
      "QPD"
     ]
    }
   ],
   "source": [
    "#4]\n",
    "st=\"PYSPIDERS 10string QSPIDERS Ram Sam 10 20 30 Hello Venu Kashi\"\n",
    "start=19\n",
    "end=24\n",
    "while start<end:\n",
    "    print(st[start],end=\"\")\n",
    "    start+=2"
   ]
  },
  {
   "cell_type": "code",
   "execution_count": 9,
   "metadata": {},
   "outputs": [
    {
     "name": "stdout",
     "output_type": "stream",
     "text": [
      "maS maR"
     ]
    }
   ],
   "source": [
    "#5]\n",
    "st='PYSPIDERS 10string  QSPIDERS Ram Sam 10 20 30 Hello Venu Kashi'\n",
    "start=35\n",
    "end=28\n",
    "while start>end:\n",
    "    print(st[start],end=\"\")\n",
    "    start-=1"
   ]
  },
  {
   "cell_type": "code",
   "execution_count": 10,
   "metadata": {},
   "outputs": [
    {
     "name": "stdout",
     "output_type": "stream",
     "text": [
      "SEDIP\n"
     ]
    }
   ],
   "source": [
    "st='PYSPIDERS 10string QSPIDERS Ram Sam 10 20 30 Hello Venu Kashi'\n",
    "start=-29\n",
    "res=\"\"\n",
    "res+=st[start]\n",
    "start=-37\n",
    "end=-40\n",
    "res1=\"\"\n",
    "while start>=end:\n",
    "    #print(st[start],end=\"\")\n",
    "    res1+=st[start]\n",
    "    start-=1\n",
    "print(res+res1)"
   ]
  },
  {
   "cell_type": "code",
   "execution_count": 11,
   "metadata": {},
   "outputs": [
    {
     "name": "stdout",
     "output_type": "stream",
     "text": [
      "srn"
     ]
    }
   ],
   "source": [
    "#10]\n",
    "st='PYSPIDERS 10string QSPIDERS Ram Sam 10 20 30 Hello Venu Kashi'\n",
    "start=12\n",
    "end=18\n",
    "while start<end:\n",
    "    print(st[start],end=\"\")\n",
    "    start+=2"
   ]
  },
  {
   "cell_type": "code",
   "execution_count": 12,
   "metadata": {},
   "outputs": [
    {
     "name": "stdout",
     "output_type": "stream",
     "text": [
      "SREDIPSQ"
     ]
    }
   ],
   "source": [
    "#16]\n",
    "st='PYSPIDERS 10string QSPIDERS Ram Sam 10 20 30 Hello Venu Kashi'\n",
    "start=26\n",
    "end=18\n",
    "while start>end:\n",
    "    print(st[start],end=\"\")\n",
    "    start-=1"
   ]
  },
  {
   "cell_type": "code",
   "execution_count": 13,
   "metadata": {},
   "outputs": [
    {
     "name": "stdout",
     "output_type": "stream",
     "text": [
      "Venu"
     ]
    }
   ],
   "source": [
    "st='PYSPIDERS 10string QSPIDERS Ram Sam 10 20 30 Hello Venu Kashi'\n",
    "start=51\n",
    "end=55\n",
    "while start<end:\n",
    "    print(st[start],end=\"\")\n",
    "    start+=1"
   ]
  },
  {
   "cell_type": "code",
   "execution_count": 14,
   "metadata": {},
   "outputs": [
    {
     "name": "stdout",
     "output_type": "stream",
     "text": [
      " 30 10 20  "
     ]
    }
   ],
   "source": [
    "st='PYSPIDERS 10string QSPIDERS Ram Sam 10 20 30 Hello Venu Kashi'\n",
    "start=41\n",
    "end=44\n",
    "while start<end:\n",
    "    print(st[start],end=\"\")\n",
    "    start+=1\n",
    "print(\" \",end=\"\")\n",
    "start=36\n",
    "end=37\n",
    "while start<=end:\n",
    "    print(st[start],end=\"\")\n",
    "    start+=1\n",
    "print(\" \",end=\"\")\n",
    "start=39\n",
    "end=41\n",
    "while start<=end:\n",
    "    print(st[start],end=\"\")\n",
    "    start+=1\n",
    "print(\" \",end=\"\")"
   ]
  },
  {
   "cell_type": "code",
   "execution_count": 15,
   "metadata": {},
   "outputs": [
    {
     "name": "stdout",
     "output_type": "stream",
     "text": [
      " Kashi Venu "
     ]
    }
   ],
   "source": [
    "st='PYSPIDERS 10string QSPIDERS Ram Sam 10 20 30 Hello Venu Kashi '\n",
    "start=55\n",
    "end=61\n",
    "while start<=end:\n",
    "    print(st[start],end=\"\")\n",
    "    start+=1\n",
    "print(\"\",end=\"\")\n",
    "start=51\n",
    "end=55\n",
    "while start<end:\n",
    "    print(st[start],end=\"\")\n",
    "    start+=1\n",
    "print(\" \",end=\"\")"
   ]
  },
  {
   "cell_type": "code",
   "execution_count": 16,
   "metadata": {},
   "outputs": [
    {
     "name": "stdout",
     "output_type": "stream",
     "text": [
      "a\n"
     ]
    }
   ],
   "source": [
    "st='PYSPIDERS 10string QSPIDERS Ram Sam 10 20 30 Hello Venu Kashi'\n",
    "start=-4\n",
    "end=-4\n",
    "while start==end:\n",
    "    print(st[start])\n",
    "    start+=1"
   ]
  },
  {
   "cell_type": "code",
   "execution_count": 17,
   "metadata": {},
   "outputs": [
    {
     "name": "stdout",
     "output_type": "stream",
     "text": [
      "Sm"
     ]
    }
   ],
   "source": [
    "st='PYSPIDERS 10string QSPIDERS Ram Sam 10 20 30 Hello Venu Kashi'\n",
    "start=32\n",
    "end=35\n",
    "while start<end:\n",
    "    print(st[start],end=\"\")\n",
    "    start+=2"
   ]
  },
  {
   "cell_type": "code",
   "execution_count": null,
   "metadata": {},
   "outputs": [],
   "source": []
  },
  {
   "cell_type": "code",
   "execution_count": 18,
   "metadata": {},
   "outputs": [
    {
     "name": "stdout",
     "output_type": "stream",
     "text": [
      "P\n",
      "Y\n"
     ]
    }
   ],
   "source": [
    "st=\"Prasad Yalla\"\n",
    "start=0\n",
    "end=len(st)\n",
    "while start<end:\n",
    "    if (\"A\"<=st[start]<=\"Z\"):\n",
    "        print(st[start])\n",
    "    start+=1"
   ]
  },
  {
   "cell_type": "code",
   "execution_count": 19,
   "metadata": {},
   "outputs": [
    {
     "name": "stdout",
     "output_type": "stream",
     "text": [
      "r\n",
      "a\n",
      "s\n",
      "a\n",
      "d\n",
      "a\n",
      "l\n",
      "l\n",
      "a\n"
     ]
    }
   ],
   "source": [
    "st=\"Prasad Yalla\"\n",
    "start=0\n",
    "end=len(st)\n",
    "while start<end:\n",
    "    if (\"a\"<=st[start]<=\"z\"):\n",
    "        print(st[start])\n",
    "    start+=1"
   ]
  },
  {
   "cell_type": "code",
   "execution_count": 20,
   "metadata": {},
   "outputs": [
    {
     "name": "stdout",
     "output_type": "stream",
     "text": [
      "*\n",
      "%\n",
      "$\n",
      "$\n",
      "*\n"
     ]
    }
   ],
   "source": [
    "st=\"khk*R%$$*\"\n",
    "start=0\n",
    "end=len(st)\n",
    "while start<end:\n",
    "    if not(('A'<=st[start]<='Z')or('a'<=st[start]<='z')or('0'<=st[start]<='9')):\n",
    "        print(st[start])\n",
    "    start+=1"
   ]
  },
  {
   "cell_type": "code",
   "execution_count": 21,
   "metadata": {},
   "outputs": [
    {
     "name": "stdout",
     "output_type": "stream",
     "text": [
      "aeA\n"
     ]
    }
   ],
   "source": [
    "st=\"aeASD\"\n",
    "res=\"\"\n",
    "start=0\n",
    "end=len(st)\n",
    "while start<end:\n",
    "    if st[start] in 'A,E,I,O,U' or st[start] in 'a,e,i,o,u':\n",
    "        res+=(st[start])\n",
    "    start+=1\n",
    "print(res)"
   ]
  }
 ],
 "metadata": {
  "kernelspec": {
   "display_name": "Python 3",
   "language": "python",
   "name": "python3"
  },
  "language_info": {
   "codemirror_mode": {
    "name": "ipython",
    "version": 3
   },
   "file_extension": ".py",
   "mimetype": "text/x-python",
   "name": "python",
   "nbconvert_exporter": "python",
   "pygments_lexer": "ipython3",
   "version": "3.11.3"
  },
  "orig_nbformat": 4
 },
 "nbformat": 4,
 "nbformat_minor": 2
}
