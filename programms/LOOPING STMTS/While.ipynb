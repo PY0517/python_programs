{
 "cells": [
  {
   "cell_type": "code",
   "execution_count": null,
   "metadata": {},
   "outputs": [
    {
     "name": "stdout",
     "output_type": "stream",
     "text": [
      "1\n",
      "2\n",
      "3\n",
      "6\n",
      "9\n",
      "18\n"
     ]
    }
   ],
   "source": [
    "n=18\n",
    "start=1\n",
    "while start<=n:\n",
    "    if n%start==0:\n",
    "        print(start)\n",
    "    start+=1"
   ]
  },
  {
   "cell_type": "code",
   "execution_count": 3,
   "metadata": {},
   "outputs": [
    {
     "name": "stdout",
     "output_type": "stream",
     "text": [
      "0\n",
      "TATA BYE BYE\n",
      "1\n",
      "TATA BYE BYE\n",
      "2\n",
      "TATA BYE BYE\n",
      "3\n",
      "TATA BYE BYE\n",
      "4\n",
      "TATA BYE BYE\n",
      "5\n",
      "TATA BYE BYE\n",
      "6\n",
      "TATA BYE BYE\n",
      "7\n",
      "TATA BYE BYE\n",
      "8\n",
      "TATA BYE BYE\n",
      "9\n"
     ]
    }
   ],
   "source": [
    "n=10\n",
    "count=0\n",
    "sum=0\n",
    "while n:\n",
    "    #if n%count==0:\n",
    "        print(count)\n",
    "        sum+=count\n",
    "        count+=1\n",
    "        if count==10:\n",
    "            break\n",
    "        else:\n",
    "            print('TATA BYE BYE')"
   ]
  },
  {
   "cell_type": "code",
   "execution_count": 40,
   "metadata": {},
   "outputs": [
    {
     "name": "stdout",
     "output_type": "stream",
     "text": [
      "S\n",
      "P\n",
      "I\n",
      "D\n",
      "E\n"
     ]
    }
   ],
   "source": [
    "st='PYSPIDERS 10string  QSPIDERS Ram Sam 10 20 30 Hello Venu Kashi'\n",
    "start=2\n",
    "end=len(st)\n",
    "while start<end:\n",
    "    if start==7:\n",
    "        break\n",
    "    print(st[start])\n",
    "    start+=1"
   ]
  },
  {
   "cell_type": "code",
   "execution_count": 32,
   "metadata": {},
   "outputs": [
    {
     "name": "stdout",
     "output_type": "stream",
     "text": [
      "S\n",
      "E\n",
      "I\n",
      "S\n"
     ]
    }
   ],
   "source": [
    "st='PYSPIDERS'\n",
    "start=8\n",
    "end=len(st)\n",
    "up=2\n",
    "while start<end:\n",
    "    if start%up==0:\n",
    "        print(st[start])\n",
    "        if start==2:\n",
    "            #print(st[start])\n",
    "            break\n",
    "    start-=2"
   ]
  },
  {
   "cell_type": "code",
   "execution_count": 35,
   "metadata": {},
   "outputs": [
    {
     "name": "stdout",
     "output_type": "stream",
     "text": [
      "S\n",
      "E\n",
      "I\n",
      "S\n"
     ]
    }
   ],
   "source": [
    "st='PYSPIDERS 10string  QSPIDERS Ram Sam 10 20 30 Hello Venu Kashi'\n",
    "start=8\n",
    "end=len(st)\n",
    "up=2\n",
    "while start<end:\n",
    "    if start%up==0:\n",
    "        print(st[start])\n",
    "        if start==2:\n",
    "            #print(st[start])\n",
    "            break\n",
    "    start-=2\n"
   ]
  },
  {
   "cell_type": "code",
   "execution_count": 45,
   "metadata": {},
   "outputs": [
    {
     "name": "stdout",
     "output_type": "stream",
     "text": [
      "P\n",
      "Y\n",
      "S\n",
      "P\n",
      "I\n",
      "D\n",
      "E\n",
      "R\n",
      "S\n",
      " \n"
     ]
    }
   ],
   "source": [
    "st='PYSPIDERS 10string  QSPIDERS Ram Sam 10 20 30 Hello Venu Kashi'\n",
    "start=0\n",
    "end=len(st)\n",
    "up=1\n",
    "while start<end:\n",
    "    if start%up==0:\n",
    "         print(st[start])\n",
    "         if start==9:\n",
    "            break\n",
    "    start+=1"
   ]
  },
  {
   "cell_type": "code",
   "execution_count": 50,
   "metadata": {},
   "outputs": [],
   "source": [
    "st='PYSPIDERS 10string  QSPIDERS Ram Sam 10 20 30 Hello Venu Kashi'\n",
    "start=9\n",
    "end=15\n",
    "up=1\n",
    "while start>end:\n",
    "    print(st[start])\n",
    "        #if start==8:\n",
    "            #break\n",
    "    start+=1\n"
   ]
  }
 ],
 "metadata": {
  "kernelspec": {
   "display_name": "Python 3",
   "language": "python",
   "name": "python3"
  },
  "language_info": {
   "codemirror_mode": {
    "name": "ipython",
    "version": 3
   },
   "file_extension": ".py",
   "mimetype": "text/x-python",
   "name": "python",
   "nbconvert_exporter": "python",
   "pygments_lexer": "ipython3",
   "version": "3.11.3"
  },
  "orig_nbformat": 4
 },
 "nbformat": 4,
 "nbformat_minor": 2
}
