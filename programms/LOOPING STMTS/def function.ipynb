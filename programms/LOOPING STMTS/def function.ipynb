{
 "cells": [
  {
   "cell_type": "code",
   "execution_count": 18,
   "metadata": {},
   "outputs": [
    {
     "data": {
      "text/plain": [
       "False"
      ]
     },
     "execution_count": 18,
     "metadata": {},
     "output_type": "execute_result"
    }
   ],
   "source": [
    "st=\"Pr@Sad477\"\n",
    "\n",
    "def password(coll):\n",
    "    \n",
    "    for i in coll:\n",
    "        if 'A'<=i<='Z' and 'a'<=i<='z' and '0'<=i<='9':\n",
    "            if len(st)>8:\n",
    "                return True\n",
    "            if 'A'<=i<='Z'>=2 and 'a'<=i<='z'>=2:\n",
    "                return True\n",
    "        else:\n",
    "            return False\n",
    "st.title()        \n",
    "password(st)\n",
    "        \n",
    "            "
   ]
  },
  {
   "cell_type": "code",
   "execution_count": 6,
   "metadata": {},
   "outputs": [
    {
     "name": "stdout",
     "output_type": "stream",
     "text": [
      "password valid\n"
     ]
    }
   ],
   "source": [
    "st='Pr@Sad0517'\n",
    "def password(coll):\n",
    "    #coll=int(input('enter the password:'))\n",
    "    if len(coll)>8 and 'A'<=coll[0]<='Z':\n",
    "        uc,lc,sp,num=0,0,0,0\n",
    "        for i in coll:\n",
    "            if 'A'<=i<='Z':\n",
    "                uc+=1\n",
    "            if 'a'<=i<='z':\n",
    "                lc+=1\n",
    "            if '0'<=i<='9':\n",
    "                num+=1\n",
    "            else:\n",
    "                sp+=1\n",
    "        if uc>=2 and lc>=2 and sp>=1 and num>=1:\n",
    "            print('password valid')\n",
    "        else:\n",
    "            print('password invalid')\n",
    "password(st)"
   ]
  },
  {
   "cell_type": "code",
   "execution_count": 3,
   "metadata": {},
   "outputs": [
    {
     "name": "stdout",
     "output_type": "stream",
     "text": [
      "password should be more than eight characters and starting character should be uppercase\n"
     ]
    }
   ],
   "source": [
    "#st=\"Pr@Sad0517\"\n",
    "def password():\n",
    "    coll=input('enter the password:')\n",
    "    if len(coll)>8 and 'A'<=coll[0]<='Z':\n",
    "        uc,lc,sp,num=0,0,0,0\n",
    "        for i in coll:\n",
    "            if 'A'<=i<='Z':\n",
    "                uc+=1\n",
    "            elif 'a'<=i<='z':\n",
    "                lc+=1\n",
    "            elif '0'<=i<='9':\n",
    "                num+=1\n",
    "            else:\n",
    "                sp+=1\n",
    "        if uc<2:\n",
    "            print('password should be morethan one uppercase')\n",
    "        if lc<2:\n",
    "            print('password should be morethan one lowercase')\n",
    "        if sp<1:\n",
    "            print('password should be min. one special character')\n",
    "        if num<1:\n",
    "            print('password should be min. one number character')\n",
    "    else:\n",
    "        print('password should be more than eight characters and starting character should be uppercase')\n",
    "    return password()\n",
    "password()            "
   ]
  },
  {
   "cell_type": "code",
   "execution_count": 1,
   "metadata": {},
   "outputs": [
    {
     "data": {
      "text/plain": [
       "'Pr@sAd0517'"
      ]
     },
     "execution_count": 1,
     "metadata": {},
     "output_type": "execute_result"
    }
   ],
   "source": [
    "def password():\n",
    "    coll=input('enter the password:')\n",
    "    if len(coll)>8 and 'A'<=coll[0]<='Z':\n",
    "        uc,lc,sp,num=0,0,0,0\n",
    "        for i in coll:\n",
    "            if 'A'<=i<='Z':\n",
    "                uc+=1\n",
    "            elif 'a'<=i<='z':\n",
    "                lc+=1\n",
    "            elif '0'<=i<='9':\n",
    "                num+=1\n",
    "            else:\n",
    "                sp+=1\n",
    "        if uc<2:\n",
    "            print('password should be morethan one uppercase')\n",
    "            return password()\n",
    "        elif lc<2:\n",
    "            print('password should be morethan one lowercase')\n",
    "            return password()\n",
    "        elif sp<1:\n",
    "            print('password should be min. one special character')\n",
    "            return password()\n",
    "        elif num<1:\n",
    "            print('password should be min. one number character')\n",
    "            return password()\n",
    "    else:\n",
    "        print('password should be more than eight characters and starting character should be uppercase')\n",
    "        return password()\n",
    "    return coll\n",
    "password()  "
   ]
  },
  {
   "cell_type": "code",
   "execution_count": null,
   "metadata": {},
   "outputs": [],
   "source": []
  },
  {
   "cell_type": "code",
   "execution_count": null,
   "metadata": {},
   "outputs": [],
   "source": []
  }
 ],
 "metadata": {
  "kernelspec": {
   "display_name": "Python 3",
   "language": "python",
   "name": "python3"
  },
  "language_info": {
   "codemirror_mode": {
    "name": "ipython",
    "version": 3
   },
   "file_extension": ".py",
   "mimetype": "text/x-python",
   "name": "python",
   "nbconvert_exporter": "python",
   "pygments_lexer": "ipython3",
   "version": "3.11.3"
  },
  "orig_nbformat": 4
 },
 "nbformat": 4,
 "nbformat_minor": 2
}
