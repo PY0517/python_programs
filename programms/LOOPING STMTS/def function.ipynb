{
 "cells": [
  {
   "cell_type": "code",
   "execution_count": 1,
   "metadata": {},
   "outputs": [
    {
     "data": {
      "text/plain": [
       "False"
      ]
     },
     "execution_count": 1,
     "metadata": {},
     "output_type": "execute_result"
    }
   ],
   "source": [
    "st=\"Pr@Sad477\"\n",
    "\n",
    "def password(coll):\n",
    "    \n",
    "    for i in coll:\n",
    "        if 'A'<=i<='Z' and 'a'<=i<='z' and '0'<=i<='9':\n",
    "            if len(st)>8:\n",
    "                return True\n",
    "            if 'A'<=i<='Z'>=2 and 'a'<=i<='z'>=2:\n",
    "                return True\n",
    "        else:\n",
    "            return False\n",
    "st.title()        \n",
    "password(st)\n",
    "        \n",
    "            "
   ]
  },
  {
   "cell_type": "code",
   "execution_count": 2,
   "metadata": {},
   "outputs": [
    {
     "name": "stdout",
     "output_type": "stream",
     "text": [
      "password valid\n"
     ]
    }
   ],
   "source": [
    "st='Pr@Sad0517'\n",
    "def password(coll):\n",
    "    #coll=int(input('enter the password:'))\n",
    "    if len(coll)>8 and 'A'<=coll[0]<='Z':\n",
    "        uc,lc,sp,num=0,0,0,0\n",
    "        for i in coll:\n",
    "            if 'A'<=i<='Z':\n",
    "                uc+=1\n",
    "            if 'a'<=i<='z':\n",
    "                lc+=1\n",
    "            if '0'<=i<='9':\n",
    "                num+=1\n",
    "            else:\n",
    "                sp+=1\n",
    "        if uc>=2 and lc>=2 and sp>=1 and num>=1:\n",
    "            print('password valid')\n",
    "        else:\n",
    "            print('password invalid')\n",
    "password(st)"
   ]
  },
  {
   "cell_type": "code",
   "execution_count": 3,
   "metadata": {},
   "outputs": [
    {
     "name": "stdout",
     "output_type": "stream",
     "text": [
      "password should be more than eight characters and starting character should be uppercase\n",
      "password should be more than eight characters and starting character should be uppercase\n",
      "password should be more than eight characters and starting character should be uppercase\n",
      "password should be more than eight characters and starting character should be uppercase\n",
      "password should be more than eight characters and starting character should be uppercase\n"
     ]
    }
   ],
   "source": [
    "#st=\"Pr@Sad0517\"\n",
    "def password():\n",
    "    coll=input('enter the password:')\n",
    "    if len(coll)>8 and 'A'<=coll[0]<='Z':\n",
    "        uc,lc,sp,num=0,0,0,0\n",
    "        for i in coll:\n",
    "            if 'A'<=i<='Z':\n",
    "                uc+=1\n",
    "            elif 'a'<=i<='z':\n",
    "                lc+=1\n",
    "            elif '0'<=i<='9':\n",
    "                num+=1\n",
    "            else:\n",
    "                sp+=1\n",
    "        if uc<2:\n",
    "            print('password should be morethan one uppercase')\n",
    "        if lc<2:\n",
    "            print('password should be morethan one lowercase')\n",
    "        if sp<1:\n",
    "            print('password should be min. one special character')\n",
    "        if num<1:\n",
    "            print('password should be min. one number character')\n",
    "    else:\n",
    "        print('password should be more than eight characters and starting character should be uppercase')\n",
    "    return password()\n",
    "password()            "
   ]
  },
  {
   "cell_type": "code",
   "execution_count": null,
   "metadata": {},
   "outputs": [
    {
     "data": {
      "text/plain": [
       "'PrasadY@lla0517'"
      ]
     },
     "execution_count": 3,
     "metadata": {},
     "output_type": "execute_result"
    }
   ],
   "source": [
    "def password():\n",
    "    coll=input('enter the password:')\n",
    "    if len(coll)>8 and 'A'<=coll[0]<='Z':\n",
    "        uc,lc,sp,num=0,0,0,0\n",
    "        for i in coll:\n",
    "            if 'A'<=i<='Z':\n",
    "                uc+=1\n",
    "            elif 'a'<=i<='z':\n",
    "                lc+=1\n",
    "            elif '0'<=i<='9':\n",
    "                num+=1\n",
    "            else:\n",
    "                sp+=1\n",
    "        if uc<2:\n",
    "            print('password should be morethan one uppercase')\n",
    "            return password()\n",
    "        elif lc<2:\n",
    "            print('password should be morethan one lowercase')\n",
    "            return password()\n",
    "        elif sp<1:\n",
    "            print('password should be min. one special character')\n",
    "            return password()\n",
    "        elif num<1:\n",
    "            print('password should be min. one number character')\n",
    "            return password()\n",
    "    else:\n",
    "        print('password should be more than eight characters and starting character should be uppercase')\n",
    "        return password()\n",
    "    return coll\n",
    "password()"
   ]
  },
  {
   "cell_type": "code",
   "execution_count": null,
   "metadata": {},
   "outputs": [
    {
     "name": "stdout",
     "output_type": "stream",
     "text": [
      "{101: ['HYD', 'VIJ'], 102: ['VIJ', 'HYD'], 103: ['HYD', 'YNM'], 104: ['YNM', 'HYD']}\n",
      "{101: ['HYD', 'VIJ'], 102: ['VIJ', 'HYD'], 103: ['HYD', 'YNM'], 104: ['YNM', 'HYD'], 105: ['YNM', 'BLR']}\n"
     ]
    }
   ],
   "source": [
    "#Travelling services\n",
    "\n",
    "services={101:['HYD','VIJ'],102:['VIJ','HYD'],103:['HYD','YNM'],104:['YNM','HYD']}\n",
    "print(services)\n",
    "#services[101]\n",
    "service_no=105\n",
    "def create_services(service):\n",
    "    global service_no\n",
    "    source=input('enter the city:')\n",
    "    destination=input('enter the destination:')\n",
    "    service[service_no]=[source,destination]\n",
    "    #service_no+=1\n",
    "create_services(services)\n",
    "print(services)"
   ]
  },
  {
   "cell_type": "markdown",
   "metadata": {},
   "source": [
    "services.items()"
   ]
  },
  {
   "cell_type": "code",
   "execution_count": null,
   "metadata": {},
   "outputs": [
    {
     "name": "stdout",
     "output_type": "stream",
     "text": [
      "     Service no             Source            Destination     \n",
      "     ----------             ------            -----------     \n",
      "        101                  HYD                  VIJ         \n",
      "        102                  VIJ                  HYD         \n",
      "        103                  HYD                  YNM         \n",
      "        104                  YNM                  HYD         \n",
      "        105                  YNM                  BLR         \n"
     ]
    }
   ],
   "source": [
    "def display_services():\n",
    "    print('Service no'.center(20),'Source'.center(20),'Destination'.center(20))\n",
    "    print('----------'.center(20),'------'.center(20),'-----------'.center(20))\n",
    "    for i in services.items():\n",
    "        print(str(i[0]).center(20),i[1][0].center(20),i[1][1].center(20))\n",
    "display_services()"
   ]
  },
  {
   "cell_type": "code",
   "execution_count": null,
   "metadata": {},
   "outputs": [
    {
     "name": "stdout",
     "output_type": "stream",
     "text": [
      "Invalid service\n"
     ]
    }
   ],
   "source": [
    "def delete_services(service):\n",
    "    num=input('enter the service no:')\n",
    "    if num in service:\n",
    "        n=int(input(f'are you sure to delete {num} no:\\n1.confirm\\n2.cancel\\n.choose thr option:'))\n",
    "        if n==1:\n",
    "            del service [num]\n",
    "        else:\n",
    "            return\n",
    "    else:\n",
    "        print('Invalid service')\n",
    "delete_services(services)"
   ]
  },
  {
   "cell_type": "code",
   "execution_count": null,
   "metadata": {},
   "outputs": [
    {
     "name": "stdout",
     "output_type": "stream",
     "text": [
      "{101: ['hyd', 'vij', 14.0, 22.0, 300, {'A1': True, 'A2': True, 'A3': True, 'A4': True, 'B1': True, 'B2': True, 'B3': True, 'B4': True, 'C1': True, 'C2': True, 'C3': True, 'C4': True, 'D1': True, 'D2': True, 'D3': True, 'D4': True, 'E1': True, 'E2': True, 'E3': True, 'E4': True, 'F1': True, 'F2': True, 'F3': True, 'F4': True}], 102: ['kkd', 'viz', 10.0, 2.0, 250, {'A1': True, 'A2': True, 'A3': True, 'A4': True, 'B1': True, 'B2': True, 'B3': True, 'B4': True, 'C1': True, 'C2': True, 'C3': True, 'C4': True, 'D1': True, 'D2': True, 'D3': True, 'D4': True, 'E1': True, 'E2': True, 'E3': True, 'E4': True, 'F1': True, 'F2': True, 'F3': True, 'F4': True}], 103: ['ynm', 'chn', 23.0, 23.0, 200, {'A1': True, 'A2': True, 'A3': True, 'A4': True, 'B1': True, 'B2': True, 'B3': True, 'B4': True, 'C1': True, 'C2': True, 'C3': True, 'C4': True, 'D1': True, 'D2': True, 'D3': True, 'D4': True, 'E1': True, 'E2': True, 'E3': True, 'E4': True, 'F1': True, 'F2': True, 'F3': True, 'F4': True}], 104: ['blr', 'hyd', 10.0, 2.0, 150, {'A1': True, 'A2': True, 'A3': True, 'A4': True, 'B1': True, 'B2': True, 'B3': True, 'B4': True, 'C1': True, 'C2': True, 'C3': True, 'C4': True, 'D1': True, 'D2': True, 'D3': True, 'D4': True, 'E1': True, 'E2': True, 'E3': True, 'E4': True, 'F1': True, 'F2': True, 'F3': True, 'F4': True}]}\n",
      "{101: ['hyd', 'vij', 14.0, 22.0, 300, {'A1': True, 'A2': True, 'A3': True, 'A4': True, 'B1': True, 'B2': True, 'B3': True, 'B4': True, 'C1': True, 'C2': True, 'C3': True, 'C4': True, 'D1': True, 'D2': True, 'D3': True, 'D4': True, 'E1': True, 'E2': True, 'E3': True, 'E4': True, 'F1': True, 'F2': True, 'F3': True, 'F4': True}], 102: ['kkd', 'viz', 10.0, 2.0, 250, {'A1': True, 'A2': True, 'A3': True, 'A4': True, 'B1': True, 'B2': True, 'B3': True, 'B4': True, 'C1': True, 'C2': True, 'C3': True, 'C4': True, 'D1': True, 'D2': True, 'D3': True, 'D4': True, 'E1': True, 'E2': True, 'E3': True, 'E4': True, 'F1': True, 'F2': True, 'F3': True, 'F4': True}], 103: ['ynm', 'chn', 23.0, 23.0, 200, {'A1': True, 'A2': True, 'A3': True, 'A4': True, 'B1': True, 'B2': True, 'B3': True, 'B4': True, 'C1': True, 'C2': True, 'C3': True, 'C4': True, 'D1': True, 'D2': True, 'D3': True, 'D4': True, 'E1': True, 'E2': True, 'E3': True, 'E4': True, 'F1': True, 'F2': True, 'F3': True, 'F4': True}], 104: ['blr', 'hyd', 10.0, 2.0, 150, {'A1': True, 'A2': True, 'A3': True, 'A4': True, 'B1': True, 'B2': True, 'B3': True, 'B4': True, 'C1': True, 'C2': True, 'C3': True, 'C4': True, 'D1': True, 'D2': True, 'D3': True, 'D4': True, 'E1': True, 'E2': True, 'E3': True, 'E4': True, 'F1': True, 'F2': True, 'F3': True, 'F4': True}]}\n"
     ]
    }
   ],
   "source": [
    "\n",
    "import copy\n",
    "seats={'A1':True,'A2':True,'A3':True,'A4':True,\n",
    "       'B1':True,'B2':True,'B3':True,'B4':True,\n",
    "       'C1':True,'C2':True,'C3':True,'C4':True,\n",
    "       'D1':True,'D2':True,'D3':True,'D4':True,\n",
    "       'E1':True,'E2':True,'E3':True,'E4':True,\n",
    "       'F1':True,'F2':True,'F3':True,'F4':True}\n",
    "services={101: ['hyd', 'vij',14.00,22.00,300,copy.deepcopy(seats)],\n",
    "          102: ['kkd', 'viz',10.00,2.00,250,copy.deepcopy(seats)],\n",
    "          103: ['ynm', 'chn',23.00,23.00,200,copy.deepcopy(seats)],\n",
    "          104: ['blr', 'hyd',10.00,2.00,150,copy.deepcopy(seats)]}\n",
    "print(services)\n",
    "service_no=105\n",
    "def create_services(service):\n",
    "    global service_no\n",
    "    source=input(\"enter source city\")\n",
    "    destination=input(\"enter destination city :\")\n",
    "    start_time=input(\"Enter the start time :\")\n",
    "    end_time=input(\"Enter the end time :\")\n",
    "    kml=input(\"Enter the kilo meters :\")\n",
    "    service[service_no]=[source,destination,start_time,end_time,kml]\n",
    "    service_no+=1\n",
    "#create_services(services)\n",
    "print(services)"
   ]
  },
  {
   "cell_type": "code",
   "execution_count": null,
   "metadata": {},
   "outputs": [
    {
     "name": "stdout",
     "output_type": "stream",
     "text": [
      "{101: ['hyd', 'vij', 14.0, 22.0, 300, {'A1': True, 'A2': True, 'A3': True, 'A4': True, 'B1': True, 'B2': True, 'B3': True, 'B4': True, 'C1': True, 'C2': True, 'C3': True, 'C4': True, 'D1': True, 'D2': True, 'D3': True, 'D4': True, 'E1': True, 'E2': True, 'E3': True, 'E4': True, 'F1': True, 'F2': True, 'F3': True, 'F4': True}], 102: ['kkd', 'viz', 10.0, 2.0, 250, {'A1': True, 'A2': True, 'A3': True, 'A4': True, 'B1': True, 'B2': True, 'B3': True, 'B4': True, 'C1': True, 'C2': True, 'C3': True, 'C4': True, 'D1': True, 'D2': True, 'D3': True, 'D4': True, 'E1': True, 'E2': True, 'E3': True, 'E4': True, 'F1': True, 'F2': True, 'F3': True, 'F4': True}], 103: ['ynm', 'chn', 23.0, 23.0, 200, {'A1': True, 'A2': True, 'A3': True, 'A4': True, 'B1': True, 'B2': True, 'B3': True, 'B4': True, 'C1': True, 'C2': True, 'C3': True, 'C4': True, 'D1': True, 'D2': True, 'D3': True, 'D4': True, 'E1': True, 'E2': True, 'E3': True, 'E4': True, 'F1': True, 'F2': True, 'F3': True, 'F4': True}], 104: ['blr', 'hyd', 10.0, 2.0, 150, {'A1': True, 'A2': True, 'A3': True, 'A4': True, 'B1': True, 'B2': True, 'B3': True, 'B4': True, 'C1': True, 'C2': True, 'C3': True, 'C4': True, 'D1': True, 'D2': True, 'D3': True, 'D4': True, 'E1': True, 'E2': True, 'E3': True, 'E4': True, 'F1': True, 'F2': True, 'F3': True, 'F4': True}]}\n"
     ]
    }
   ],
   "source": [
    "def update_services(service):\n",
    "    num=int(input(\"enter the service no :\"))\n",
    "    if num in service:\n",
    "        print(f\"source:{service[num][0]}\\ndestination:{service[num][1]}\")\n",
    "        n=int(input(f\"are you sure to modify {num} details:\\n1.confirm\\n2.cancel\\nchoose the option :\"))       \n",
    "        if n==1:\n",
    "            service[num][0]=input(\"Enter the source city :\")\n",
    "            service[num][1]=input(\"Enter the destination city :\")\n",
    "            service[num][2]=input(\"Enter the start time :\")\n",
    "            service[num][3]=input(\"Enter the end time :\")\n",
    "            service[num][4]=input(\"Enter the kilometers :\")\n",
    "\n",
    "            print(\"services details modified\")\n",
    "            print(f\"modified details in source:{service[num][0]} in destination:{service[num][1]}\")\n",
    "        else:\n",
    "            return\n",
    "    else:\n",
    "        print(\"invalid service_no\")\n",
    "#update_services(services)\n",
    "print(services)"
   ]
  },
  {
   "cell_type": "code",
   "execution_count": null,
   "metadata": {},
   "outputs": [
    {
     "name": "stdout",
     "output_type": "stream",
     "text": [
      "Total seats 24\n",
      "available seats ['A1', 'A2', 'A4', 'B1', 'B3', 'B4', 'C2', 'C3', 'C4', 'D1', 'D2', 'D4', 'E2', 'E3', 'E4', 'F1', 'F2', 'F3']\n",
      "unavailable seats ['A3', 'B2', 'C1', 'D3', 'E1', 'F4']\n",
      "count available seats 18\n",
      "count unavailable seats 6\n"
     ]
    }
   ],
   "source": [
    "seats={'A1':True,'A2':True,'A3':False,'A4':True,\n",
    "       'B1':True,'B2':False,'B3':True,'B4':True,\n",
    "       'C1':False,'C2':True,'C3':True,'C4':True,\n",
    "       'D1':True,'D2':True,'D3':False,'D4':True,\n",
    "       'E1':False,'E2':True,'E3':True,'E4':True,\n",
    "       'F1':True,'F2':True,'F3':True,'F4':False}\n",
    "def bus_seats(coll):\n",
    "    available=[]\n",
    "    unavailable=[]\n",
    "    for i in coll:\n",
    "        if coll[i]==True:\n",
    "            available+=[i]\n",
    "        else:\n",
    "            unavailable+=[i]\n",
    "    return(available,unavailable)\n",
    "res=bus_seats(seats)\n",
    "print(\"Total seats\",len(seats))\n",
    "print(\"available seats\",res[0])\n",
    "print(\"unavailable seats\",res[1])\n",
    "print(\"count available seats\",len(res[0]))\n",
    "print(\"count unavailable seats\",len(res[1]))"
   ]
  },
  {
   "cell_type": "code",
   "execution_count": null,
   "metadata": {},
   "outputs": [
    {
     "name": "stdout",
     "output_type": "stream",
     "text": [
      "     service no             source            destination          start time             End time            kilometers          Total seats        available seats     unavailable seats  \n",
      "      -------               ------              -------              -------               ------              -------              -------               ------              -------       \n"
     ]
    },
    {
     "name": "stdout",
     "output_type": "stream",
     "text": [
      "        102                  kkd                  viz                  10.0                 2.0                  250                   24                   24                   0          \n"
     ]
    }
   ],
   "source": [
    "def display_all_service(service):\n",
    "    for i in service.items():\n",
    "        seats=bus_seats(i[1][-1])\n",
    "        print(str(i).center(20),\n",
    "                  services[i][0].center(20),\n",
    "                  services[i][1].center(20),\n",
    "                  str(services[i][2]).center(20),\n",
    "                  str(services[i][3]).center(20),\n",
    "                  str(services[i][4]).center(20),\n",
    "                  str(len(services[i][-1])).center(20),\n",
    "                  str(len(seats[0])).center(20),\n",
    "                  str(len(seats[1])).center(20))\n",
    "def display_service_no(service,ele):\n",
    "    for i in service:\n",
    "        if ele==i:\n",
    "            seats=bus_seats(services[i][-1])\n",
    "            print(str(i).center(20),\n",
    "                  services[i][0].center(20),\n",
    "                  services[i][1].center(20),\n",
    "                  str(services[i][2]).center(20),\n",
    "                  str(services[i][3]).center(20),\n",
    "                  str(services[i][4]).center(20),\n",
    "                  str(len(services[i][-1])).center(20),\n",
    "                  str(len(seats[0])).center(20),\n",
    "                  str(len(seats[1])).center(20))\n",
    "def display_service_destination(service,ele):\n",
    "    for i in services:\n",
    "        if ele.upper()==services[i][0].upper():\n",
    "            seats=bus_seats(service[i][-1])\n",
    "            print(str(i).center(20),\n",
    "                  services[i][0].center(20),\n",
    "                  services[i][1].center(20),\n",
    "                  str(services[i][2]).center(20),\n",
    "                  str(services[i][3]).center(20),\n",
    "                  str(services[i][4]).center(20),\n",
    "                  str(len(services[i][-1])).center(20),\n",
    "                  str(len(seats[0])).center(20),\n",
    "                  str(len(seats[1])).center(20))\n",
    "def display_service_source(service,ele):\n",
    "    for i in services:\n",
    "        if ele.upper()==services[i][1].upper():\n",
    "            seats=bus_seats(service[i][-1])\n",
    "            print(str(i).center(20),\n",
    "                  services[i][0].center(20),\n",
    "                  services[i][1].center(20),\n",
    "                  str(services[i][2]).center(20),\n",
    "                  str(services[i][3]).center(20),\n",
    "                  str(services[i][4]).center(20),\n",
    "                  str(len(services[i][-1])).center(20),\n",
    "                  str(len(seats[0])).center(20),\n",
    "                  str(len(seats[1])).center(20))\n",
    "def display_service_both(service,ele,ele1):\n",
    "    for i in services:\n",
    "        if ele.upper()==services[i][0].upper() and ele1.upper()==services[i][1].upper():\n",
    "            seats=bus_seats(service[i][-1])\n",
    "            print(str(i).center(20),\n",
    "                  services[i][0].center(20),\n",
    "                  services[i][1].center(20),\n",
    "                  str(services[i][2]).center(20),\n",
    "                  str(services[i][3]).center(20),\n",
    "                  str(services[i][4]).center(20),\n",
    "                  str(len(services[i][-1])).center(20),\n",
    "                  str(len(seats[0])).center(20),\n",
    "                  str(len(seats[1])).center(20))\n",
    "def display_services():\n",
    "    print(\"service no\".center(20),\"source\".center(20),\"destination\".center(20),\"start time \".center(20),\"End time\".center(20),\n",
    "\"kilometers\".center(20),\"Total seats\".center(20),\"available seats\".center(20),\"unavailable seats\".center(20))\n",
    "    print(\"-------\".center(20),\"------\".center(20),\"-------\".center(20),\"-------\".center(20),\"------\".center(20),\n",
    "\"-------\".center(20),\"-------\".center(20),\"------\".center(20),\"-------\".center(20))\n",
    "    n=int(input(\"Choose the option :\\n1.service_no\\n2.source\\n3.Destinnation\\n4.Source and Destination\\n5.All services\\n Enter :\"))\n",
    "    match n:\n",
    "        case 1:\n",
    "            ele=int(input(\"Enter the service number :\"))\n",
    "            display_service_no(services,ele=ele)\n",
    "        case 2:\n",
    "            ele=input(\"Enter the source city :\")\n",
    "            display_service_source(services,ele=ele)\n",
    "        case 3:\n",
    "            ele=input(\"Enter the Destination city :\")\n",
    "            display_service_destination(services,ele=ele)\n",
    "        case 4:\n",
    "            ele=input(\"Enter the source city :\")\n",
    "            ele1=input(\"Enter the destination city :\")\n",
    "            display_service_both(services,ele=ele,ele1=ele1)\n",
    "        \n",
    "        case _:\n",
    "            display_all_service(services)\n",
    "display_services()"
   ]
  },
  {
   "cell_type": "code",
   "execution_count": null,
   "metadata": {},
   "outputs": [
    {
     "name": "stdout",
     "output_type": "stream",
     "text": [
      "     service no             source            destination          start time             End time              Price             Total seats        available seats     unavailable seats  \n",
      "      -------               ------              -------              -------               ------              -------              -------               ------              -------       \n",
      "        101                  hyd                  vij                  14.0                 22.0                 600                   24                   24                   0          \n",
      "        102                  kkd                  viz                  10.0                 2.0                  500                   24                   24                   0          \n",
      "        103                  ynm                  chn                  23.0                 23.0                 400                   24                   24                   0          \n",
      "        104                  blr                  hyd                  10.0                 2.0                  300                   24                   24                   0          \n"
     ]
    }
   ],
   "source": [
    "def search_buses():\n",
    "    ele=input(\"enter the source city:\")\n",
    "    ele1=input('enter the destination city:')\n",
    "    print(\"service no\".center(20),\"source\".center(20),\"destination\".center(20),\"start time \".center(20),\"End time\".center(20),\n",
    "\"Price\".center(20),\"Total seats\".center(20),\"available seats\".center(20),\"unavailable seats\".center(20)) \n",
    "    print(\"-------\".center(20),\"------\".center(20),\"-------\".center(20),\"-------\".center(20),\"------\".center(20),\n",
    "\"-------\".center(20),\"-------\".center(20),\"------\".center(20),\"-------\".center(20))\n",
    "    for i in services:\n",
    "        #if services[i][0]==ele.upper().upper() and services[i][1].upper()==ele1.upper():\n",
    "            bus=services[i]\n",
    "            print(str(i).center(20),\n",
    "                  bus[0].center(20),\n",
    "                  bus[1].center(20),\n",
    "                  str(bus[2]).center(20),\n",
    "                  str(bus[3]).center(20),\n",
    "                  str(bus[4]*2).center(20),\n",
    "                  str(len(bus[5])).center(20),\n",
    "                  str(len(bus_seats(bus[5])[0])).center(20),\n",
    "                  str(len(bus_seats(bus[5])[1])).center(20))\n",
    "search_buses()"
   ]
  },
  {
   "cell_type": "code",
   "execution_count": null,
   "metadata": {},
   "outputs": [
    {
     "name": "stdout",
     "output_type": "stream",
     "text": [
      "        101                  hyd                  vij                  14.0                 22.0                 600                   24                   24                   0          \n",
      "        102                  kkd                  viz                  10.0                 2.0                  500                   24                   24                   0          \n",
      "        103                  ynm                  chn                  23.0                 23.0                 400                   24                   24                   0          \n",
      "        104                  blr                  hyd                  10.0                 2.0                  300                   24                   24                   0          \n"
     ]
    }
   ],
   "source": [
    "for i in services:\n",
    "        #if services[i][0]==ele.upper().upper() and services[i][1].upper()==ele1.upper():\n",
    "            bus=services[i]\n",
    "            print(str(i).center(20),\n",
    "                  bus[0].center(20),\n",
    "                  bus[1].center(20),\n",
    "                  str(bus[2]).center(20),\n",
    "                  str(bus[3]).center(20),\n",
    "                  str(bus[4]*2).center(20),\n",
    "                  str(len(bus[5])).center(20),\n",
    "                  str(len(bus_seats(bus[5])[0])).center(20),\n",
    "                  str(len(bus_seats(bus[5])[1])).center(20))"
   ]
  }
 ],
 "metadata": {
  "kernelspec": {
   "display_name": "Python 3",
   "language": "python",
   "name": "python3"
  },
  "language_info": {
   "codemirror_mode": {
    "name": "ipython",
    "version": 3
   },
   "file_extension": ".py",
   "mimetype": "text/x-python",
   "name": "python",
   "nbconvert_exporter": "python",
   "pygments_lexer": "ipython3",
   "version": "3.11.3"
  },
  "orig_nbformat": 4
 },
 "nbformat": 4,
 "nbformat_minor": 2
}
