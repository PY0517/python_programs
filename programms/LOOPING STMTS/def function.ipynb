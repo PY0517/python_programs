{
 "cells": [
  {
   "cell_type": "code",
   "execution_count": 18,
   "metadata": {},
   "outputs": [
    {
     "data": {
      "text/plain": [
       "False"
      ]
     },
     "execution_count": 18,
     "metadata": {},
     "output_type": "execute_result"
    }
   ],
   "source": [
    "st=\"Pr@Sad477\"\n",
    "\n",
    "def password(coll):\n",
    "    \n",
    "    for i in coll:\n",
    "        if 'A'<=i<='Z' and 'a'<=i<='z' and '0'<=i<='9':\n",
    "            if len(st)>8:\n",
    "                return True\n",
    "            if 'A'<=i<='Z'>=2 and 'a'<=i<='z'>=2:\n",
    "                return True\n",
    "        else:\n",
    "            return False\n",
    "st.title()        \n",
    "password(st)\n",
    "        \n",
    "            "
   ]
  },
  {
   "cell_type": "code",
   "execution_count": 6,
   "metadata": {},
   "outputs": [
    {
     "name": "stdout",
     "output_type": "stream",
     "text": [
      "password valid\n"
     ]
    }
   ],
   "source": [
    "st='Pr@Sad0517'\n",
    "def password(coll):\n",
    "    #coll=int(input('enter the password:'))\n",
    "    if len(coll)>8 and 'A'<=coll[0]<='Z':\n",
    "        uc,lc,sp,num=0,0,0,0\n",
    "        for i in coll:\n",
    "            if 'A'<=i<='Z':\n",
    "                uc+=1\n",
    "            if 'a'<=i<='z':\n",
    "                lc+=1\n",
    "            if '0'<=i<='9':\n",
    "                num+=1\n",
    "            else:\n",
    "                sp+=1\n",
    "        if uc>=2 and lc>=2 and sp>=1 and num>=1:\n",
    "            print('password valid')\n",
    "        else:\n",
    "            print('password invalid')\n",
    "password(st)"
   ]
  },
  {
   "cell_type": "code",
   "execution_count": 20,
   "metadata": {},
   "outputs": [
    {
     "name": "stdout",
     "output_type": "stream",
     "text": [
      "password should be more than eight characters and starting character should be uppercase\n"
     ]
    }
   ],
   "source": [
    "#st=\"Pr@Sad0517\"\n",
    "def password():\n",
    "    coll=input('enter the password:')\n",
    "    if len(coll)>8 and 'A'<=coll[0]<='Z':\n",
    "        uc,lc,sp,num=0,0,0,0\n",
    "        for i in coll:\n",
    "            if 'A'<=i<='Z':\n",
    "                uc+=1\n",
    "            elif 'a'<=i<='z':\n",
    "                lc+=1\n",
    "            elif '0'<=i<='9':\n",
    "                num+=1\n",
    "            else:\n",
    "                sp+=1\n",
    "        if uc<2:\n",
    "            print('password should be morethan one uppercase')\n",
    "        if lc<2:\n",
    "            print('password should be morethan one lowercase')\n",
    "        if sp<1:\n",
    "            print('password should be min. one special character')\n",
    "        if num<1:\n",
    "            print('password should be min. one number character')\n",
    "    else:\n",
    "        print('password should be more than eight characters and starting character should be uppercase')\n",
    "    return password()\n",
    "password()            "
   ]
  },
  {
   "cell_type": "code",
   "execution_count": 3,
   "metadata": {},
   "outputs": [
    {
     "data": {
      "text/plain": [
       "'PrasadY@lla0517'"
      ]
     },
     "execution_count": 3,
     "metadata": {},
     "output_type": "execute_result"
    }
   ],
   "source": [
    "def password():\n",
    "    coll=input('enter the password:')\n",
    "    if len(coll)>8 and 'A'<=coll[0]<='Z':\n",
    "        uc,lc,sp,num=0,0,0,0\n",
    "        for i in coll:\n",
    "            if 'A'<=i<='Z':\n",
    "                uc+=1\n",
    "            elif 'a'<=i<='z':\n",
    "                lc+=1\n",
    "            elif '0'<=i<='9':\n",
    "                num+=1\n",
    "            else:\n",
    "                sp+=1\n",
    "        if uc<2:\n",
    "            print('password should be morethan one uppercase')\n",
    "            return password()\n",
    "        elif lc<2:\n",
    "            print('password should be morethan one lowercase')\n",
    "            return password()\n",
    "        elif sp<1:\n",
    "            print('password should be min. one special character')\n",
    "            return password()\n",
    "        elif num<1:\n",
    "            print('password should be min. one number character')\n",
    "            return password()\n",
    "    else:\n",
    "        print('password should be more than eight characters and starting character should be uppercase')\n",
    "        return password()\n",
    "    return coll\n",
    "password()"
   ]
  },
  {
   "cell_type": "code",
   "execution_count": 4,
   "metadata": {},
   "outputs": [
    {
     "name": "stdout",
     "output_type": "stream",
     "text": [
      "{101: ['HYD', 'VIJ'], 102: ['VIJ', 'HYD'], 103: ['HYD', 'YNM'], 104: ['YNM', 'HYD']}\n",
      "{101: ['HYD', 'VIJ'], 102: ['VIJ', 'HYD'], 103: ['HYD', 'YNM'], 104: ['YNM', 'HYD'], 105: ['YNM', 'BLR']}\n"
     ]
    }
   ],
   "source": [
    "#Travelling services\n",
    "\n",
    "services={101:['HYD','VIJ'],102:['VIJ','HYD'],103:['HYD','YNM'],104:['YNM','HYD']}\n",
    "print(services)\n",
    "#services[101]\n",
    "service_no=105\n",
    "def create_services(service):\n",
    "    global service_no\n",
    "    source=input('enter the city:')\n",
    "    destination=input('enter the destination:')\n",
    "    service[service_no]=[source,destination]\n",
    "    #service_no+=1\n",
    "create_services(services)\n",
    "print(services)"
   ]
  },
  {
   "cell_type": "code",
   "execution_count": 19,
   "metadata": {},
   "outputs": [
    {
     "name": "stdout",
     "output_type": "stream",
     "text": [
      "     Service no             Source            Distination     \n",
      "     ----------             ------            -----------     \n",
      "        101                  HYD                  VIJ         \n",
      "        102                  VIJ                  HYD         \n",
      "        103                  HYD                  YNM         \n",
      "        104                  YNM                  HYD         \n",
      "        105                  CHE                  BLR         \n"
     ]
    }
   ],
   "source": [
    "def display_services():\n",
    "    print('Service no'.center(20),'Source'.center(20),'Distination'.center(20))\n",
    "    print('----------'.center(20),'------'.center(20),'-----------'.center(20))\n",
    "    for i in services.items():\n",
    "        print(str(i[0]).center(20),i[1][0].center(20),i[1][1].center(20))\n",
    "display_services()"
   ]
  },
  {
   "cell_type": "code",
   "execution_count": 5,
   "metadata": {},
   "outputs": [
    {
     "data": {
      "text/plain": [
       "dict_items([(101, ['HYD', 'VIJ']), (102, ['VIJ', 'HYD']), (103, ['HYD', 'YNM']), (104, ['YNM', 'HYD']), (105, ['YNM', 'BLR'])])"
      ]
     },
     "execution_count": 5,
     "metadata": {},
     "output_type": "execute_result"
    }
   ],
   "source": [
    "services.items()"
   ]
  },
  {
   "cell_type": "code",
   "execution_count": 17,
   "metadata": {},
   "outputs": [
    {
     "name": "stdout",
     "output_type": "stream",
     "text": [
      "Invalid service\n"
     ]
    }
   ],
   "source": [
    "def delete_services(service):\n",
    "    num=input('enter the service no:')\n",
    "    if num in service:\n",
    "        n=int(input(f'are you sure to delete {num} no:\\n1.confirm\\n2.cancel\\n.choose thr option:'))\n",
    "        if n==1:\n",
    "            del service [num]\n",
    "        else:\n",
    "            return\n",
    "    else:\n",
    "        print('Invalid service')\n",
    "delete_services(services)"
   ]
  }
 ],
 "metadata": {
  "kernelspec": {
   "display_name": "Python 3",
   "language": "python",
   "name": "python3"
  },
  "language_info": {
   "codemirror_mode": {
    "name": "ipython",
    "version": 3
   },
   "file_extension": ".py",
   "mimetype": "text/x-python",
   "name": "python",
   "nbconvert_exporter": "python",
   "pygments_lexer": "ipython3",
   "version": "3.11.3"
  },
  "orig_nbformat": 4
 },
 "nbformat": 4,
 "nbformat_minor": 2
}
