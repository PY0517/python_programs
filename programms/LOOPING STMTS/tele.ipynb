{
 "cells": [
  {
   "cell_type": "code",
   "execution_count": 1,
   "metadata": {},
   "outputs": [
    {
     "name": "stdout",
     "output_type": "stream",
     "text": [
      "22\n"
     ]
    }
   ],
   "source": [
    "#1. Declare two variables `a` and `b`, assign integer values to them, and print their sum.\n",
    "    # **Expected Output:** The sum of `a` and `b`.\n",
    "a=int(input())\n",
    "b=int(input())\n",
    "print(a+b)"
   ]
  },
  {
   "cell_type": "code",
   "execution_count": 2,
   "metadata": {},
   "outputs": [
    {
     "name": "stdout",
     "output_type": "stream",
     "text": [
      "hey haii good morning Prasad\n"
     ]
    }
   ],
   "source": [
    "#Create a variable name and assign your name to it. Print a greeting message using your name\n",
    "a=input()\n",
    "print(\"hey haii good morning\",a)"
   ]
  },
  {
   "cell_type": "code",
   "execution_count": 3,
   "metadata": {},
   "outputs": [
    {
     "name": "stdout",
     "output_type": "stream",
     "text": [
      "3.14\n"
     ]
    }
   ],
   "source": [
    "#Define a variable pi and assign the value of π (pi) to it. Print the value of pi.\n",
    "pi=3.14\n",
    "print(pi)"
   ]
  },
  {
   "cell_type": "code",
   "execution_count": 12,
   "metadata": {},
   "outputs": [
    {
     "name": "stdout",
     "output_type": "stream",
     "text": [
      "True\n"
     ]
    }
   ],
   "source": [
    "#Define a variable is_raining and ask the user to input either \"True\" or \"False\" (as a string). Convert the input to a boolean and print its type.\n",
    "is_raining=input()\n",
    "is_raining1=bool(is_raining)\n",
    "print(is_raining1)"
   ]
  },
  {
   "cell_type": "code",
   "execution_count": 16,
   "metadata": {},
   "outputs": [
    {
     "name": "stdout",
     "output_type": "stream",
     "text": [
      "haii hello how are youhaii hello how are youhaii hello how are you\n"
     ]
    }
   ],
   "source": [
    "#Create a string variable sentence containing any sentence of your choice. Ask the user to input a number, convert it to an integer, and print the sentence repeated that number of times.\n",
    "sentence=\"haii hello how are you\"\n",
    "number=input()\n",
    "number=int(number)\n",
    "print(sentence  * number)"
   ]
  },
  {
   "cell_type": "code",
   "execution_count": 19,
   "metadata": {},
   "outputs": [
    {
     "name": "stdout",
     "output_type": "stream",
     "text": [
      "22\n",
      "-12\n",
      "0.29411764705882354\n",
      "0\n",
      "85\n",
      "762939453125\n",
      "5\n"
     ]
    }
   ],
   "source": [
    "#6. Given two variables `x` and `y`, perform the following operations and print the results:\n",
    "    # Addition of `x` and `y`.\n",
    "    # Subtraction of `y` from `x`.\n",
    "    # Multiplication of `x` and `y`.\n",
    "    # Division of `x` by `y`.\n",
    "    # `x` raised to the power of `y`.\n",
    "    # The remainder when `x` is divided by `y`.\n",
    "    # The floor division of `x` by `y`.\n",
    "\n",
    "x=5\n",
    "y=17\n",
    "print(x+y)\n",
    "print(x-y)\n",
    "print(x/y)\n",
    "print(x//y)\n",
    "print(x*y)\n",
    "print(x**y)\n",
    "print(x%y)"
   ]
  },
  {
   "cell_type": "code",
   "execution_count": 20,
   "metadata": {},
   "outputs": [
    {
     "name": "stdout",
     "output_type": "stream",
     "text": [
      "10\n"
     ]
    }
   ],
   "source": [
    "#Define a variable value and assign any numerical value to it. Ask the user to input a new value. Update the variable value with the new input and print the updated value.\n",
    "value=50\n",
    "value=int(input())\n",
    "print(value)"
   ]
  },
  {
   "cell_type": "code",
   "execution_count": 24,
   "metadata": {},
   "outputs": [
    {
     "name": "stdout",
     "output_type": "stream",
     "text": [
      "6\n",
      "2.0\n",
      "-6\n",
      "12.0\n",
      "14.0\n"
     ]
    }
   ],
   "source": [
    "# 1\n",
    "result = 10 + 3 * 2 - 8 / 4\n",
    "print(3*2)\n",
    "print(8/4)\n",
    "print(2-8)\n",
    "print(10+6+2.0-6)\n",
    "print(result)"
   ]
  },
  {
   "cell_type": "code",
   "execution_count": 3,
   "metadata": {},
   "outputs": [
    {
     "name": "stdout",
     "output_type": "stream",
     "text": [
      "s a r d p\n"
     ]
    }
   ],
   "source": [
    "s=\"prasad\"\n",
    "l=\" \".join(set(s))\n",
    "print(l)"
   ]
  },
  {
   "cell_type": "code",
   "execution_count": null,
   "metadata": {},
   "outputs": [],
   "source": []
  },
  {
   "cell_type": "code",
   "execution_count": null,
   "metadata": {},
   "outputs": [],
   "source": []
  },
  {
   "cell_type": "code",
   "execution_count": null,
   "metadata": {},
   "outputs": [],
   "source": []
  },
  {
   "cell_type": "code",
   "execution_count": null,
   "metadata": {},
   "outputs": [],
   "source": []
  }
 ],
 "metadata": {
  "kernelspec": {
   "display_name": "Python 3",
   "language": "python",
   "name": "python3"
  },
  "language_info": {
   "codemirror_mode": {
    "name": "ipython",
    "version": 3
   },
   "file_extension": ".py",
   "mimetype": "text/x-python",
   "name": "python",
   "nbconvert_exporter": "python",
   "pygments_lexer": "ipython3",
   "version": "3.11.3"
  },
  "orig_nbformat": 4
 },
 "nbformat": 4,
 "nbformat_minor": 2
}
