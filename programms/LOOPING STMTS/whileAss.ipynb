{
 "cells": [
  {
   "cell_type": "code",
   "execution_count": 2,
   "metadata": {},
   "outputs": [
    {
     "name": "stdout",
     "output_type": "stream",
     "text": [
      "1551\n"
     ]
    }
   ],
   "source": [
    "n=1551\n",
    "rev=0\n",
    "while n>0:\n",
    "    res=n%10\n",
    "    rev=rev*10+res\n",
    "    n=n//10\n",
    "print(rev)"
   ]
  },
  {
   "cell_type": "code",
   "execution_count": 16,
   "metadata": {},
   "outputs": [
    {
     "name": "stdout",
     "output_type": "stream",
     "text": [
      "not\n",
      "not\n",
      "not\n",
      "not\n",
      "not\n",
      "not\n",
      "not\n",
      "prime\n",
      "prime\n"
     ]
    }
   ],
   "source": [
    "n=9\n",
    "start=2\n",
    "end=10\n",
    "count=0\n",
    "while start<=end:\n",
    "    if n%start==0:\n",
    "        count+=1\n",
    "    start+=1\n",
    "    if count==2:\n",
    "        print(\"prime\")\n",
    "    else:\n",
    "        print(\"not\")\n"
   ]
  },
  {
   "cell_type": "code",
   "execution_count": 18,
   "metadata": {},
   "outputs": [
    {
     "name": "stdout",
     "output_type": "stream",
     "text": [
      "Number isn't prime\n"
     ]
    }
   ],
   "source": [
    "n=int(input(\"Enter number: \"))\n",
    "m=0\n",
    "for i in range(2,n//2+1):\n",
    "    if(n%i==0):\n",
    "        m=m+1\n",
    "if(m<=0):\n",
    "    print(\"Number is prime\")\n",
    "else:\n",
    "    print(\"Number isn't prime\")"
   ]
  },
  {
   "cell_type": "code",
   "execution_count": 19,
   "metadata": {},
   "outputs": [
    {
     "ename": "KeyboardInterrupt",
     "evalue": "",
     "output_type": "error",
     "traceback": [
      "\u001b[1;31m---------------------------------------------------------------------------\u001b[0m",
      "\u001b[1;31mKeyboardInterrupt\u001b[0m                         Traceback (most recent call last)",
      "Cell \u001b[1;32mIn[19], line 4\u001b[0m\n\u001b[0;32m      2\u001b[0m \u001b[39mwhile\u001b[39;00m \u001b[39m1\u001b[39m\u001b[39m<\u001b[39mn:\n\u001b[0;32m      3\u001b[0m     \u001b[39msum\u001b[39m\u001b[39m=\u001b[39m\u001b[39m0\u001b[39m\n\u001b[1;32m----> 4\u001b[0m     \u001b[39mwhile\u001b[39;00m n:\n\u001b[0;32m      5\u001b[0m         res\u001b[39m=\u001b[39mn\u001b[39m%\u001b[39m\u001b[39m10\u001b[39m\n\u001b[0;32m      6\u001b[0m         \u001b[39msum\u001b[39m\u001b[39m+\u001b[39m\u001b[39m=\u001b[39mres\u001b[39m*\u001b[39mres\n",
      "\u001b[1;31mKeyboardInterrupt\u001b[0m: "
     ]
    }
   ],
   "source": [
    "n=19\n",
    "while 1<n:\n",
    "    sum=0\n",
    "    while n:\n",
    "        res=n%10\n",
    "        sum+=res*res\n",
    "        n//10\n",
    "    if sum==1:\n",
    "        print(\"happy\")\n",
    "    else:\n",
    "        print(\"not\")"
   ]
  }
 ],
 "metadata": {
  "kernelspec": {
   "display_name": "Python 3",
   "language": "python",
   "name": "python3"
  },
  "language_info": {
   "codemirror_mode": {
    "name": "ipython",
    "version": 3
   },
   "file_extension": ".py",
   "mimetype": "text/x-python",
   "name": "python",
   "nbconvert_exporter": "python",
   "pygments_lexer": "ipython3",
   "version": "3.11.3"
  },
  "orig_nbformat": 4
 },
 "nbformat": 4,
 "nbformat_minor": 2
}
