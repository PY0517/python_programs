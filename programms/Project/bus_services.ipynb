{
 "cells": [
  {
   "cell_type": "code",
   "execution_count": 1,
   "metadata": {},
   "outputs": [
    {
     "name": "stdout",
     "output_type": "stream",
     "text": [
      "{101: ['hyd', 'vij', 14.0, 22.0, 300, {'A1': True, 'A2': True, 'A3': True, 'A4': True, 'B1': True, 'B2': True, 'B3': True, 'B4': True, 'C1': True, 'C2': True, 'C3': True, 'C4': True, 'D1': True, 'D2': True, 'D3': True, 'D4': True, 'E1': True, 'E2': True, 'E3': True, 'E4': True, 'F1': True, 'F2': True, 'F3': True, 'F4': True}], 102: ['kkd', 'viz', 10.0, 2.0, 250, {'A1': True, 'A2': True, 'A3': True, 'A4': True, 'B1': True, 'B2': True, 'B3': True, 'B4': True, 'C1': True, 'C2': True, 'C3': True, 'C4': True, 'D1': True, 'D2': True, 'D3': True, 'D4': True, 'E1': True, 'E2': True, 'E3': True, 'E4': True, 'F1': True, 'F2': True, 'F3': True, 'F4': True}], 103: ['ynm', 'chn', 23.0, 23.0, 200, {'A1': True, 'A2': True, 'A3': True, 'A4': True, 'B1': True, 'B2': True, 'B3': True, 'B4': True, 'C1': True, 'C2': True, 'C3': True, 'C4': True, 'D1': True, 'D2': True, 'D3': True, 'D4': True, 'E1': True, 'E2': True, 'E3': True, 'E4': True, 'F1': True, 'F2': True, 'F3': True, 'F4': True}], 104: ['blr', 'hyd', 10.0, 2.0, 150, {'A1': True, 'A2': True, 'A3': True, 'A4': True, 'B1': True, 'B2': True, 'B3': True, 'B4': True, 'C1': True, 'C2': True, 'C3': True, 'C4': True, 'D1': True, 'D2': True, 'D3': True, 'D4': True, 'E1': True, 'E2': True, 'E3': True, 'E4': True, 'F1': True, 'F2': True, 'F3': True, 'F4': True}]}\n",
      "{101: ['hyd', 'vij', 14.0, 22.0, 300, {'A1': True, 'A2': True, 'A3': True, 'A4': True, 'B1': True, 'B2': True, 'B3': True, 'B4': True, 'C1': True, 'C2': True, 'C3': True, 'C4': True, 'D1': True, 'D2': True, 'D3': True, 'D4': True, 'E1': True, 'E2': True, 'E3': True, 'E4': True, 'F1': True, 'F2': True, 'F3': True, 'F4': True}], 102: ['kkd', 'viz', 10.0, 2.0, 250, {'A1': True, 'A2': True, 'A3': True, 'A4': True, 'B1': True, 'B2': True, 'B3': True, 'B4': True, 'C1': True, 'C2': True, 'C3': True, 'C4': True, 'D1': True, 'D2': True, 'D3': True, 'D4': True, 'E1': True, 'E2': True, 'E3': True, 'E4': True, 'F1': True, 'F2': True, 'F3': True, 'F4': True}], 103: ['ynm', 'chn', 23.0, 23.0, 200, {'A1': True, 'A2': True, 'A3': True, 'A4': True, 'B1': True, 'B2': True, 'B3': True, 'B4': True, 'C1': True, 'C2': True, 'C3': True, 'C4': True, 'D1': True, 'D2': True, 'D3': True, 'D4': True, 'E1': True, 'E2': True, 'E3': True, 'E4': True, 'F1': True, 'F2': True, 'F3': True, 'F4': True}], 104: ['blr', 'hyd', 10.0, 2.0, 150, {'A1': True, 'A2': True, 'A3': True, 'A4': True, 'B1': True, 'B2': True, 'B3': True, 'B4': True, 'C1': True, 'C2': True, 'C3': True, 'C4': True, 'D1': True, 'D2': True, 'D3': True, 'D4': True, 'E1': True, 'E2': True, 'E3': True, 'E4': True, 'F1': True, 'F2': True, 'F3': True, 'F4': True}]}\n"
     ]
    }
   ],
   "source": [
    "\n",
    "import copy\n",
    "seats={'A1':True,'A2':True,'A3':True,'A4':True,\n",
    "       'B1':True,'B2':True,'B3':True,'B4':True,\n",
    "       'C1':True,'C2':True,'C3':True,'C4':True,\n",
    "       'D1':True,'D2':True,'D3':True,'D4':True,\n",
    "       'E1':True,'E2':True,'E3':True,'E4':True,\n",
    "       'F1':True,'F2':True,'F3':True,'F4':True}\n",
    "services={101: ['hyd', 'vij',14.00,22.00,300,copy.deepcopy(seats)],\n",
    "          102: ['kkd', 'viz',10.00,2.00,250,copy.deepcopy(seats)],\n",
    "          103: ['ynm', 'chn',23.00,23.00,200,copy.deepcopy(seats)],\n",
    "          104: ['blr', 'hyd',10.00,2.00,150,copy.deepcopy(seats)]}\n",
    "print(services)\n",
    "service_no=105\n",
    "def create_services(service):\n",
    "    global service_no\n",
    "    source=input(\"enter source city\")\n",
    "    destination=input(\"enter destination city :\")\n",
    "    start_time=input(\"Enter the start time :\")\n",
    "    end_time=input(\"Enter the end time :\")\n",
    "    kml=input(\"Enter the kilo meters :\")\n",
    "    service[service_no]=[source,destination,start_time,end_time,kml]\n",
    "    service_no+=1\n",
    "#create_services(services)\n",
    "print(services)"
   ]
  },
  {
   "cell_type": "code",
   "execution_count": 2,
   "metadata": {},
   "outputs": [
    {
     "name": "stdout",
     "output_type": "stream",
     "text": [
      "{101: ['hyd', 'vij', 14.0, 22.0, 300, {'A1': True, 'A2': True, 'A3': True, 'A4': True, 'B1': True, 'B2': True, 'B3': True, 'B4': True, 'C1': True, 'C2': True, 'C3': True, 'C4': True, 'D1': True, 'D2': True, 'D3': True, 'D4': True, 'E1': True, 'E2': True, 'E3': True, 'E4': True, 'F1': True, 'F2': True, 'F3': True, 'F4': True}], 102: ['kkd', 'viz', 10.0, 2.0, 250, {'A1': True, 'A2': True, 'A3': True, 'A4': True, 'B1': True, 'B2': True, 'B3': True, 'B4': True, 'C1': True, 'C2': True, 'C3': True, 'C4': True, 'D1': True, 'D2': True, 'D3': True, 'D4': True, 'E1': True, 'E2': True, 'E3': True, 'E4': True, 'F1': True, 'F2': True, 'F3': True, 'F4': True}], 103: ['ynm', 'chn', 23.0, 23.0, 200, {'A1': True, 'A2': True, 'A3': True, 'A4': True, 'B1': True, 'B2': True, 'B3': True, 'B4': True, 'C1': True, 'C2': True, 'C3': True, 'C4': True, 'D1': True, 'D2': True, 'D3': True, 'D4': True, 'E1': True, 'E2': True, 'E3': True, 'E4': True, 'F1': True, 'F2': True, 'F3': True, 'F4': True}], 104: ['blr', 'hyd', 10.0, 2.0, 150, {'A1': True, 'A2': True, 'A3': True, 'A4': True, 'B1': True, 'B2': True, 'B3': True, 'B4': True, 'C1': True, 'C2': True, 'C3': True, 'C4': True, 'D1': True, 'D2': True, 'D3': True, 'D4': True, 'E1': True, 'E2': True, 'E3': True, 'E4': True, 'F1': True, 'F2': True, 'F3': True, 'F4': True}]}\n"
     ]
    }
   ],
   "source": [
    "def update_services(service):\n",
    "    num=int(input(\"enter the service no :\"))\n",
    "    if num in service:\n",
    "        print(f\"source:{service[num][0]}\\ndestination:{service[num][1]}\")\n",
    "        n=int(input(f\"are you sure to modify {num} details:\\n1.confirm\\n2.cancel\\nchoose the option :\"))       \n",
    "        if n==1:\n",
    "            service[num][0]=input(\"Enter the source city :\")\n",
    "            service[num][1]=input(\"Enter the destination city :\")\n",
    "            service[num][2]=input(\"Enter the start time :\")\n",
    "            service[num][3]=input(\"Enter the end time :\")\n",
    "            service[num][4]=input(\"Enter the kilometers :\")\n",
    "\n",
    "            print(\"services details modified\")\n",
    "            print(f\"modified details in source:{service[num][0]} in destination:{service[num][1]}\")\n",
    "        else:\n",
    "            return\n",
    "    else:\n",
    "        print(\"invalid service_no\")\n",
    "#update_services(services)\n",
    "print(services)"
   ]
  },
  {
   "cell_type": "code",
   "execution_count": 3,
   "metadata": {},
   "outputs": [
    {
     "name": "stdout",
     "output_type": "stream",
     "text": [
      "Total seats 24\n",
      "available seats ['A1', 'A2', 'A4', 'B1', 'B3', 'B4', 'C2', 'C3', 'C4', 'D1', 'D2', 'D4', 'E2', 'E3', 'E4', 'F1', 'F2', 'F3']\n",
      "unavailable seats ['A3', 'B2', 'C1', 'D3', 'E1', 'F4']\n",
      "count available seats 18\n",
      "count unavailable seats 6\n"
     ]
    }
   ],
   "source": [
    "seats={'A1':True,'A2':True,'A3':False,'A4':True,\n",
    "       'B1':True,'B2':False,'B3':True,'B4':True,\n",
    "       'C1':False,'C2':True,'C3':True,'C4':True,\n",
    "       'D1':True,'D2':True,'D3':False,'D4':True,\n",
    "       'E1':False,'E2':True,'E3':True,'E4':True,\n",
    "       'F1':True,'F2':True,'F3':True,'F4':False}\n",
    "def bus_seats(coll):\n",
    "    available=[]\n",
    "    unavailable=[]\n",
    "    for i in coll:\n",
    "        if coll[i]==True:\n",
    "            available+=[i]\n",
    "        else:\n",
    "            unavailable+=[i]\n",
    "    return(available,unavailable)\n",
    "res=bus_seats(seats)\n",
    "print(\"Total seats\",len(seats))\n",
    "print(\"available seats\",res[0])\n",
    "print(\"unavailable seats\",res[1])\n",
    "print(\"count available seats\",len(res[0]))\n",
    "print(\"count unavailable seats\",len(res[1]))"
   ]
  },
  {
   "cell_type": "code",
   "execution_count": 4,
   "metadata": {},
   "outputs": [],
   "source": [
    "def display_all_service(service):\n",
    "    for i in service.items():\n",
    "        seats=bus_seats(i[1][-1])\n",
    "        print(str(i[0]).center(20),\n",
    "                  i[i][0].center(20),\n",
    "                  i[i][1].center(20),\n",
    "                  str(i[i][2]).center(20),\n",
    "                  str(i[i][3]).center(20),\n",
    "                  str(i[i][4]).center(20),\n",
    "                  str(len(services[i][-1])).center(20),\n",
    "                  str(len(seats[0])).center(20),\n",
    "                  str(len(seats[1])).center(20))\n",
    "def display_service_no(service,ele):\n",
    "    for i in service:\n",
    "        if ele==i:\n",
    "            seats=bus_seats(services[i][-1])\n",
    "            print(str(i).center(20),\n",
    "                  services[i][0].center(20),\n",
    "                  services[i][1].center(20),\n",
    "                  str(services[i][2]).center(20),\n",
    "                  str(services[i][3]).center(20),\n",
    "                  str(services[i][4]).center(20),\n",
    "                  str(len(services[i][-1])).center(20),\n",
    "                  str(len(seats[0])).center(20),\n",
    "                  str(len(seats[1])).center(20))\n",
    "def display_service_destination(service,ele):\n",
    "    for i in services:\n",
    "        if ele.upper()==services[i][0].upper():\n",
    "            seats=bus_seats(service[i][-1])\n",
    "            print(str(i).center(20),\n",
    "                  services[i][0].center(20),\n",
    "                  services[i][1].center(20),\n",
    "                  str(services[i][2]).center(20),\n",
    "                  str(services[i][3]).center(20),\n",
    "                  str(services[i][4]).center(20),\n",
    "                  str(len(services[i][-1])).center(20),\n",
    "                  str(len(seats[0])).center(20),\n",
    "                  str(len(seats[1])).center(20))\n",
    "def display_service_source(service,ele):\n",
    "    for i in services:\n",
    "        if ele.upper()==services[i][1].upper():\n",
    "            seats=bus_seats(service[i][-1])\n",
    "            print(str(i).center(20),\n",
    "                  services[i][0].center(20),\n",
    "                  services[i][1].center(20),\n",
    "                  str(services[i][2]).center(20),\n",
    "                  str(services[i][3]).center(20),\n",
    "                  str(services[i][4]).center(20),\n",
    "                  str(len(services[i][-1])).center(20),\n",
    "                  str(len(seats[0])).center(20),\n",
    "                  str(len(seats[1])).center(20))\n",
    "def display_service_both(service,ele,ele1):\n",
    "    for i in services:\n",
    "        if ele.upper()==services[i][0].upper() and ele1.upper()==services[i][1].upper():\n",
    "            seats=bus_seats(service[i][-1])\n",
    "            print(str(i).center(20),\n",
    "                  services[i][0].center(20),\n",
    "                  services[i][1].center(20),\n",
    "                  str(services[i][2]).center(20),\n",
    "                  str(services[i][3]).center(20),\n",
    "                  str(services[i][4]).center(20),\n",
    "                  str(len(services[i][-1])).center(20),\n",
    "                  str(len(seats[0])).center(20),\n",
    "                  str(len(seats[1])).center(20))\n",
    "def display_services():\n",
    "    print(\"service no\".center(20),\"source\".center(20),\"destination\".center(20),\"start time \".center(20),\"End time\".center(20),\n",
    "\"kilometers\".center(20),\"Total seats\".center(20),\"available seats\".center(20),\"unavailable seats\".center(20))\n",
    "    print(\"-------\".center(20),\"------\".center(20),\"-------\".center(20),\"-------\".center(20),\"------\".center(20),\n",
    "\"-------\".center(20),\"-------\".center(20),\"------\".center(20),\"-------\".center(20))\n",
    "    n=int(input(\"Choose the option :\\n1.service_no\\n2.source\\n3.Destinnation\\n4.Source and Destination\\n5.All services\\n Enter :\"))\n",
    "    match n:\n",
    "        case 1:\n",
    "            ele=int(input(\"Enter the service number :\"))\n",
    "            display_service_no(services,ele=ele)\n",
    "        case 2:\n",
    "            ele=input(\"Enter the source city :\")\n",
    "            display_service_source(services,ele=ele)\n",
    "        case 3:\n",
    "            ele=input(\"Enter the Destination city :\")\n",
    "            display_service_destination(services,ele=ele)\n",
    "        case 4:\n",
    "            ele=input(\"Enter the source city :\")\n",
    "            ele1=input(\"Enter the destination city :\")\n",
    "            display_service_both(services,ele=ele,ele1=ele1)\n",
    "        \n",
    "        case _:\n",
    "            display_all_service(services)\n",
    "#display_services()"
   ]
  },
  {
   "cell_type": "code",
   "execution_count": 5,
   "metadata": {},
   "outputs": [
    {
     "name": "stdout",
     "output_type": "stream",
     "text": [
      "{101: ['hyd', 'vij', 14.0, 22.0, 300, {'A1': True, 'A2': True, 'A3': True, 'A4': True, 'B1': True, 'B2': True, 'B3': True, 'B4': True, 'C1': True, 'C2': True, 'C3': True, 'C4': True, 'D1': True, 'D2': True, 'D3': True, 'D4': True, 'E1': True, 'E2': True, 'E3': True, 'E4': True, 'F1': True, 'F2': True, 'F3': True, 'F4': True}], 102: ['kkd', 'viz', 10.0, 2.0, 250, {'A1': True, 'A2': True, 'A3': True, 'A4': True, 'B1': True, 'B2': True, 'B3': True, 'B4': True, 'C1': True, 'C2': True, 'C3': True, 'C4': True, 'D1': True, 'D2': True, 'D3': True, 'D4': True, 'E1': True, 'E2': True, 'E3': True, 'E4': True, 'F1': True, 'F2': True, 'F3': True, 'F4': True}], 103: ['ynm', 'chn', 23.0, 23.0, 200, {'A1': True, 'A2': True, 'A3': True, 'A4': True, 'B1': True, 'B2': True, 'B3': True, 'B4': True, 'C1': True, 'C2': True, 'C3': True, 'C4': True, 'D1': True, 'D2': True, 'D3': True, 'D4': True, 'E1': True, 'E2': True, 'E3': True, 'E4': True, 'F1': True, 'F2': True, 'F3': True, 'F4': True}], 104: ['blr', 'hyd', 10.0, 2.0, 150, {'A1': True, 'A2': True, 'A3': True, 'A4': True, 'B1': True, 'B2': True, 'B3': True, 'B4': True, 'C1': True, 'C2': True, 'C3': True, 'C4': True, 'D1': True, 'D2': True, 'D3': True, 'D4': True, 'E1': True, 'E2': True, 'E3': True, 'E4': True, 'F1': True, 'F2': True, 'F3': True, 'F4': True}]}\n",
      "101 ['hyd', 'vij', 14.0, 22.0, 300, {'A1': True, 'A2': True, 'A3': True, 'A4': True, 'B1': True, 'B2': True, 'B3': True, 'B4': True, 'C1': True, 'C2': True, 'C3': True, 'C4': True, 'D1': True, 'D2': True, 'D3': True, 'D4': True, 'E1': True, 'E2': True, 'E3': True, 'E4': True, 'F1': True, 'F2': True, 'F3': True, 'F4': True}]\n",
      "102 ['kkd', 'viz', 10.0, 2.0, 250, {'A1': True, 'A2': True, 'A3': True, 'A4': True, 'B1': True, 'B2': True, 'B3': True, 'B4': True, 'C1': True, 'C2': True, 'C3': True, 'C4': True, 'D1': True, 'D2': True, 'D3': True, 'D4': True, 'E1': True, 'E2': True, 'E3': True, 'E4': True, 'F1': True, 'F2': True, 'F3': True, 'F4': True}]\n",
      "103 ['ynm', 'chn', 23.0, 23.0, 200, {'A1': True, 'A2': True, 'A3': True, 'A4': True, 'B1': True, 'B2': True, 'B3': True, 'B4': True, 'C1': True, 'C2': True, 'C3': True, 'C4': True, 'D1': True, 'D2': True, 'D3': True, 'D4': True, 'E1': True, 'E2': True, 'E3': True, 'E4': True, 'F1': True, 'F2': True, 'F3': True, 'F4': True}]\n",
      "104 ['blr', 'hyd', 10.0, 2.0, 150, {'A1': True, 'A2': True, 'A3': True, 'A4': True, 'B1': True, 'B2': True, 'B3': True, 'B4': True, 'C1': True, 'C2': True, 'C3': True, 'C4': True, 'D1': True, 'D2': True, 'D3': True, 'D4': True, 'E1': True, 'E2': True, 'E3': True, 'E4': True, 'F1': True, 'F2': True, 'F3': True, 'F4': True}]\n"
     ]
    }
   ],
   "source": [
    "print(services)\n",
    "for i in services:\n",
    "    print(i,services[i])"
   ]
  },
  {
   "cell_type": "code",
   "execution_count": 6,
   "metadata": {},
   "outputs": [],
   "source": [
    "import copy\n",
    "date_wise_services={}"
   ]
  },
  {
   "cell_type": "code",
   "execution_count": 7,
   "metadata": {},
   "outputs": [],
   "source": [
    "def seat_pattern(seats):\n",
    "    res=list(seats)\n",
    "    count=0\n",
    "    for i in range(0,len(seats)//2):\n",
    "        for j in range(0,4):\n",
    "            if seats[res[count]]!=True:\n",
    "                print(f\"@{seats[res[count]][-1]['gender'][0]}\".center(8),end=\" \")\n",
    "            else:\n",
    "                print(res[count].center(8),end=\" \")\n",
    "            count+=1\n",
    "        print()\n",
    "#seat_pattern(seats)\n",
    "                         "
   ]
  },
  {
   "cell_type": "code",
   "execution_count": 8,
   "metadata": {},
   "outputs": [],
   "source": [
    "def check_services(date1):\n",
    "    ser=int(input('enter the serice no:'))\n",
    "    if ser in date_wise_services[date1]:\n",
    "        print(\"service no\".center(20),\"source\".center(20),\"destination\".center(20),\"start time \".center(20),\"End time\".center(20),\n",
    "        \"price\".center(20),\"Total seats\".center(20))\n",
    "        print(\"-------\".center(20),\"------\".center(20),\"-------\".center(20),\"-------\".center(20),\"------\".center(20),\n",
    "        \"-------\".center(20),\"-------\".center(20),\"------\".center(20),\"-------\".center(20))\n",
    "        bus=date_wise_services[date1][ser]\n",
    "        print(str(ser).center(20),\n",
    "                  bus[0].center(20),\n",
    "                  bus[1].center(20),\n",
    "                  str(bus[2]).center(20),\n",
    "                  str(bus[3]).center(20),\n",
    "                  str(bus[4]*2).center(20),\n",
    "                  str(len(bus[5])).center(20))\n",
    "    else:\n",
    "        print(\"service is not Available\")\n",
    "        return check_services(date1)\n",
    "        \n",
    "        "
   ]
  },
  {
   "cell_type": "code",
   "execution_count": 9,
   "metadata": {},
   "outputs": [],
   "source": [
    "def booking(seats):\n",
    "    n=int(input(\"enter the seats:\"))\n",
    "    l=[]\n",
    "    for i in range(0,n):\n",
    "        seat_no=input(\"enter thr seat no\")\n",
    "        if seats[seat_no]!=True:\n",
    "            print(f\"Your {seat_no} selected seat already booked\")\n",
    "            print('Reenter')\n",
    "            return()\n",
    "        else:\n",
    "            l+=[seat_no]\n",
    "    d={}\n",
    "    for i in l:\n",
    "        print(\"your seat no:\",i)\n",
    "        name=input(\"enter the name:\")\n",
    "        age=input(\"enter the age:\")\n",
    "        gender=input(\"enter the gender:\")\n",
    "        if int(i[-1])%2==0 and seats[i[0]+str(int(i[-1])-1)]!=True:\n",
    "            if seats[i[0]+str(int(i[-1])-1)][1]['gender'].upper()==gender.upper():\n",
    "                d[i]=(False,{'mame':name,'age':age,'gender':gender})\n",
    "            else:\n",
    "                print(i,f\"seats should be {seats[i[0]+str(int(i[-1])-1)][1]['gender']}\")\n",
    "                return booking()\n",
    "        elif int(i[-1])%2!=0 and seats[i[0]+str(int(i[-1])+1)]!=True:\n",
    "            if seats[i[0]+str(int(i[-1])+1)][1]['gender'].upper()==gender.upper():\n",
    "                d[i]=(False,{'mame':name,'age':age,'gender':gender})\n",
    "            else:\n",
    "                print(i,f\"seats should be {seats[i[0]+str(int(i[-1])+1)][1]['gender']}\")\n",
    "                return booking()\n",
    "        else:\n",
    "            d[i]=(False,{'mame':name,'age':age,'gender':gender})\n",
    "    return d"
   ]
  },
  {
   "cell_type": "code",
   "execution_count": 10,
   "metadata": {},
   "outputs": [],
   "source": [
    "bank_info={\"7788994455@YBL\":{'name':'Ramu','pin':7894,'balance':9000,'phone':9988774455},'7788994455@YBL':{'name':'Raju','pin':7895,'balance':9000,'phone':9988774411}}\n",
    "def payment_mode(price):\n",
    "    userid=input('enter the UPI ID:').upper()\n",
    "    if userid in bank_info:\n",
    "        print(f\"Dear{bank_info[userid]['name']}\")\n",
    "        pin=input('enter the pin:')\n",
    "        if pin==bank_info[userid]['pin']:\n",
    "            if bank_info[userid]['balance']>price:\n",
    "                print('PAYMNET IS SUCCESS')\n",
    "                bank_info[userid]['balance']-=price\n",
    "                return True\n",
    "            else:\n",
    "                print('INSUFFICIENT BALANCE')\n",
    "                return payment_mode(price)\n",
    "        else:\n",
    "            print('INVALID PIN NO')\n",
    "            return payment_mode(price)\n",
    "    else:\n",
    "        print('INVALID UPI ID')\n",
    "        return payment_mode(price)"
   ]
  },
  {
   "cell_type": "code",
   "execution_count": 12,
   "metadata": {},
   "outputs": [
    {
     "name": "stdout",
     "output_type": "stream",
     "text": [
      "     service no             source            destination          start time             End time              price             Total seats        Available seats   \n",
      "      -------               ------              -------              -------               ------              -------              -------               ------       \n",
      "     service no             source            destination          start time             End time              price             Total seats     \n",
      "      -------               ------              -------              -------               ------              -------              -------               ------              -------       \n",
      "        101                  hyd                  vij                  14.0                 22.0                 600                   24         \n",
      "None\n"
     ]
    },
    {
     "ename": "UnboundLocalError",
     "evalue": "cannot access local variable 'bus' where it is not associated with a value",
     "output_type": "error",
     "traceback": [
      "\u001b[1;31m---------------------------------------------------------------------------\u001b[0m",
      "\u001b[1;31mUnboundLocalError\u001b[0m                         Traceback (most recent call last)",
      "Cell \u001b[1;32mIn[12], line 46\u001b[0m\n\u001b[0;32m     44\u001b[0m             date_wise_services[date1][service_no[\u001b[39m-\u001b[39m\u001b[39m1\u001b[39m]]\u001b[39m|\u001b[39m\u001b[39m=\u001b[39mres\n\u001b[0;32m     45\u001b[0m     \u001b[39mprint\u001b[39m(date_wise_services[date1][service_no])\n\u001b[1;32m---> 46\u001b[0m search_buses()\n",
      "Cell \u001b[1;32mIn[12], line 28\u001b[0m, in \u001b[0;36msearch_buses\u001b[1;34m()\u001b[0m\n\u001b[0;32m     26\u001b[0m \u001b[39mprint\u001b[39m(service_no)\n\u001b[0;32m     27\u001b[0m \u001b[39m#res=booking(bus[5])\u001b[39;00m\n\u001b[1;32m---> 28\u001b[0m price\u001b[39m=\u001b[39m\u001b[39mlen\u001b[39m(res)\u001b[39m*\u001b[39m(bus[\u001b[39m4\u001b[39m]\u001b[39m*\u001b[39m\u001b[39m2\u001b[39m)\n\u001b[0;32m     31\u001b[0m \u001b[39mprint\u001b[39m(\u001b[39m\"\u001b[39m\u001b[39mBOOKING INFO\u001b[39m\u001b[39m\"\u001b[39m\u001b[39m.\u001b[39mcenter(\u001b[39m30\u001b[39m),\u001b[39m\"\u001b[39m\u001b[39m*\u001b[39m\u001b[39m\"\u001b[39m)\n\u001b[0;32m     32\u001b[0m \u001b[39mprint\u001b[39m(\u001b[39m\"\u001b[39m\u001b[39mPerson Name\u001b[39m\u001b[39m\"\u001b[39m\u001b[39m.\u001b[39mcenter(\u001b[39m15\u001b[39m),\u001b[39m\"\u001b[39m\u001b[39mAge\u001b[39m\u001b[39m\"\u001b[39m\u001b[39m.\u001b[39mcenter(\u001b[39m10\u001b[39m),\u001b[39m\"\u001b[39m\u001b[39mGender\u001b[39m\u001b[39m\"\u001b[39m\u001b[39m.\u001b[39mcenter(\u001b[39m10\u001b[39m),\u001b[39m\"\u001b[39m\u001b[39mSeat no\u001b[39m\u001b[39m\"\u001b[39m\u001b[39m.\u001b[39mcenter(\u001b[39m10\u001b[39m))\n",
      "\u001b[1;31mUnboundLocalError\u001b[0m: cannot access local variable 'bus' where it is not associated with a value"
     ]
    }
   ],
   "source": [
    "def search_buses():\n",
    "    ele=input(\"enter the Source city:\")\n",
    "    ele1=input(\"enter the destination city:\")\n",
    "    date1=input(\"enter the date:\")\n",
    "    if date1 not in date_wise_services:\n",
    "        date_wise_services[date1]=copy.deepcopy(services)\n",
    "    print(\"service no\".center(20),\"source\".center(20),\"destination\".center(20),\"start time \".center(20),\"End time\".center(20),\n",
    "        \"price\".center(20),\"Total seats\".center(20),\"Available seats\".center(20))\n",
    "    \n",
    "    print(\"-------\".center(20),\"------\".center(20),\"-------\".center(20),\"-------\".center(20),\"------\".center(20),\n",
    "        \"-------\".center(20),\"-------\".center(20),\"------\".center(20))\n",
    "    \n",
    "    for i in date_wise_services[date1]:\n",
    "        if services[i][0]==ele.upper() and services[i][0]==ele1.upper():\n",
    "            bus=services[i]\n",
    "            print(str(i).center(20),\n",
    "                  bus[0].center(20),\n",
    "                  bus[1].center(20),\n",
    "                  str(bus[2]).center(20),\n",
    "                  str(bus[3]).center(20),\n",
    "                  str(bus[4]*2).center(20),\n",
    "                  str(len(bus[5])).center(20),\n",
    "                  str(len(bus_seats(bus[5])[0])).center(20),\n",
    "                  str(len(bus_seats(bus[5])[1])).center(20))\n",
    "    service_no=check_services(date1)\n",
    "    print(service_no)\n",
    "    res=booking(bus[5])\n",
    "    price=len(res)*(bus[4]*2)\n",
    "\n",
    "\n",
    "    print(\"BOOKING INFO\".center(30),\"*\")\n",
    "    print(\"Person Name\".center(15),\"Age\".center(10),\"Gender\".center(10),\"Seat no\".center(10))\n",
    "    for k in res:\n",
    "        print(res[k][-1]['name'].center(15),str(res[k][-1]['age']).center(10),str(res[k][-1]['gender']).center(10),k.center(10))\n",
    "    print(\"*\"*30)\n",
    "    print(\"Total Ticket Price:\",price)\n",
    "    total_price=price+100\n",
    "    print(\"Total Price + Tax:\",total_price)\n",
    "    print(\"*\"*30)\n",
    "    n=int(input(\"Are you sure to book the seats:\\n1.confirm\\n2.cancel\\nchoose the option:\"))\n",
    "    if n==1:\n",
    "        print(date_wise_services[date1][service_no])\n",
    "        if payment_mode(total_price)==True:\n",
    "            date_wise_services[date1][service_no[-1]]|=res\n",
    "    print(date_wise_services[date1][service_no])\n",
    "search_buses()\n"
   ]
  },
  {
   "cell_type": "code",
   "execution_count": null,
   "metadata": {},
   "outputs": [],
   "source": [
    "def bus_services_details():\n",
    "    for j in date_wise_services:\n",
    "        print(j)\n",
    "        for i in date_wise_services[j]:\n",
    "            print(i,date_wise_services[j][i])"
   ]
  },
  {
   "cell_type": "code",
   "execution_count": null,
   "metadata": {},
   "outputs": [
    {
     "name": "stdout",
     "output_type": "stream",
     "text": [
      "     service no             source            destination          start time             End time              price             Total seats        Available seats   \n",
      "      -------               ------              -------              -------               ------              -------              -------               ------       \n"
     ]
    },
    {
     "ename": "KeyError",
     "evalue": "'24/07/2023'",
     "output_type": "error",
     "traceback": [
      "\u001b[1;31m---------------------------------------------------------------------------\u001b[0m",
      "\u001b[1;31mKeyError\u001b[0m                                  Traceback (most recent call last)",
      "Cell \u001b[1;32mIn[32], line 1\u001b[0m\n\u001b[1;32m----> 1\u001b[0m search_buses()\n",
      "Cell \u001b[1;32mIn[30], line 25\u001b[0m, in \u001b[0;36msearch_buses\u001b[1;34m()\u001b[0m\n\u001b[0;32m     15\u001b[0m         bus\u001b[39m=\u001b[39mservices[i]\n\u001b[0;32m     16\u001b[0m         \u001b[39mprint\u001b[39m(\u001b[39mstr\u001b[39m(i)\u001b[39m.\u001b[39mcenter(\u001b[39m20\u001b[39m),\n\u001b[0;32m     17\u001b[0m               bus[\u001b[39m0\u001b[39m]\u001b[39m.\u001b[39mcenter(\u001b[39m20\u001b[39m),\n\u001b[0;32m     18\u001b[0m               bus[\u001b[39m1\u001b[39m]\u001b[39m.\u001b[39mcenter(\u001b[39m20\u001b[39m),\n\u001b[1;32m   (...)\u001b[0m\n\u001b[0;32m     23\u001b[0m               \u001b[39mstr\u001b[39m(\u001b[39mlen\u001b[39m(bus_seats(bus[\u001b[39m5\u001b[39m])[\u001b[39m0\u001b[39m]))\u001b[39m.\u001b[39mcenter(\u001b[39m20\u001b[39m),\n\u001b[0;32m     24\u001b[0m               \u001b[39mstr\u001b[39m(\u001b[39mlen\u001b[39m(bus_seats(bus[\u001b[39m5\u001b[39m])[\u001b[39m1\u001b[39m]))\u001b[39m.\u001b[39mcenter(\u001b[39m20\u001b[39m))\n\u001b[1;32m---> 25\u001b[0m service_no\u001b[39m=\u001b[39mcheck_services(date1)\n\u001b[0;32m     26\u001b[0m \u001b[39mprint\u001b[39m(service_no)\n\u001b[0;32m     27\u001b[0m res\u001b[39m=\u001b[39mbooking(bus[\u001b[39m5\u001b[39m])\n",
      "Cell \u001b[1;32mIn[18], line 3\u001b[0m, in \u001b[0;36mcheck_services\u001b[1;34m(date1)\u001b[0m\n\u001b[0;32m      1\u001b[0m \u001b[39mdef\u001b[39;00m \u001b[39mcheck_services\u001b[39m(date1):\n\u001b[0;32m      2\u001b[0m     ser\u001b[39m=\u001b[39m\u001b[39mint\u001b[39m(\u001b[39minput\u001b[39m(\u001b[39m'\u001b[39m\u001b[39menter the serice no:\u001b[39m\u001b[39m'\u001b[39m))\n\u001b[1;32m----> 3\u001b[0m     \u001b[39mif\u001b[39;00m ser \u001b[39min\u001b[39;00m date_wise_servicees[date1]:\n\u001b[0;32m      4\u001b[0m         \u001b[39mprint\u001b[39m(\u001b[39m\"\u001b[39m\u001b[39mservice no\u001b[39m\u001b[39m\"\u001b[39m\u001b[39m.\u001b[39mcenter(\u001b[39m20\u001b[39m),\u001b[39m\"\u001b[39m\u001b[39msource\u001b[39m\u001b[39m\"\u001b[39m\u001b[39m.\u001b[39mcenter(\u001b[39m20\u001b[39m),\u001b[39m\"\u001b[39m\u001b[39mdestination\u001b[39m\u001b[39m\"\u001b[39m\u001b[39m.\u001b[39mcenter(\u001b[39m20\u001b[39m),\u001b[39m\"\u001b[39m\u001b[39mstart time \u001b[39m\u001b[39m\"\u001b[39m\u001b[39m.\u001b[39mcenter(\u001b[39m20\u001b[39m),\u001b[39m\"\u001b[39m\u001b[39mEnd time\u001b[39m\u001b[39m\"\u001b[39m\u001b[39m.\u001b[39mcenter(\u001b[39m20\u001b[39m),\n\u001b[0;32m      5\u001b[0m         \u001b[39m\"\u001b[39m\u001b[39mprice\u001b[39m\u001b[39m\"\u001b[39m\u001b[39m.\u001b[39mcenter(\u001b[39m20\u001b[39m),\u001b[39m\"\u001b[39m\u001b[39mTotal seats\u001b[39m\u001b[39m\"\u001b[39m\u001b[39m.\u001b[39mcenter(\u001b[39m20\u001b[39m))\n\u001b[0;32m      6\u001b[0m         \u001b[39mprint\u001b[39m(\u001b[39m\"\u001b[39m\u001b[39m-------\u001b[39m\u001b[39m\"\u001b[39m\u001b[39m.\u001b[39mcenter(\u001b[39m20\u001b[39m),\u001b[39m\"\u001b[39m\u001b[39m------\u001b[39m\u001b[39m\"\u001b[39m\u001b[39m.\u001b[39mcenter(\u001b[39m20\u001b[39m),\u001b[39m\"\u001b[39m\u001b[39m-------\u001b[39m\u001b[39m\"\u001b[39m\u001b[39m.\u001b[39mcenter(\u001b[39m20\u001b[39m),\u001b[39m\"\u001b[39m\u001b[39m-------\u001b[39m\u001b[39m\"\u001b[39m\u001b[39m.\u001b[39mcenter(\u001b[39m20\u001b[39m),\u001b[39m\"\u001b[39m\u001b[39m------\u001b[39m\u001b[39m\"\u001b[39m\u001b[39m.\u001b[39mcenter(\u001b[39m20\u001b[39m),\n\u001b[0;32m      7\u001b[0m         \u001b[39m\"\u001b[39m\u001b[39m-------\u001b[39m\u001b[39m\"\u001b[39m\u001b[39m.\u001b[39mcenter(\u001b[39m20\u001b[39m),\u001b[39m\"\u001b[39m\u001b[39m-------\u001b[39m\u001b[39m\"\u001b[39m\u001b[39m.\u001b[39mcenter(\u001b[39m20\u001b[39m),\u001b[39m\"\u001b[39m\u001b[39m------\u001b[39m\u001b[39m\"\u001b[39m\u001b[39m.\u001b[39mcenter(\u001b[39m20\u001b[39m),\u001b[39m\"\u001b[39m\u001b[39m-------\u001b[39m\u001b[39m\"\u001b[39m\u001b[39m.\u001b[39mcenter(\u001b[39m20\u001b[39m))\n",
      "\u001b[1;31mKeyError\u001b[0m: '24/07/2023'"
     ]
    }
   ],
   "source": [
    "search_buses()"
   ]
  }
 ],
 "metadata": {
  "kernelspec": {
   "display_name": "Python 3",
   "language": "python",
   "name": "python3"
  },
  "language_info": {
   "codemirror_mode": {
    "name": "ipython",
    "version": 3
   },
   "file_extension": ".py",
   "mimetype": "text/x-python",
   "name": "python",
   "nbconvert_exporter": "python",
   "pygments_lexer": "ipython3",
   "version": "3.11.3"
  },
  "orig_nbformat": 4
 },
 "nbformat": 4,
 "nbformat_minor": 2
}
