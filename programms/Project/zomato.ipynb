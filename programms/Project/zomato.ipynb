{
 "cells": [
  {
   "cell_type": "code",
   "execution_count": 106,
   "metadata": {},
   "outputs": [
    {
     "name": "stdout",
     "output_type": "stream",
     "text": [
      "{'name': 'Vishnusri', 'cuisine': 'Chicken-Dum Biriyani, Chicken-Frybit Biryani, chicken-Mogalai Biryani', 'rating': 4.7, 'Timing': '11:30Am-11:00Pm'}\n",
      "{'name': 'Ganapathi', 'cuisine': 'Chicken-Fry Biriyani, Mutton-Biryani, Mixed-Biryani', 'rating': 4.5, 'Timing': '12:00Pm-10:00Pm'}\n",
      "{'name': 'Tara', 'cuisine': 'Mogalai-Biriyani, Chicken-Boneless Biryani, Chicken-65 Biryani', 'rating': 4.8, 'Timing': '12:00Pm-11:30Pm'}\n",
      "{'name': 'Hotel Satkar', 'cuisine': 'Mixed-Biriyani, Gongura-Chicken Biryani,Prawns-Biryani', 'rating': 4.7, 'Timing': '12:00Pm-10:00Pm'}\n",
      "{'name': 'Aloha', 'cuisine': 'Chicken-Dum Biriyani, Mutton-Biryani, Chicken-Friedrice, Paneer-Biryani, Manchuriya-Friedrice', 'rating': 4.2, 'Timing': '12:00Pm-11:45Pm'}\n",
      "{'name': 'RedBucket', 'cuisine': 'Pizza, Chicken-Fry Biriyani, Chicken-Thali', 'rating': 4.8, 'Timing': '11:40Am-12:00Am'}\n",
      "{'name': 'Rajugaru', 'cuisine': 'Veg Biriyani, Special-Chicken Biryani, Chicken-Roast Biryani', 'rating': 4.7, 'Timing': '12:00Pm-11:00Pm'}\n"
     ]
    }
   ],
   "source": [
    "s=[\n",
    "    {\"name\":\"Vishnusri\",\"cuisine\":\"Chicken-Dum Biriyani, Chicken-Frybit Biryani, chicken-Mogalai Biryani\",\"rating\":4.7,\"Timing\":\"11:30Am-11:00Pm\"},\n",
    "    {\"name\":\"Ganapathi\",\"cuisine\":\"Chicken-Fry Biriyani, Mutton-Biryani, Mixed-Biryani\", \"rating\":4.5,\"Timing\":\"12:00Pm-10:00Pm\"},\n",
    "    {\"name\":\"Tara\",\"cuisine\":\"Mogalai-Biriyani, Chicken-Boneless Biryani, Chicken-65 Biryani\", \"rating\":4.8,\"Timing\":\"12:00Pm-11:30Pm\"},\n",
    "    {\"name\":\"Hotel Satkar\",\"cuisine\":\"Mixed-Biriyani, Gongura-Chicken Biryani,Prawns-Biryani\", \"rating\":4.7,\"Timing\":\"12:00Pm-10:00Pm\"},\n",
    "    {\"name\":\"Aloha\",\"cuisine\":\"Chicken-Dum Biriyani, Mutton-Biryani, Chicken-Friedrice, Paneer-Biryani, Manchuriya-Friedrice\", \"rating\":4.2,\"Timing\":\"12:00Pm-11:45Pm\"},\n",
    "    {\"name\":\"RedBucket\",\"cuisine\":\"Pizza, Chicken-Fry Biriyani, Chicken-Thali\",\"rating\":4.8,\"Timing\":\"11:40Am-12:00Am\"},\n",
    "    {\"name\":\"Rajugaru\",\"cuisine\":\"Veg Biriyani, Special-Chicken Biryani, Chicken-Roast Biryani\", \"rating\":4.7,\"Timing\":\"12:00Pm-11:00Pm\"}]\n",
    "def Restaurants(resturant):\n",
    "    for i in resturant:\n",
    "        print(i)\n",
    "Restaurants(s)"
   ]
  },
  {
   "cell_type": "code",
   "execution_count": 107,
   "metadata": {},
   "outputs": [
    {
     "name": "stdout",
     "output_type": "stream",
     "text": [
      "Vishnusri\n",
      "Ganapathi\n",
      "Tara\n",
      "Hotel Satkar\n",
      "Aloha\n",
      "RedBucket\n",
      "Rajugaru\n",
      "____________________________________________________________________________________________________\n",
      "Chicken-Dum Biriyani, Chicken-Frybit Biryani, chicken-Mogalai Biryani\n",
      "Chicken-Fry Biriyani, Mutton-Biryani, Mixed-Biryani\n",
      "Mogalai-Biriyani, Chicken-Boneless Biryani, Chicken-65 Biryani\n",
      "Mixed-Biriyani, Gongura-Chicken Biryani,Prawns-Biryani\n",
      "Chicken-Dum Biriyani, Mutton-Biryani, Chicken-Friedrice, Paneer-Biryani, Manchuriya-Friedrice\n",
      "Pizza, Chicken-Fry Biriyani, Chicken-Thali\n",
      "Veg Biriyani, Special-Chicken Biryani, Chicken-Roast Biryani\n"
     ]
    }
   ],
   "source": [
    "for restaurant in s:\n",
    "    print(restaurant[\"name\"])\n",
    "print(\"_\"*100)\n",
    "for restaurant in s:\n",
    "    print(restaurant[\"cuisine\"])\n"
   ]
  },
  {
   "cell_type": "code",
   "execution_count": 121,
   "metadata": {},
   "outputs": [
    {
     "name": "stdout",
     "output_type": "stream",
     "text": [
      "Restaurant Details\n",
      "------------------\n",
      "Name    : Hotel Satkar\n",
      "Cuisine : Mixed-Biriyani, Gongura-Chicken Biryani,Prawns-Biryani\n",
      "Rating  : 4.7\n",
      "Timing  : 12:00Pm-10:00Pm\n"
     ]
    }
   ],
   "source": [
    "def search_restaurants():\n",
    "    search=input(\"search the restaurant:\")\n",
    "    for restaurant in s:\n",
    "        if restaurant[\"name\"]==search:\n",
    "            print(\"Restaurant Details\")\n",
    "            print(\"-\"*18)\n",
    "            print(f\"Name    : {restaurant['name']}\")\n",
    "            print(f\"Cuisine : {restaurant['cuisine']}\")\n",
    "            print(f\"Rating  : {restaurant['rating']}\")\n",
    "            print(f\"Timing  : {restaurant['Timing']}\")\n",
    "            break\n",
    "    else:\n",
    "        print(f\"Restaurant with the name {search} is not found\")\n",
    "search_restaurants()"
   ]
  },
  {
   "cell_type": "code",
   "execution_count": 129,
   "metadata": {},
   "outputs": [],
   "source": [
    "def search_cuisine():\n",
    "    cuisine=input(\"Enter the cuisine:\")\n",
    "    for restaurant in s:\n",
    "        if cuisine in restaurant[\"cuisine\"]:\n",
    "            print(\"Restaurant Details:\")\n",
    "            print(f\"Name    : {restaurant['name']}\")\n",
    "            print(f\"Cuisine : {restaurant['cuisine']}\")\n",
    "            print(f\"Rating  : {restaurant['rating']}\")\n",
    "            print(f\"Timing  : {restaurant['Timing']}\")\n",
    "            print(\"-\"*50)\n",
    "            #break\n",
    "    if cuisine not in s:\n",
    "        print(\"\")\n",
    "    else:\n",
    "        print(f\"Sorry Your {cuisine} is not available.\")"
   ]
  },
  {
   "cell_type": "code",
   "execution_count": 130,
   "metadata": {},
   "outputs": [
    {
     "name": "stdout",
     "output_type": "stream",
     "text": [
      "Restaurant Details:\n",
      "Name    : Vishnusri\n",
      "Cuisine : Chicken-Dum Biriyani, Chicken-Frybit Biryani, chicken-Mogalai Biryani\n",
      "Rating  : 4.7\n",
      "Timing  : 11:30Am-11:00Pm\n",
      "--------------------------------------------------\n",
      "Restaurant Details:\n",
      "Name    : Aloha\n",
      "Cuisine : Chicken-Dum Biriyani, Mutton-Biryani, Chicken-Friedrice, Paneer-Biryani, Manchuriya-Friedrice\n",
      "Rating  : 4.2\n",
      "Timing  : 12:00Pm-11:45Pm\n",
      "--------------------------------------------------\n",
      "\n"
     ]
    }
   ],
   "source": [
    "search_cuisine()"
   ]
  }
 ],
 "metadata": {
  "language_info": {
   "name": "python"
  },
  "orig_nbformat": 4
 },
 "nbformat": 4,
 "nbformat_minor": 2
}
