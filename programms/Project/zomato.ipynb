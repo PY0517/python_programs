{
 "cells": [
  {
   "cell_type": "code",
   "execution_count": 4,
   "metadata": {},
   "outputs": [
    {
     "name": "stdout",
     "output_type": "stream",
     "text": [
      "{'name': 'Vishnusri', 'cuisine': 'Chicken-Dum Biriyani, Chicken-Frybit Biryani, chicken-Mogalai Biryani', 'rating': 4.7, 'Timing': '11:30Am-11:00Pm'}\n",
      "{'name': 'Ganapathi', 'cuisine': 'Chicken-Fry Biriyani, Mutton-Biryani, Mixed-Biryani', 'rating': 4.5, 'Timing': '12:00Pm-10:00Pm'}\n",
      "{'name': 'Tara', 'cuisine': 'Mogalai-Biriyani, Chicken-Boneless Biryani, Chicken-65 Biryani', 'rating': 4.8, 'Timing': '12:00Pm-11:30Pm'}\n",
      "{'name': 'Hotel Satkar', 'cuisine': 'Mixed-Biriyani, Gongura-Chicken Biryani,Prawns-Biryani', 'rating': 4.7, 'Timing': '12:00Pm-10:00Pm'}\n",
      "{'name': 'Aloha', 'cuisine': 'Chicken-Dum Biriyani, Mutton-Biryani, Chicken-Friedrice, Paneer-Biryani, Manchuriya-Friedrice', 'rating': 4.2, 'Timing': '12:00Pm-11:45Pm'}\n",
      "{'name': 'RedBucket', 'cuisine': 'Pizza, Chicken-Fry Biriyani, Chicken-Thali', 'rating': 4.8, 'Timing': '11:40Am-12:00Am'}\n",
      "{'name': 'Rajugaru', 'cuisine': 'Veg Biriyani, Special-Chicken Biryani, Chicken-Roast Biryani', 'rating': 4.7, 'Timing': '12:00Pm-11:00Pm'}\n"
     ]
    }
   ],
   "source": [
    "s=[\n",
    "    {\"name\":\"Vishnusri\",\"cuisine\":\"Chicken-Dum Biriyani, Chicken-Frybit Biryani, chicken-Mogalai Biryani\",\"rating\":4.7,\"Timing\":\"11:30Am-11:00Pm\"},\n",
    "    {\"name\":\"Ganapathi\",\"cuisine\":\"Chicken-Fry Biriyani, Mutton-Biryani, Mixed-Biryani\", \"rating\":4.5,\"Timing\":\"12:00Pm-10:00Pm\"},\n",
    "    {\"name\":\"Tara\",\"cuisine\":\"Mogalai-Biriyani, Chicken-Boneless Biryani, Chicken-65 Biryani\", \"rating\":4.8,\"Timing\":\"12:00Pm-11:30Pm\"},\n",
    "    {\"name\":\"Hotel Satkar\",\"cuisine\":\"Mixed-Biriyani, Gongura-Chicken Biryani,Prawns-Biryani\", \"rating\":4.7,\"Timing\":\"12:00Pm-10:00Pm\"},\n",
    "    {\"name\":\"Aloha\",\"cuisine\":\"Chicken-Dum Biriyani, Mutton-Biryani, Chicken-Friedrice, Paneer-Biryani, Manchuriya-Friedrice\", \"rating\":4.2,\"Timing\":\"12:00Pm-11:45Pm\"},\n",
    "    {\"name\":\"RedBucket\",\"cuisine\":\"Pizza, Chicken-Fry Biriyani, Chicken-Thali\",\"rating\":4.8,\"Timing\":\"11:40Am-12:00Am\"},\n",
    "    {\"name\":\"Rajugaru\",\"cuisine\":\"Veg Biriyani, Special-Chicken Biryani, Chicken-Roast Biryani\", \"rating\":4.7,\"Timing\":\"12:00Pm-11:00Pm\"}]\n",
    "def Restaurants(resturant):\n",
    "    for i in resturant:\n",
    "        print(i)\n",
    "Restaurants(s)"
   ]
  },
  {
   "cell_type": "code",
   "execution_count": 7,
   "metadata": {},
   "outputs": [
    {
     "name": "stdout",
     "output_type": "stream",
     "text": [
      "Vishnusri\n",
      "Ganapathi\n",
      "Tara\n",
      "Hotel Satkar\n",
      "Aloha\n",
      "RedBucket\n",
      "Rajugaru\n",
      "____________________________________________________________________________________________________\n",
      "Chicken-Dum Biriyani, Chicken-Frybit Biryani, chicken-Mogalai Biryani\n",
      "Chicken-Fry Biriyani, Mutton-Biryani, Mixed-Biryani\n",
      "Mogalai-Biriyani, Chicken-Boneless Biryani, Chicken-65 Biryani\n",
      "Mixed-Biriyani, Gongura-Chicken Biryani,Prawns-Biryani\n",
      "Chicken-Dum Biriyani, Mutton-Biryani, Chicken-Friedrice, Paneer-Biryani, Manchuriya-Friedrice\n",
      "Pizza, Chicken-Fry Biriyani, Chicken-Thali\n",
      "Veg Biriyani, Special-Chicken Biryani, Chicken-Roast Biryani\n"
     ]
    }
   ],
   "source": [
    "for restaurant in s:\n",
    "    print(restaurant[\"name\"])\n",
    "    # print(restaurant[\"Table\"])\n",
    "print(\"_\"*100)\n",
    "for restaurant in s:\n",
    "    print(restaurant[\"cuisine\"])\n"
   ]
  },
  {
   "cell_type": "code",
   "execution_count": 44,
   "metadata": {},
   "outputs": [
    {
     "name": "stdout",
     "output_type": "stream",
     "text": [
      "Restaurant with the name chicken-fry-biriyani is not found\n"
     ]
    }
   ],
   "source": [
    "def search_restaurants():\n",
    "    search=input(\"search the restaurant:\")\n",
    "    for restaurant in s:\n",
    "        if restaurant[\"name\"]==search:\n",
    "            print(\"Restaurant Details\")\n",
    "            print(\"-\"*18)\n",
    "            print(f\"Name    : {restaurant['name']}\")\n",
    "            print(f\"Cuisine : {restaurant['cuisine']}\")\n",
    "            print(f\"Rating  : {restaurant['rating']}\")\n",
    "            print(f\"Timing  : {restaurant['Timing']}\")\n",
    "            break\n",
    "    else:\n",
    "        print(f\"Restaurant with the name {search} is not found\")\n",
    "search_restaurants()"
   ]
  },
  {
   "cell_type": "code",
   "execution_count": 45,
   "metadata": {},
   "outputs": [],
   "source": [
    "def search_cuisine():\n",
    "    cuisine=input(\"Enter the cuisine:\")\n",
    "    for restaurant in s:\n",
    "        if cuisine.lower() in restaurant[\"cuisine\"].lower():\n",
    "            print(\"Restaurant Details:\")\n",
    "            print(f\"Name    : {restaurant['name']}\")\n",
    "            print(f\"Cuisine : {restaurant['cuisine']}\")\n",
    "            print(f\"Rating  : {restaurant['rating']}\")\n",
    "            print(f\"Timing  : {restaurant['Timing']}\")\n",
    "            print(\"-\"*50)\n",
    "            #break\n",
    "    if cuisine not in s:\n",
    "        print(\"\")\n",
    "    else:\n",
    "        print(f\"Sorry Your {cuisine} is not available.\")"
   ]
  },
  {
   "cell_type": "code",
   "execution_count": 46,
   "metadata": {},
   "outputs": [
    {
     "name": "stdout",
     "output_type": "stream",
     "text": [
      "\n"
     ]
    }
   ],
   "source": [
    "search_cuisine()"
   ]
  }
 ],
 "metadata": {
  "kernelspec": {
   "display_name": "Python 3",
   "language": "python",
   "name": "python3"
  },
  "language_info": {
   "codemirror_mode": {
    "name": "ipython",
    "version": 3
   },
   "file_extension": ".py",
   "mimetype": "text/x-python",
   "name": "python",
   "nbconvert_exporter": "python",
   "pygments_lexer": "ipython3",
   "version": "3.11.3"
  },
  "orig_nbformat": 4
 },
 "nbformat": 4,
 "nbformat_minor": 2
}
