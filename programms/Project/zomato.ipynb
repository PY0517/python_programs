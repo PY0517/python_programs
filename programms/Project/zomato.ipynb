{
 "cells": [
  {
   "cell_type": "code",
   "execution_count": 27,
   "metadata": {},
   "outputs": [
    {
     "name": "stdout",
     "output_type": "stream",
     "text": [
      "{'name': 'Vishnusri', 'cuisine': 'Chicken-Dum Biriyani, Chicken-Frybit Biryani, chicken-Mogalai Biryani', 'rating': 4.7}\n",
      "{'name': 'Ganapathi', 'cuisine': 'Chicken-Fry Biriyani, Mutton-Biryani, Mixed-Biryani', 'rating': 4.5}\n",
      "{'name': 'Tara', 'cuisine': 'Mogalai-Biriyani, Chicken-Boneless Biryani, Chicken-65 Biryani', 'rating': 4.8}\n",
      "{'name': 'Hotel Satkar', 'cuisine': 'Mixed-Biriyani, Gongura-Chicken Biryani,Prawns-Biryani', 'rating': 4.7}\n",
      "{'name': 'Aloha', 'cuisine': 'Chicken-Dum Biriyani, Mutton-Biryani, Chicken-Friedrice, Paneer-Biryani, Manchuriya-Friedrice', 'rating': 4.2}\n",
      "{'name': 'RedBucket', 'cuisine': 'Pizza, Chicken-Fry Biriyani, Chicken-Thali', 'rating': 4.8}\n",
      "{'name': 'Rajugaru', 'cuisine': 'Veg Biriyani, Special-Chicken Biryani, Chicken-Roast Biryani', 'rating': 4.7}\n"
     ]
    }
   ],
   "source": [
    "s=[\n",
    "    {\"name\":\"Vishnusri\",\"cuisine\":\"Chicken-Dum Biriyani, Chicken-Frybit Biryani, chicken-Mogalai Biryani\",\"rating\":4.7},\n",
    "    {\"name\":\"Ganapathi\",\"cuisine\":\"Chicken-Fry Biriyani, Mutton-Biryani, Mixed-Biryani\", \"rating\":4.5},\n",
    "    {\"name\":\"Tara\",\"cuisine\":\"Mogalai-Biriyani, Chicken-Boneless Biryani, Chicken-65 Biryani\", \"rating\":4.8},\n",
    "    {\"name\":\"Hotel Satkar\",\"cuisine\":\"Mixed-Biriyani, Gongura-Chicken Biryani,Prawns-Biryani\", \"rating\":4.7},\n",
    "    {\"name\":\"Aloha\",\"cuisine\":\"Chicken-Dum Biriyani, Mutton-Biryani, Chicken-Friedrice, Paneer-Biryani, Manchuriya-Friedrice\", \"rating\":4.2},\n",
    "    {\"name\":\"RedBucket\",\"cuisine\":\"Pizza, Chicken-Fry Biriyani, Chicken-Thali\",\"rating\":4.8},\n",
    "    {\"name\":\"Rajugaru\",\"cuisine\":\"Veg Biriyani, Special-Chicken Biryani, Chicken-Roast Biryani\", \"rating\":4.7}]\n",
    "def Restaurants(resturant):\n",
    "    for i in resturant:\n",
    "        print(i)\n",
    "Restaurants(s)"
   ]
  },
  {
   "cell_type": "code",
   "execution_count": 28,
   "metadata": {},
   "outputs": [
    {
     "name": "stdout",
     "output_type": "stream",
     "text": [
      "Vishnusri\n",
      "Ganapathi\n",
      "Tara\n",
      "Hotel Satkar\n",
      "Aloha\n",
      "RedBucket\n",
      "Rajugaru\n",
      "____________________________________________________________________________________________________\n",
      "Chicken-Dum Biriyani, Chicken-Frybit Biryani, chicken-Mogalai Biryani\n",
      "Chicken-Fry Biriyani, Mutton-Biryani, Mixed-Biryani\n",
      "Mogalai-Biriyani, Chicken-Boneless Biryani, Chicken-65 Biryani\n",
      "Mixed-Biriyani, Gongura-Chicken Biryani,Prawns-Biryani\n",
      "Chicken-Dum Biriyani, Mutton-Biryani, Chicken-Friedrice, Paneer-Biryani, Manchuriya-Friedrice\n",
      "Pizza, Chicken-Fry Biriyani, Chicken-Thali\n",
      "Veg Biriyani, Special-Chicken Biryani, Chicken-Roast Biryani\n"
     ]
    }
   ],
   "source": [
    "for restaurant in s:\n",
    "    print(restaurant[\"name\"])\n",
    "print(\"_\"*100)\n",
    "for restaurant in s:\n",
    "    print(restaurant[\"cuisine\"])\n"
   ]
  },
  {
   "cell_type": "code",
   "execution_count": 52,
   "metadata": {},
   "outputs": [
    {
     "name": "stdout",
     "output_type": "stream",
     "text": [
      "Chicken-Dum Biriyani, Chicken-Frybit Biryani, chicken-Mogalai Biryani\n",
      "Chicken-Fry Biriyani, Mutton-Biryani, Mixed-Biryani\n",
      "Mogalai-Biriyani, Chicken-Boneless Biryani, Chicken-65 Biryani\n",
      "Mixed-Biriyani, Gongura-Chicken Biryani,Prawns-Biryani\n",
      "Chicken-Dum Biriyani, Mutton-Biryani, Chicken-Friedrice, Paneer-Biryani, Manchuriya-Friedrice\n",
      "Pizza, Chicken-Fry Biriyani, Chicken-Thali\n",
      "Veg Biriyani, Special-Chicken Biryani, Chicken-Roast Biryani\n"
     ]
    }
   ],
   "source": [
    "def search_cuisine():\n",
    "    for restaurant in s:\n",
    "        res=restaurant[\"cuisine\"]\n",
    "        print(res)\n",
    "search_cuisine()"
   ]
  },
  {
   "cell_type": "code",
   "execution_count": 60,
   "metadata": {},
   "outputs": [
    {
     "name": "stdout",
     "output_type": "stream",
     "text": [
      "Restaurant Details\n",
      "------------------\n",
      "Name    : Aloha\n",
      "Cuisine : Chicken-Dum Biriyani, Mutton-Biryani, Chicken-Friedrice, Paneer-Biryani, Manchuriya-Friedrice\n",
      "Rating  : 4.2\n"
     ]
    }
   ],
   "source": [
    "def search_rest():\n",
    "    search=input(\"search the restaurant:\")\n",
    "    for restaurant in s:\n",
    "        if restaurant[\"name\"]==search:\n",
    "            print(\"Restaurant Details\")\n",
    "            print(\"-\"*18)\n",
    "            print(f\"Name    : {restaurant['name']}\")\n",
    "            print(f\"Cuisine : {restaurant['cuisine']}\")\n",
    "            print(f\"Rating  : {restaurant['rating']}\")\n",
    "            break\n",
    "    else:\n",
    "        print(f\"Restaurant with the name {search} is not found\")\n",
    "search_rest()"
   ]
  },
  {
   "cell_type": "code",
   "execution_count": 59,
   "metadata": {},
   "outputs": [
    {
     "name": "stdout",
     "output_type": "stream",
     "text": [
      "Restaurant Details:\n",
      "Name: Aloha\n",
      "Cuisine: Chicken-Dum Biriyani, Mutton-Biryani, Chicken-Friedrice, Paneer-Biryani, Manchuriya-Friedrice\n",
      "Rating: 4.2\n",
      "No restaurant offers Manchuriya-Friedrice.\n"
     ]
    }
   ],
   "source": [
    "def search_cuisine():\n",
    "    cuisine=input(\"enter the cuisine:\")\n",
    "    for restaurant in s:\n",
    "        if cuisine in restaurant[\"cuisine\"]:\n",
    "            # Display restaurant details\n",
    "            print(\"Restaurant Details:\")\n",
    "            print(f\"Name: {restaurant['name']}\")\n",
    "            print(f\"Cuisine: {restaurant['cuisine']}\")\n",
    "            print(f\"Rating: {restaurant['rating']}\")\n",
    "\n",
    "    # Check if a restaurant offering the specified cuisine was not found\n",
    "    else:\n",
    "        print(f\"No restaurant offers {cuisine}.\")\n",
    "search_cuisine()"
   ]
  }
 ],
 "metadata": {
  "language_info": {
   "name": "python"
  },
  "orig_nbformat": 4
 },
 "nbformat": 4,
 "nbformat_minor": 2
}
