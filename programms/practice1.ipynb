{
 "cells": [
  {
   "cell_type": "code",
   "execution_count": 2,
   "metadata": {},
   "outputs": [
    {
     "ename": "NameError",
     "evalue": "name 'singers' is not defined",
     "output_type": "error",
     "traceback": [
      "\u001b[1;31m---------------------------------------------------------------------------\u001b[0m",
      "\u001b[1;31mNameError\u001b[0m                                 Traceback (most recent call last)",
      "\u001b[1;32mc:\\Users\\Vara\\Documents\\GitHub\\python_programs\\programms\\practice1.ipynb Cell 1\u001b[0m line \u001b[0;36m1\n\u001b[0;32m     <a href='vscode-notebook-cell:/c%3A/Users/Vara/Documents/GitHub/python_programs/programms/practice1.ipynb#W0sZmlsZQ%3D%3D?line=13'>14</a>\u001b[0m     \u001b[39mreturn\u001b[39;00m fav\n\u001b[0;32m     <a href='vscode-notebook-cell:/c%3A/Users/Vara/Documents/GitHub/python_programs/programms/practice1.ipynb#W0sZmlsZQ%3D%3D?line=14'>15</a>\u001b[0m \u001b[39m#no_of_songs = input()\u001b[39;00m\n\u001b[0;32m     <a href='vscode-notebook-cell:/c%3A/Users/Vara/Documents/GitHub/python_programs/programms/practice1.ipynb#W0sZmlsZQ%3D%3D?line=15'>16</a>\u001b[0m \u001b[39m#singers = list(map(int, input().split()))\u001b[39;00m\n\u001b[1;32m---> <a href='vscode-notebook-cell:/c%3A/Users/Vara/Documents/GitHub/python_programs/programms/practice1.ipynb#W0sZmlsZQ%3D%3D?line=16'>17</a>\u001b[0m \u001b[39mprint\u001b[39m(fav_singers(singers))\n",
      "\u001b[1;31mNameError\u001b[0m: name 'singers' is not defined"
     ]
    }
   ],
   "source": [
    "#Favourite singer\n",
    "\n",
    "def fav_singers(singers):    \n",
    "    occ = {}    \n",
    "    max_count = 0    \n",
    "    for singer in singers:        \n",
    "        occ[singer] = occ.get(singer, 0) + 1        \n",
    "        if occ[singer] > max_count:\n",
    "            max_count = occ[singer]  \n",
    "    fav = 0    \n",
    "    for i in occ.values():\n",
    "        if max_count == i:\n",
    "            fav += 1   \n",
    "    return fav\n",
    "#no_of_songs = input()\n",
    "#singers = list(map(int, input().split()))\n",
    "print(fav_singers(singers))"
   ]
  },
  {
   "cell_type": "code",
   "execution_count": null,
   "metadata": {},
   "outputs": [],
   "source": []
  },
  {
   "cell_type": "code",
   "execution_count": 1,
   "metadata": {},
   "outputs": [
    {
     "name": "stdout",
     "output_type": "stream",
     "text": [
      "200 100\n",
      "28\n",
      "24\n",
      "49\n",
      "28\n",
      "true body\n"
     ]
    }
   ],
   "source": [
    "x,y = 100,200\n",
    "x,y = y,x\n",
    "print(x,y)\n",
    "\n",
    "import sys\n",
    "val1,val2,val3,val4 = 10,10.5,\"\",True\n",
    "print(sys.getsizeof(val1))\n",
    "print(sys.getsizeof(val2))\n",
    "print(sys.getsizeof(val3))\n",
    "print(sys.getsizeof(val4))\n",
    "\n",
    "if True:\n",
    "    print(\"true body\")\n",
    "else:\n",
    "    print(\"false body\")"
   ]
  },
  {
   "cell_type": "code",
   "execution_count": 3,
   "metadata": {},
   "outputs": [
    {
     "name": "stdout",
     "output_type": "stream",
     "text": [
      "bigg\n",
      "even\n"
     ]
    }
   ],
   "source": [
    "#2. Take the two numbers from end user print the bigger number\n",
    "n=int(input())\n",
    "m=int(input())\n",
    "if n>m:\n",
    "    print('bigg')\n",
    "else:\n",
    "    print('small')\n",
    "\n",
    "#3. Take the number from end user print that is even or odd\n",
    "l=int(input())\n",
    "if l%2==0:\n",
    "    print('even')\n",
    "else:\n",
    "    print('odd')"
   ]
  },
  {
   "cell_type": "code",
   "execution_count": null,
   "metadata": {},
   "outputs": [
    {
     "name": "stdout",
     "output_type": "stream",
     "text": [
      "even\n"
     ]
    }
   ],
   "source": [
    "#4. Take the number from end user check it is positive or negative\n",
    "n=int(input())\n",
    "if n>0 and n%2==0:\n",
    "    print('even')\n",
    "else:\n",
    "    print('odd')"
   ]
  },
  {
   "cell_type": "code",
   "execution_count": 6,
   "metadata": {},
   "outputs": [
    {
     "name": "stdout",
     "output_type": "stream",
     "text": [
      "Leap_year\n"
     ]
    }
   ],
   "source": [
    "year=int(input())\n",
    "if year%4==0 :\n",
    "    print('Leap_year')\n",
    "else:\n",
    "    print('not_leap')\n"
   ]
  },
  {
   "cell_type": "code",
   "execution_count": null,
   "metadata": {},
   "outputs": [
    {
     "name": "stdout",
     "output_type": "stream",
     "text": [
      "hi ratan sir... 0\n",
      "hi ratan sir... 1\n",
      "hi ratan sir... 2\n",
      "hi ratan sir... 3\n",
      "hi ratan sir... 4\n",
      "hi ratan sir... 5\n",
      "hi ratan sir... 6\n",
      "hi ratan sir... 7\n",
      "hi ratan sir... 8\n",
      "hi ratan sir... 9\n",
      "hi students... 2\n",
      "hi students... 3\n",
      "hi students... 4\n",
      "hi students... 5\n",
      "hi students... 6\n",
      "hi anu madam.... 2\n",
      "hi anu madam.... 4\n",
      "hi anu madam.... 6\n"
     ]
    }
   ],
   "source": [
    "st=20\n",
    "for x in range(10):\n",
    "    print(\"hi ratan sir...\",x)\n",
    "for x in range(2,7):\n",
    "    print(\"hi students...\",x)\n",
    "for x in range(2,8,2):\n",
    "    print(\"hi anu madam....\",x)"
   ]
  },
  {
   "cell_type": "code",
   "execution_count": 7,
   "metadata": {},
   "outputs": [
    {
     "name": "stdout",
     "output_type": "stream",
     "text": [
      "2 4 6 8 10 12 14 16 18 20 2 4 6 8 10 12 14 16 18 20 333\n",
      "341\n",
      "349\n",
      "357\n",
      "365\n",
      "373\n",
      "381\n",
      "389\n",
      "397\n",
      "405\n",
      "413\n",
      "421\n",
      "429\n",
      "437\n"
     ]
    }
   ],
   "source": [
    "#printing the even values from 1-20\n",
    "for x in range(1,21):\n",
    "    if x%2==0:\n",
    "        print(x,end=\" \")\n",
    "\n",
    "#printing the even values from 1-20\n",
    "for x in range(2,22,2):\n",
    "    print(x,end=\" \")\n",
    "\n",
    "#printing the values from 333 to 444 by steping 8\n",
    "for x in range(333,444,8):\n",
    "    print(x)"
   ]
  },
  {
   "cell_type": "code",
   "execution_count": null,
   "metadata": {},
   "outputs": [
    {
     "name": "stdout",
     "output_type": "stream",
     "text": [
      "50\n"
     ]
    }
   ],
   "source": [
    "#adding two numbers \n",
    "n=20\n",
    "m=30\n",
    "import operator\n",
    "p= operator.add(n,m)\n",
    "print(p)\n",
    "#print('sum of', n, 'and'  ' sum of', m, 'is',p)"
   ]
  },
  {
   "cell_type": "code",
   "execution_count": null,
   "metadata": {},
   "outputs": [
    {
     "name": "stdout",
     "output_type": "stream",
     "text": [
      "The sum of 2 and 3 and 6 is 11.0\n"
     ]
    }
   ],
   "source": [
    "# Adding two numbers with user input.\n",
    "p = input(\"First number: \")\n",
    "y = input(\"\\nSecond number: \")\n",
    "s=input('third value')\n",
    "l=float(p)+float(y)+float(s)\n",
    "print(\"The sum of {0} and {1} and {2} is {3}\" .format(p,y,s, l))\n"
   ]
  },
  {
   "cell_type": "code",
   "execution_count": null,
   "metadata": {},
   "outputs": [
    {
     "name": "stdout",
     "output_type": "stream",
     "text": [
      "[('Tim', 18), ('Charlie', 12), ('Tiffany', 22), ('Robert', 25), ('ABC', 17)]\n",
      "Students Name: [('Tim', 18), ('Charlie', 12), ('Tiffany', 22), ('Robert', 25)]\n",
      "Charlie:12\n",
      "Robert:25\n",
      "Tiffany:22\n",
      "Tim:18\n",
      "Length : 4\n"
     ]
    }
   ],
   "source": [
    "Dict = {'Tim': 18,'Charlie':12,'Tiffany':22,'Robert':25}\n",
    "Dict.update({'ABC':17})\n",
    "Dict=list(Dict.items())\n",
    "print(Dict)\n",
    "\n",
    "Dict = {'Tim': 18,'Charlie':12,'Tiffany':22,'Robert':25}    \n",
    "print(\"Students Name: %s\" % list(Dict.items()))\n",
    "\n",
    "Dict = {'Tim': 18,'Charlie':12,'Tiffany':22,'Robert':25}\n",
    "Boys = {'Tim': 18,'Charlie':12,'Robert':25}\n",
    "Girls = {'Tiffany':22}\n",
    "Students = list(Dict.keys())\n",
    "Students.sort()\n",
    "for S in Students:\n",
    "      print(\":\".join((S,str(Dict[S]))))\n",
    "\n",
    "\n",
    "Dict = {'Tim': 18,'Charlie':12,'Tiffany':22,'Robert':25}    \n",
    "print(\"Length : %d\" % len (Dict))"
   ]
  },
  {
   "cell_type": "code",
   "execution_count": null,
   "metadata": {},
   "outputs": [
    {
     "name": "stdout",
     "output_type": "stream",
     "text": [
      "Guru99\n",
      "Software Testing: Testing is fun\n"
     ]
    }
   ],
   "source": [
    "class myClass():\n",
    "  def method1(self):\n",
    "      print(\"Guru99\")\n",
    "         \n",
    "  def method2(self,someString):    \n",
    "      print(\"Software Testing:\" + someString)\n",
    "   \n",
    "def main():           \n",
    "    # exercise the class methods\n",
    "    c = myClass ()\n",
    "    c.method1()\n",
    "    c.method2(\" Testing is fun\")\n",
    "main()\n"
   ]
  },
  {
   "cell_type": "code",
   "execution_count": null,
   "metadata": {},
   "outputs": [
    {
     "name": "stdout",
     "output_type": "stream",
     "text": [
      "98 is prime\n"
     ]
    }
   ],
   "source": [
    "x= int(input())\n",
    "if x>1:\n",
    "    for i in range(2,x):\n",
    "        if x%i==0:\n",
    "            print(x,'is prime')\n",
    "            break\n",
    "        else:\n",
    "            print(x,' is not prime')"
   ]
  },
  {
   "cell_type": "code",
   "execution_count": null,
   "metadata": {},
   "outputs": [
    {
     "name": "stdout",
     "output_type": "stream",
     "text": [
      "6\n"
     ]
    }
   ],
   "source": [
    "n=int(input())\n",
    "fact=1\n",
    "while n>=fact:\n",
    "    fact=fact*n\n",
    "    n-=1\n",
    "fact+=1\n",
    "print(fact)"
   ]
  },
  {
   "cell_type": "code",
   "execution_count": null,
   "metadata": {},
   "outputs": [],
   "source": []
  }
 ],
 "metadata": {
  "kernelspec": {
   "display_name": "Python 3",
   "language": "python",
   "name": "python3"
  },
  "language_info": {
   "codemirror_mode": {
    "name": "ipython",
    "version": 3
   },
   "file_extension": ".py",
   "mimetype": "text/x-python",
   "name": "python",
   "nbconvert_exporter": "python",
   "pygments_lexer": "ipython3",
   "version": "3.11.3"
  },
  "orig_nbformat": 4
 },
 "nbformat": 4,
 "nbformat_minor": 2
}
