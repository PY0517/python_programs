{
 "cells": [
  {
   "cell_type": "code",
   "execution_count": 27,
   "metadata": {},
   "outputs": [
    {
     "name": "stdout",
     "output_type": "stream",
     "text": [
      "1\n"
     ]
    }
   ],
   "source": [
    "#Favourite singer\n",
    "\n",
    "def fav_singers(singers):    \n",
    "    occ = {}    \n",
    "    max_count = 0    \n",
    "    for singer in singers:        \n",
    "        occ[singer] = occ.get(singer, 0) + 1        \n",
    "        if occ[singer] > max_count:\n",
    "            max_count = occ[singer]  \n",
    "    fav = 0    \n",
    "    for i in occ.values():\n",
    "        if max_count == i:\n",
    "            fav += 1   \n",
    "    return fav\n",
    "#no_of_songs = input()\n",
    "#singers = list(map(int, input().split()))\n",
    "print(fav_singers(singers))"
   ]
  },
  {
   "cell_type": "code",
   "execution_count": null,
   "metadata": {},
   "outputs": [],
   "source": []
  }
 ],
 "metadata": {
  "kernelspec": {
   "display_name": "Python 3",
   "language": "python",
   "name": "python3"
  },
  "language_info": {
   "name": "python",
   "version": "3.11.3"
  },
  "orig_nbformat": 4
 },
 "nbformat": 4,
 "nbformat_minor": 2
}
