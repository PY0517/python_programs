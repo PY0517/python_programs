{
 "cells": [
  {
   "cell_type": "code",
   "execution_count": 27,
   "metadata": {},
   "outputs": [
    {
     "name": "stdout",
     "output_type": "stream",
     "text": [
      "1\n"
     ]
    }
   ],
   "source": [
    "#Favourite singer\n",
    "\n",
    "def fav_singers(singers):    \n",
    "    occ = {}    \n",
    "    max_count = 0    \n",
    "    for singer in singers:        \n",
    "        occ[singer] = occ.get(singer, 0) + 1        \n",
    "        if occ[singer] > max_count:\n",
    "            max_count = occ[singer]  \n",
    "    fav = 0    \n",
    "    for i in occ.values():\n",
    "        if max_count == i:\n",
    "            fav += 1   \n",
    "    return fav\n",
    "#no_of_songs = input()\n",
    "#singers = list(map(int, input().split()))\n",
    "print(fav_singers(singers))"
   ]
  },
  {
   "cell_type": "code",
   "execution_count": 15,
   "metadata": {},
   "outputs": [
    {
     "name": "stdout",
     "output_type": "stream",
     "text": [
      "50\n"
     ]
    }
   ],
   "source": [
    "#adding two numbers \n",
    "n=20\n",
    "m=30\n",
    "import operator\n",
    "p= operator.add(n,m)\n",
    "print(p)\n",
    "#print('sum of', n, 'and'  ' sum of', m, 'is',p)"
   ]
  },
  {
   "cell_type": "code",
   "execution_count": 8,
   "metadata": {},
   "outputs": [
    {
     "name": "stdout",
     "output_type": "stream",
     "text": [
      "The sum of 2 and 3 and 6 is 11.0\n"
     ]
    }
   ],
   "source": [
    "# Adding two numbers with user input.\n",
    "p = input(\"First number: \")\n",
    "y = input(\"\\nSecond number: \")\n",
    "s=input('third value')\n",
    "l=float(p)+float(y)+float(s)\n",
    "print(\"The sum of {0} and {1} and {2} is {3}\" .format(p,y,s, l))\n"
   ]
  },
  {
   "cell_type": "code",
   "execution_count": null,
   "metadata": {},
   "outputs": [],
   "source": []
  }
 ],
 "metadata": {
  "kernelspec": {
   "display_name": "Python 3",
   "language": "python",
   "name": "python3"
  },
  "language_info": {
   "codemirror_mode": {
    "name": "ipython",
    "version": 3
   },
   "file_extension": ".py",
   "mimetype": "text/x-python",
   "name": "python",
   "nbconvert_exporter": "python",
   "pygments_lexer": "ipython3",
   "version": "3.11.3"
  },
  "orig_nbformat": 4
 },
 "nbformat": 4,
 "nbformat_minor": 2
}
