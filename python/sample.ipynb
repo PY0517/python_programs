{
 "cells": [
  {
   "cell_type": "code",
   "execution_count": 1,
   "metadata": {},
   "outputs": [
    {
     "name": "stdout",
     "output_type": "stream",
     "text": [
      "haiii\n"
     ]
    }
   ],
   "source": [
    "print(\"haiii\")\n",
    "print(\"hello\")"
   ]
  },
  {
   "cell_type": "code",
   "execution_count": 1,
   "metadata": {},
   "outputs": [
    {
     "name": "stdout",
     "output_type": "stream",
     "text": [
      "haii\n"
     ]
    }
   ],
   "source": [
    "print(\"haii\")"
   ]
  },
  {
   "cell_type": "code",
   "execution_count": 11,
   "metadata": {},
   "outputs": [
    {
     "name": "stdout",
     "output_type": "stream",
     "text": [
      "300\n"
     ]
    },
    {
     "data": {
      "text/plain": [
       "300"
      ]
     },
     "execution_count": 11,
     "metadata": {},
     "output_type": "execute_result"
    }
   ],
   "source": [
    "a = 100\n",
    "b = 200\n",
    "print(a+b)\n",
    "c=a+b\n",
    "c"
   ]
  },
  {
   "cell_type": "code",
   "execution_count": 3,
   "metadata": {},
   "outputs": [
    {
     "data": {
      "text/plain": [
       "'a'"
      ]
     },
     "execution_count": 3,
     "metadata": {},
     "output_type": "execute_result"
    }
   ],
   "source": [
    "y='apple'\n",
    "id(y)\n",
    "id(0)\n",
    "y[0]"
   ]
  },
  {
   "cell_type": "code",
   "execution_count": 11,
   "metadata": {},
   "outputs": [
    {
     "data": {
      "text/plain": [
       "set"
      ]
     },
     "execution_count": 11,
     "metadata": {},
     "output_type": "execute_result"
    }
   ],
   "source": [
    "\n",
    "a={10}\n",
    "type(a)"
   ]
  },
  {
   "cell_type": "code",
   "execution_count": 18,
   "metadata": {},
   "outputs": [
    {
     "data": {
      "text/plain": [
       "[10, 20, (100, 200, 'a'), 'py']"
      ]
     },
     "execution_count": 18,
     "metadata": {},
     "output_type": "execute_result"
    }
   ],
   "source": [
    "f=[10,20,(100,200,\"a\"),'py']\n",
    "import copy\n",
    "x=copy.deepcopy(f)\n",
    "x"
   ]
  },
  {
   "cell_type": "code",
   "execution_count": 4,
   "metadata": {},
   "outputs": [
    {
     "name": "stdout",
     "output_type": "stream",
     "text": [
      "PYSPIDQRS\n",
      "PYSPIDQRS\n"
     ]
    }
   ],
   "source": [
    "# 19Q] WAS to replace the old characters into a new characters of given string\n",
    "\n",
    "x = 'PYSPIDERS'\n",
    "res=(x[:-3]+\"Q\"+x[-2:])\n",
    "print(res)\n",
    "res=(x[:6]+\"Q\"+x[7:])\n",
    "print(res)"
   ]
  },
  {
   "cell_type": "code",
   "execution_count": 6,
   "metadata": {},
   "outputs": [
    {
     "name": "stdout",
     "output_type": "stream",
     "text": [
      "QSPIERS\n"
     ]
    }
   ],
   "source": [
    "# 20Q] WAS to delete the specific character in the given string \n",
    "\n",
    "x=\"QSPIDERS\"\n",
    "res=x[:4]+x[4+1:]\n",
    "print(res)"
   ]
  },
  {
   "cell_type": "code",
   "execution_count": 8,
   "metadata": {},
   "outputs": [
    {
     "name": "stdout",
     "output_type": "stream",
     "text": [
      "QSRS\n",
      "QSRS\n",
      "QSRS\n",
      "QSRS\n"
     ]
    }
   ],
   "source": [
    "# 21Q] WAS to delete the sequence of characters in given string\n",
    "# i\\p ; x=\"QSPIDERS\"      O\\P ; QSRS\n",
    "\n",
    "res=x[:2]+x[6:]\n",
    "print(res)\n",
    "res=x[:2]+x[-2:]\n",
    "print(res)\n",
    "res=x[:-6]+x[-2:]\n",
    "print(res)\n",
    "res=x[:-6]+x[6:]\n",
    "print(res)"
   ]
  },
  {
   "cell_type": "code",
   "execution_count": 17,
   "metadata": {},
   "outputs": [
    {
     "name": "stdout",
     "output_type": "stream",
     "text": [
      "QSPI123456DERS\n",
      "SRED123456IPSQ\n",
      "SRED123456IPSQ\n"
     ]
    }
   ],
   "source": [
    "# 22Q] WAS to concat the new string into the specific position of the given string\n",
    "# i\\p ; x=\"QSPIDERS\"   o\\p : QSPI123456DERS\n",
    "\n",
    "x=\"QSPIDERS\"\n",
    "res=x[0:4]+\"123456\"+x[-4:]\n",
    "print(res)\n",
    "\n",
    "res=x[-1:3:-1]+\"123456\"+x[-5::-1]\n",
    "print(res)\n",
    "\n",
    "res=x[:3:-1]+\"123456\"+x[3::-1]\n",
    "print(res)"
   ]
  },
  {
   "attachments": {},
   "cell_type": "markdown",
   "metadata": {},
   "source": [
    "lIST questions"
   ]
  },
  {
   "cell_type": "code",
   "execution_count": 24,
   "metadata": {},
   "outputs": [
    {
     "name": "stdout",
     "output_type": "stream",
     "text": [
      "[100, 200, 10, 20, 30, 50, 'hello', 'haii'] 2296957828544\n",
      "[100, 200, 10, 20, 30, 50, 'hello', 'haii'] 2296957824320\n",
      "[100, 200, 10, 20, 30, 50, 'hello', 'haii'] 2296957828544\n"
     ]
    }
   ],
   "source": [
    "# 23Q] WAS to concat the new value into the starting of the given list\n",
    "\n",
    "l=[10,20,30,50,'hello','haii']\n",
    "l=[100,200]+l\n",
    "print(l,id(l))\n",
    "\n",
    "l=[10,20,30,50,'hello','haii']\n",
    "t=[100,200]\n",
    "t+=l\n",
    "print(t,id(l))\n",
    "\n",
    "l=[10,20,30,50,'hello','haii']\n",
    "l[0:0]=[100,200]\n",
    "print(l,id(l))"
   ]
  },
  {
   "cell_type": "code",
   "execution_count": 28,
   "metadata": {},
   "outputs": [
    {
     "name": "stdout",
     "output_type": "stream",
     "text": [
      "[10, 20, 30, 50, 'hello', 'haii'] 2296939441856\n",
      "[10, 20, 30, 50, 'hello', 'haii', 100, 200] 2296932516672\n",
      "[10, 20, 30, 50, 'hello', 'haii'] 2296939445184\n",
      "[10, 20, 30, 50, 'hello', 'haii', 100, 200] 2296939445184\n",
      "[10, 20, 30, 50, 'hello', 'haii'] 2296932516672\n",
      "[10, 20, 30, 50, 'hello', 'haii', 100, 200] 2296932516672\n"
     ]
    }
   ],
   "source": [
    "# 24Q] WAS to concat the new value into the ending of the given list\n",
    "\n",
    "l=[10,20,30,50,'hello','haii']\n",
    "print(l,id(l))\n",
    "l=l+[100,200]\n",
    "print(l,id(l))\n",
    "\n",
    "l=[10,20,30,50,'hello','haii']\n",
    "print(l,id(l))\n",
    "l+=[100,200]\n",
    "print(l,id(l))\n",
    "\n",
    "l=[10,20,30,50,'hello','haii']\n",
    "print(l,id(l))\n",
    "l[len(l):len(t)]=[100,200]\n",
    "print(l,id(l))\n"
   ]
  },
  {
   "cell_type": "code",
   "execution_count": 32,
   "metadata": {},
   "outputs": [
    {
     "name": "stdout",
     "output_type": "stream",
     "text": [
      "[10, 20, 30, 50, 'hello', 'haii'] 2296933942720\n",
      "[10, 20, 30, 'A', 'B', 50, 'hello', 'haii'] 2296933941760\n",
      "[10, 20, 30, 50, 'hello', 'haii', 'bye'] 2296933343488\n",
      "[10, 20, 30, 'A', 'b', 50, 'hello', 'haii', 'bye'] 2296933942720\n",
      "[10, 20, 30, 50, 'hello', 'haii'] 2296933941760\n",
      "[10, 20, 30, 'a', 'b', 50, 'hello', 'haii'] 2296933941760\n"
     ]
    }
   ],
   "source": [
    "# 25Q] WAS to concat the new value into the middle of tje given string\n",
    "\n",
    "l=[10,20,30,50,'hello','haii']\n",
    "print(l,id(l))\n",
    "l=l[:len(l)//2]+['A','B']+l[len(l)//2:]\n",
    "print(l,id(l))\n",
    "\n",
    "l=[10,20,30,50,'hello','haii','bye']\n",
    "print(l,id(l))\n",
    "l=l[:len(l)//2]+['A','b']+l[len(l)//2:]\n",
    "print(l,id(l))\n",
    "\n",
    "l=[10,20,30,50,'hello','haii']\n",
    "print(l,id(l))\n",
    "l[len(l)//2:len(l)//2]=['a','b']\n",
    "print(l,id(l))"
   ]
  },
  {
   "cell_type": "code",
   "execution_count": 35,
   "metadata": {},
   "outputs": [
    {
     "name": "stdout",
     "output_type": "stream",
     "text": [
      "[10, 20, 30, 50, 'hello', 'haii', 66] 2296964354752\n",
      "[10, 20, 'helloworld', 50, 'hello', 'haii', 66] 2296964354752\n"
     ]
    }
   ],
   "source": [
    "# 26Q] WAS to modify the new value into the specific position of the given list\n",
    "\n",
    "l=[10,20,30,50,'hello','haii',66]\n",
    "print(l,id(l))\n",
    "l[2]=\"helloworld\"\n",
    "print(l,id(l))"
   ]
  },
  {
   "cell_type": "code",
   "execution_count": 36,
   "metadata": {},
   "outputs": [
    {
     "name": "stdout",
     "output_type": "stream",
     "text": [
      "[10, 20, 30, 50, 'hello', 'haii', 66] 2296945323968\n",
      "[10, 20, 'helloworld', 'goodbye', 30, 50, 'hello', 'haii', 66] 2296945323968\n"
     ]
    }
   ],
   "source": [
    "# 27Q] WAS to modify the sequencee of new value into the specific postion of the given list\n",
    "\n",
    "l=[10,20,30,50,'hello','haii',66]\n",
    "print(l,id(l))\n",
    "l[2:2]=[\"helloworld\",\"goodbye\"]\n",
    "print(l,id(l))"
   ]
  },
  {
   "cell_type": "code",
   "execution_count": 39,
   "metadata": {},
   "outputs": [
    {
     "name": "stdout",
     "output_type": "stream",
     "text": [
      "[10, 20, 30, 50, 'hello', 'haii', 66] 2296964358336\n",
      "['helloworld', 20, 30, 50, 'hello', 'haii', 66] 2296964358336\n"
     ]
    }
   ],
   "source": [
    "# 28Q] WAS to modify the new value into the starting of the given list\n",
    "\n",
    "l=[10,20,30,50,'hello','haii',66]\n",
    "print(l,id(l))\n",
    "l[0]=\"helloworld\"\n",
    "print(l,id(l))"
   ]
  },
  {
   "cell_type": "code",
   "execution_count": 40,
   "metadata": {},
   "outputs": [
    {
     "name": "stdout",
     "output_type": "stream",
     "text": [
      "[10, 20, 30, 50, 'hello', 'haii', 66] 2296939157824\n",
      "[10, 20, 30, 50, 'hello', 'haii', 'helloworld'] 2296939157824\n"
     ]
    }
   ],
   "source": [
    "# 29Q] WAS to modify the new value into the ending of the given list\n",
    "\n",
    "l=[10,20,30,50,'hello','haii',66]\n",
    "print(l,id(l))\n",
    "l[-1]=\"helloworld\"\n",
    "print(l,id(l))\n",
    "\n"
   ]
  },
  {
   "cell_type": "code",
   "execution_count": 42,
   "metadata": {},
   "outputs": [
    {
     "name": "stdout",
     "output_type": "stream",
     "text": [
      "[10, 20, 30, 50, 'hello', 'haii', 66] 2296964358336\n",
      "[10, 20, 30, 'helloworld', 'hello', 'haii', 66] 2296964358336\n"
     ]
    }
   ],
   "source": [
    "# 30Q] WAS to modify the new value into the middle of the given value \n",
    "l=[10,20,30,50,'hello','haii',66]\n",
    "print(l,id(l))\n",
    "l[len(l)//2]=\"helloworld\"\n",
    "print(l,id(l))"
   ]
  }
 ],
 "metadata": {
  "kernelspec": {
   "display_name": "Python 3",
   "language": "python",
   "name": "python3"
  },
  "language_info": {
   "codemirror_mode": {
    "name": "ipython",
    "version": 3
   },
   "file_extension": ".py",
   "mimetype": "text/x-python",
   "name": "python",
   "nbconvert_exporter": "python",
   "pygments_lexer": "ipython3",
   "version": "3.11.3"
  },
  "orig_nbformat": 4
 },
 "nbformat": 4,
 "nbformat_minor": 2
}
