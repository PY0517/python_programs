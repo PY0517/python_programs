{
 "cells": [
  {
   "cell_type": "code",
   "execution_count": 1,
   "metadata": {},
   "outputs": [
    {
     "name": "stdout",
     "output_type": "stream",
     "text": [
      "haiii\n"
     ]
    }
   ],
   "source": [
    "print(\"haiii\")\n",
    "print(\"hello\")"
   ]
  },
  {
   "cell_type": "code",
   "execution_count": 1,
   "metadata": {},
   "outputs": [
    {
     "name": "stdout",
     "output_type": "stream",
     "text": [
      "haii\n"
     ]
    }
   ],
   "source": [
    "print(\"haii\")"
   ]
  },
  {
   "cell_type": "code",
   "execution_count": 11,
   "metadata": {},
   "outputs": [
    {
     "name": "stdout",
     "output_type": "stream",
     "text": [
      "300\n"
     ]
    },
    {
     "data": {
      "text/plain": [
       "300"
      ]
     },
     "execution_count": 11,
     "metadata": {},
     "output_type": "execute_result"
    }
   ],
   "source": [
    "a = 100\n",
    "b = 200\n",
    "print(a+b)\n",
    "c=a+b\n",
    "c"
   ]
  },
  {
   "cell_type": "code",
   "execution_count": 3,
   "metadata": {},
   "outputs": [
    {
     "data": {
      "text/plain": [
       "'a'"
      ]
     },
     "execution_count": 3,
     "metadata": {},
     "output_type": "execute_result"
    }
   ],
   "source": [
    "y='apple'\n",
    "id(y)\n",
    "id(0)\n",
    "y[0]"
   ]
  },
  {
   "cell_type": "code",
   "execution_count": 11,
   "metadata": {},
   "outputs": [
    {
     "data": {
      "text/plain": [
       "set"
      ]
     },
     "execution_count": 11,
     "metadata": {},
     "output_type": "execute_result"
    }
   ],
   "source": [
    "\n",
    "a={10}\n",
    "type(a)"
   ]
  },
  {
   "cell_type": "code",
   "execution_count": 18,
   "metadata": {},
   "outputs": [
    {
     "data": {
      "text/plain": [
       "[10, 20, (100, 200, 'a'), 'py']"
      ]
     },
     "execution_count": 18,
     "metadata": {},
     "output_type": "execute_result"
    }
   ],
   "source": [
    "f=[10,20,(100,200,\"a\"),'py']\n",
    "import copy\n",
    "x=copy.deepcopy(f)\n",
    "x"
   ]
  },
  {
   "cell_type": "code",
   "execution_count": 4,
   "metadata": {},
   "outputs": [
    {
     "name": "stdout",
     "output_type": "stream",
     "text": [
      "PYSPIDQRS\n",
      "PYSPIDQRS\n"
     ]
    }
   ],
   "source": [
    "# 19Q] WAS to replace the old characters into a new characters of given string\n",
    "\n",
    "x = 'PYSPIDERS'\n",
    "res=(x[:-3]+\"Q\"+x[-2:])\n",
    "print(res)\n",
    "res=(x[:6]+\"Q\"+x[7:])\n",
    "print(res)"
   ]
  },
  {
   "cell_type": "code",
   "execution_count": 6,
   "metadata": {},
   "outputs": [
    {
     "name": "stdout",
     "output_type": "stream",
     "text": [
      "QSPIERS\n"
     ]
    }
   ],
   "source": [
    "# 20Q] WAS to delete the specific character in the given string \n",
    "\n",
    "x=\"QSPIDERS\"\n",
    "res=x[:4]+x[4+1:]\n",
    "print(res)"
   ]
  },
  {
   "cell_type": "code",
   "execution_count": 8,
   "metadata": {},
   "outputs": [
    {
     "name": "stdout",
     "output_type": "stream",
     "text": [
      "QSRS\n",
      "QSRS\n",
      "QSRS\n",
      "QSRS\n"
     ]
    }
   ],
   "source": [
    "# 21Q] WAS to delete the sequence of characters in given string\n",
    "# i\\p ; x=\"QSPIDERS\"      O\\P ; QSRS\n",
    "\n",
    "res=x[:2]+x[6:]\n",
    "print(res)\n",
    "res=x[:2]+x[-2:]\n",
    "print(res)\n",
    "res=x[:-6]+x[-2:]\n",
    "print(res)\n",
    "res=x[:-6]+x[6:]\n",
    "print(res)"
   ]
  },
  {
   "cell_type": "code",
   "execution_count": 17,
   "metadata": {},
   "outputs": [
    {
     "name": "stdout",
     "output_type": "stream",
     "text": [
      "QSPI123456DERS\n",
      "SRED123456IPSQ\n",
      "SRED123456IPSQ\n"
     ]
    }
   ],
   "source": [
    "# 22Q] WAS to concat the new string into the specific position of the given string\n",
    "# i\\p ; x=\"QSPIDERS\"   o\\p : QSPI123456DERS\n",
    "\n",
    "x=\"QSPIDERS\"\n",
    "res=x[0:4]+\"123456\"+x[-4:]\n",
    "print(res)\n",
    "\n",
    "res=x[-1:3:-1]+\"123456\"+x[-5::-1]\n",
    "print(res)\n",
    "\n",
    "res=x[:3:-1]+\"123456\"+x[3::-1]\n",
    "print(res)"
   ]
  },
  {
   "attachments": {},
   "cell_type": "markdown",
   "metadata": {},
   "source": [
    "lIST questions"
   ]
  },
  {
   "cell_type": "code",
   "execution_count": 24,
   "metadata": {},
   "outputs": [
    {
     "name": "stdout",
     "output_type": "stream",
     "text": [
      "[100, 200, 10, 20, 30, 50, 'hello', 'haii'] 2296957828544\n",
      "[100, 200, 10, 20, 30, 50, 'hello', 'haii'] 2296957824320\n",
      "[100, 200, 10, 20, 30, 50, 'hello', 'haii'] 2296957828544\n"
     ]
    }
   ],
   "source": [
    "# 23Q] WAS to concat the new value into the starting of the given list\n",
    "\n",
    "l=[10,20,30,50,'hello','haii']\n",
    "l=[100,200]+l\n",
    "print(l,id(l))\n",
    "\n",
    "l=[10,20,30,50,'hello','haii']\n",
    "t=[100,200]\n",
    "t+=l\n",
    "print(t,id(l))\n",
    "\n",
    "l=[10,20,30,50,'hello','haii']\n",
    "l[0:0]=[100,200]\n",
    "print(l,id(l))"
   ]
  },
  {
   "cell_type": "code",
   "execution_count": 28,
   "metadata": {},
   "outputs": [
    {
     "name": "stdout",
     "output_type": "stream",
     "text": [
      "[10, 20, 30, 50, 'hello', 'haii'] 2296939441856\n",
      "[10, 20, 30, 50, 'hello', 'haii', 100, 200] 2296932516672\n",
      "[10, 20, 30, 50, 'hello', 'haii'] 2296939445184\n",
      "[10, 20, 30, 50, 'hello', 'haii', 100, 200] 2296939445184\n",
      "[10, 20, 30, 50, 'hello', 'haii'] 2296932516672\n",
      "[10, 20, 30, 50, 'hello', 'haii', 100, 200] 2296932516672\n"
     ]
    }
   ],
   "source": [
    "# 24Q] WAS to concat the new value into the ending of the given list\n",
    "\n",
    "l=[10,20,30,50,'hello','haii']\n",
    "print(l,id(l))\n",
    "l=l+[100,200]\n",
    "print(l,id(l))\n",
    "\n",
    "l=[10,20,30,50,'hello','haii']\n",
    "print(l,id(l))\n",
    "l+=[100,200]\n",
    "print(l,id(l))\n",
    "\n",
    "l=[10,20,30,50,'hello','haii']\n",
    "print(l,id(l))\n",
    "l[len(l):len(t)]=[100,200]\n",
    "print(l,id(l))\n"
   ]
  },
  {
   "cell_type": "code",
   "execution_count": 32,
   "metadata": {},
   "outputs": [
    {
     "name": "stdout",
     "output_type": "stream",
     "text": [
      "[10, 20, 30, 50, 'hello', 'haii'] 2296933942720\n",
      "[10, 20, 30, 'A', 'B', 50, 'hello', 'haii'] 2296933941760\n",
      "[10, 20, 30, 50, 'hello', 'haii', 'bye'] 2296933343488\n",
      "[10, 20, 30, 'A', 'b', 50, 'hello', 'haii', 'bye'] 2296933942720\n",
      "[10, 20, 30, 50, 'hello', 'haii'] 2296933941760\n",
      "[10, 20, 30, 'a', 'b', 50, 'hello', 'haii'] 2296933941760\n"
     ]
    }
   ],
   "source": [
    "# 25Q] WAS to concat the new value into the middle of tje given string\n",
    "\n",
    "l=[10,20,30,50,'hello','haii']\n",
    "print(l,id(l))\n",
    "l=l[:len(l)//2]+['A','B']+l[len(l)//2:]\n",
    "print(l,id(l))\n",
    "\n",
    "l=[10,20,30,50,'hello','haii','bye']\n",
    "print(l,id(l))\n",
    "l=l[:len(l)//2]+['A','b']+l[len(l)//2:]\n",
    "print(l,id(l))\n",
    "\n",
    "l=[10,20,30,50,'hello','haii']\n",
    "print(l,id(l))\n",
    "l[len(l)//2:len(l)//2]=['a','b']\n",
    "print(l,id(l))"
   ]
  },
  {
   "cell_type": "code",
   "execution_count": 35,
   "metadata": {},
   "outputs": [
    {
     "name": "stdout",
     "output_type": "stream",
     "text": [
      "[10, 20, 30, 50, 'hello', 'haii', 66] 2296964354752\n",
      "[10, 20, 'helloworld', 50, 'hello', 'haii', 66] 2296964354752\n"
     ]
    }
   ],
   "source": [
    "# 26Q] WAS to modify the new value into the specific position of the given list\n",
    "\n",
    "l=[10,20,30,50,'hello','haii',66]\n",
    "print(l,id(l))\n",
    "l[2]=\"helloworld\"\n",
    "print(l,id(l))"
   ]
  },
  {
   "cell_type": "code",
   "execution_count": 36,
   "metadata": {},
   "outputs": [
    {
     "name": "stdout",
     "output_type": "stream",
     "text": [
      "[10, 20, 30, 50, 'hello', 'haii', 66] 2296945323968\n",
      "[10, 20, 'helloworld', 'goodbye', 30, 50, 'hello', 'haii', 66] 2296945323968\n"
     ]
    }
   ],
   "source": [
    "# 27Q] WAS to modify the sequencee of new value into the specific postion of the given list\n",
    "\n",
    "l=[10,20,30,50,'hello','haii',66]\n",
    "print(l,id(l))\n",
    "l[2:2]=[\"helloworld\",\"goodbye\"]\n",
    "print(l,id(l))"
   ]
  },
  {
   "cell_type": "code",
   "execution_count": 39,
   "metadata": {},
   "outputs": [
    {
     "name": "stdout",
     "output_type": "stream",
     "text": [
      "[10, 20, 30, 50, 'hello', 'haii', 66] 2296964358336\n",
      "['helloworld', 20, 30, 50, 'hello', 'haii', 66] 2296964358336\n"
     ]
    }
   ],
   "source": [
    "# 28Q] WAS to modify the new value into the starting of the given list\n",
    "\n",
    "l=[10,20,30,50,'hello','haii',66]\n",
    "print(l,id(l))\n",
    "l[0]=\"helloworld\"\n",
    "print(l,id(l))"
   ]
  },
  {
   "cell_type": "code",
   "execution_count": 40,
   "metadata": {},
   "outputs": [
    {
     "name": "stdout",
     "output_type": "stream",
     "text": [
      "[10, 20, 30, 50, 'hello', 'haii', 66] 2296939157824\n",
      "[10, 20, 30, 50, 'hello', 'haii', 'helloworld'] 2296939157824\n"
     ]
    }
   ],
   "source": [
    "# 29Q] WAS to modify the new value into the ending of the given list\n",
    "\n",
    "l=[10,20,30,50,'hello','haii',66]\n",
    "print(l,id(l))\n",
    "l[-1]=\"helloworld\"\n",
    "print(l,id(l))\n",
    "\n"
   ]
  },
  {
   "cell_type": "code",
   "execution_count": 42,
   "metadata": {},
   "outputs": [
    {
     "name": "stdout",
     "output_type": "stream",
     "text": [
      "[10, 20, 30, 50, 'hello', 'haii', 66] 2296964358336\n",
      "[10, 20, 30, 'helloworld', 'hello', 'haii', 66] 2296964358336\n"
     ]
    }
   ],
   "source": [
    "# 30Q] WAS to modify the new value into the middle of the given value \n",
    "l=[10,20,30,50,'hello','haii',66]\n",
    "print(l,id(l))\n",
    "l[len(l)//2]=\"helloworld\"\n",
    "print(l,id(l))"
   ]
  },
  {
   "cell_type": "code",
   "execution_count": 1,
   "metadata": {},
   "outputs": [
    {
     "name": "stdout",
     "output_type": "stream",
     "text": [
      "[1, 2, 3, 4, 5, 6] 2151214887872\n",
      "['a', 'b', 'c', 'd', 5, 6] 2151214887872\n"
     ]
    }
   ],
   "source": [
    "#31Q] WAS to modify the first 4 positions values into a givenn list \n",
    "l=[1,2,3,4,5,6]\n",
    "print(l,id(l))\n",
    "l[0:4]=['a','b','c','d']\n",
    "print(l,id(l))"
   ]
  },
  {
   "cell_type": "code",
   "execution_count": 5,
   "metadata": {},
   "outputs": [
    {
     "name": "stdout",
     "output_type": "stream",
     "text": [
      "[1, 2, 3, 4, 5, 6] 2151220513472\n",
      "[1, 2, 3, 5, 6] 2151220513472\n",
      "[1, 2, 3, 5] 2151220513472\n"
     ]
    }
   ],
   "source": [
    "#32Q] WAS to delete thee value in the specific position of the given list\n",
    "l=[1,2,3,4,5,6]\n",
    "print(l,id(l))\n",
    "\n",
    "del l[3]\n",
    "print(l,id(l))\n",
    "\n",
    "del l[-1]\n",
    "print (l,id(l))"
   ]
  },
  {
   "cell_type": "code",
   "execution_count": 14,
   "metadata": {},
   "outputs": [
    {
     "name": "stdout",
     "output_type": "stream",
     "text": [
      "[1, 2, 3, 4, 5, 6, 7] 2151221111232\n",
      "[1, 2, 3, 5, 6, 7] 2151221111232\n",
      "[1, 2, 3, 4, 5, 6] 2151221185664\n",
      "[1, 2, 3, 5, 6] 2151221185664\n"
     ]
    }
   ],
   "source": [
    "#33Q] WAS to delete the new value into the midle of the list\n",
    "\n",
    "l=[1,2,3,4,5,6,7]\n",
    "print(l,id(l))\n",
    "\n",
    "del l[len(l)//2]\n",
    "print(l,id(l))\n",
    "\n",
    "l=[1,2,3,4,5,6]\n",
    "print(l,id(l))\n",
    "\n",
    "del l[len(l)//2]\n",
    "print(l,id(l))"
   ]
  },
  {
   "cell_type": "code",
   "execution_count": 12,
   "metadata": {},
   "outputs": [
    {
     "name": "stdout",
     "output_type": "stream",
     "text": [
      "[1, 2, 3, 4, 5, 6]\n",
      "[2, 3, 4, 5, 6]\n",
      "[1, 2, 3, 4, 5, 6]\n",
      "[2, 3, 4, 5, 6]\n"
     ]
    }
   ],
   "source": [
    "#34Q] was to delete the new value into the starting of the list \n",
    "l=[1,2,3,4,5,6]\n",
    "print(l)\n",
    "del l[0]\n",
    "print(l)\n",
    "\n",
    "l=[1,2,3,4,5,6]\n",
    "print(l)\n",
    "\n",
    "del l[-(len(l))]\n",
    "print(l)"
   ]
  },
  {
   "cell_type": "code",
   "execution_count": 16,
   "metadata": {},
   "outputs": [
    {
     "name": "stdout",
     "output_type": "stream",
     "text": [
      "[1, 2, 3, 4, 5, 6] 2151220431616\n",
      "[5, 6] 2151220431616\n",
      "[1, 2, 3, 4, 5, 6, 'a', 'b', 'c', 'd', 'e'] 2151221185664\n",
      "[1, 6, 'a', 'b', 'c', 'd', 'e'] 2151221185664\n",
      "______________________________\n",
      "[1, 2, 3, 4, 5, 6, 'a', 'b', 'c', 'd', 'e'] 2151220434112\n",
      "[1, 2, 3, 4, 5, 6] 2151220434112\n"
     ]
    }
   ],
   "source": [
    "#35Q] WAS to delete the sequence of the value from the list\n",
    "\n",
    "l=[1,2,3,4,5,6]\n",
    "print(l,id(l))\n",
    "del l[0:4]\n",
    "print(l,id(l))\n",
    "\n",
    "l=[1,2,3,4,5,6,'a','b','c','d','e']\n",
    "print(l,id(l))\n",
    "del l[4:0:-1]\n",
    "print(l,id(l))\n",
    "\n",
    "print(\"_\"*30)\n",
    "\n",
    "l=[1,2,3,4,5,6,'a','b','c','d','e']\n",
    "print(l,id(l))\n",
    "del l[-1:-6:-1]\n",
    "print(l,id(l))\n",
    "\n"
   ]
  },
  {
   "attachments": {},
   "cell_type": "markdown",
   "metadata": {},
   "source": [
    "TUPLE Questions"
   ]
  },
  {
   "cell_type": "code",
   "execution_count": 18,
   "metadata": {},
   "outputs": [
    {
     "name": "stdout",
     "output_type": "stream",
     "text": [
      "('haii', 'good', 'morning', 'goodnight') 2151221122512\n",
      "('haii', 'haii', 'good', 'morning', 'goodnight') 2151221038752\n"
     ]
    }
   ],
   "source": [
    "#36Q] WAS to concat the new value into starting of the tuple\n",
    "\n",
    "t=(\"haii\",'good','morning','goodnight')\n",
    "print(t,id(t))\n",
    "\n",
    "t=(\"haii\",)+t\n",
    "print(t,id(t))"
   ]
  },
  {
   "cell_type": "code",
   "execution_count": 20,
   "metadata": {},
   "outputs": [
    {
     "name": "stdout",
     "output_type": "stream",
     "text": [
      "('haii', 'good', 'morning', 'goodnight') 2151221204112\n",
      "('haii', 'good', [10, 20], 'morning', 'goodnight') 2151221038752\n"
     ]
    }
   ],
   "source": [
    "#37Q] WAS to concat the new value into middle of the tuple\n",
    "t=(\"haii\",'good','morning','goodnight')\n",
    "print(t,id(t))\n",
    "t=t[:len(t)//2]+([10,20],)+t[len(t)//2:]\n",
    "print(t,id(t))"
   ]
  },
  {
   "cell_type": "code",
   "execution_count": 21,
   "metadata": {},
   "outputs": [
    {
     "name": "stdout",
     "output_type": "stream",
     "text": [
      "('haii', 'good', 'morning', 'goodnight') 2151221204112\n",
      "('haii', 'good', 'morning', [10, 20], 'goodnight') 2151221038752\n"
     ]
    }
   ],
   "source": [
    "#38Q] WAS to concat the new value into specifi position of the tuple\n",
    "t=(\"haii\",'good','morning','goodnight')\n",
    "print(t,id(t))\n",
    "t=t[:3]+([10,20],)+t[3:]\n",
    "print(t,id(t))"
   ]
  },
  {
   "cell_type": "code",
   "execution_count": 25,
   "metadata": {},
   "outputs": [
    {
     "name": "stdout",
     "output_type": "stream",
     "text": [
      "('haii', 'good', 'morning', 'goodnight', 'bye') 2151221611472\n",
      "('haii', 'good', 'morning', 'goodnight', 'bye', 'bye bye') 2151216478528\n",
      "('haii', 'good', 'morning', 'goodnight', 'bye') 2151221611472\n",
      "('haii', 'good', 'morning', 'goodnight', 'bye', 'bye bye') 2151221553056\n"
     ]
    }
   ],
   "source": [
    "#39Q] WAS to concat the new value into ending of the tuple\n",
    "t=(\"haii\",'good','morning','goodnight','bye')\n",
    "print(t, id(t))\n",
    "t=t+(\"bye bye\",)\n",
    "print(t,id(t))\n",
    "\n",
    "u=(\"haii\",'good','morning','goodnight','bye')\n",
    "print(u,id(u))\n",
    "u+=(\"bye bye\",)\n",
    "print(u,id(u))"
   ]
  },
  {
   "cell_type": "code",
   "execution_count": 31,
   "metadata": {},
   "outputs": [
    {
     "name": "stdout",
     "output_type": "stream",
     "text": [
      "('haii', 'good', 'morning', 'goodnight', 'bye')\n",
      "('haii', 'good', 'morning', 'goodnight', 'Good bye')\n",
      "('haii', 'good', 'afternoon', 'goodnight', 'bye bye')\n",
      "('haii', 'good', 'afternoon', 'goodnight', 'bye bye')\n",
      "('haii', 'good', [10, 2, 0], 'bye', 'bye bye')\n"
     ]
    }
   ],
   "source": [
    "#40Q] WAS to modify the value into the tuple \n",
    "#starting\n",
    "x=(\"haii\",'good','morning','goodnight','bye')\n",
    "x=(\"haii\",)+x[1:]\n",
    "print(x)\n",
    "\n",
    "#ENDING\n",
    "x=(\"haii\",'good','morning','goodnight','bye')\n",
    "x=x[0:-1]+('Good bye',)\n",
    "print(x)\n",
    "\n",
    "#Specific position \n",
    "\n",
    "x=(\"haii\",'good','morning','goodnight','bye bye')\n",
    "x=x[0:2]+(\"afternoon\",)+x[2+1:]\n",
    "print(x)\n",
    "\n",
    "#middle position\n",
    "\n",
    "x=(\"haii\",'good','morning','goodnight','bye bye')\n",
    "x=x[0:len(x)//2]+(\"afternoon\",)+x[(len(x)//2)+1:]\n",
    "print(x)\n",
    "\n",
    "#sequence of values \n",
    "x=(\"haii\",'good','morning','goodnight','bye','bye bye')\n",
    "x=x[0:2]+([10,2,0],)+x[4:]\n",
    "print(x)"
   ]
  },
  {
   "cell_type": "code",
   "execution_count": 33,
   "metadata": {},
   "outputs": [
    {
     "name": "stdout",
     "output_type": "stream",
     "text": [
      "('good', 'morning', 'goodnight', 'bye')\n",
      "('haii', 'good', 'morning', 'goodnight')\n",
      "('haii', 'good', 'goodnight', 'bye bye')\n",
      "('haii', 'good', 'goodnight', 'bye bye')\n",
      "('haii', 'good', 'bye', 'bye bye')\n"
     ]
    }
   ],
   "source": [
    "#41Q] WAS to modify the value into the tuple \n",
    "#starting\n",
    "x=(\"haii\",'good','morning','goodnight','bye')\n",
    "x=x[1:]\n",
    "print(x)\n",
    "\n",
    "#ENDING\n",
    "x=(\"haii\",'good','morning','goodnight','bye')\n",
    "x=x[0:-1]\n",
    "print(x)\n",
    "\n",
    "#Specific position \n",
    "\n",
    "x=(\"haii\",'good','morning','goodnight','bye bye')\n",
    "x=x[0:2]+x[2+1:]\n",
    "print(x)\n",
    "\n",
    "#middle position\n",
    "\n",
    "x=(\"haii\",'good','morning','goodnight','bye bye')\n",
    "x=x[0:len(x)//2]+x[(len(x)//2)+1:]\n",
    "print(x)\n",
    "\n",
    "#sequence of values \n",
    "x=(\"haii\",'good','morning','goodnight','bye','bye bye')\n",
    "x=x[0:2]+x[4:]\n",
    "print(x)"
   ]
  },
  {
   "attachments": {},
   "cell_type": "markdown",
   "metadata": {},
   "source": [
    "SET Questions "
   ]
  },
  {
   "cell_type": "code",
   "execution_count": 36,
   "metadata": {},
   "outputs": [
    {
     "name": "stdout",
     "output_type": "stream",
     "text": [
      "{50, 20, 40, 10, 60, 30}\n",
      "{50, 20, 40, 10, 60, 30}\n",
      "{40, 10, 30}\n",
      "{40, 10, 30}\n"
     ]
    }
   ],
   "source": [
    "#42Q] WAS to concat the new value into the set\n",
    "\n",
    "#UNION / CONCAT\n",
    "\n",
    "s={10,20,30,40}\n",
    "t={20,50,60}\n",
    "res= s|t\n",
    "print(res)\n",
    "\n",
    "#UNION / CONCAT / UNION_UPDATE\n",
    "\n",
    "s={10,20,30,40}\n",
    "t={20,50,60}\n",
    "s|=t\n",
    "print(s)\n",
    "\n",
    "#DIFFERENT / DELeTe\n",
    "\n",
    "s={10,20,30,40}\n",
    "t={20}\n",
    "res= s-t\n",
    "print(res)\n",
    "\n",
    "#DIFFERENCE / DELETE / DIFFERENCE_UPDATE\n",
    "\n",
    "s={10,20,30,40}\n",
    "t={20}\n",
    "s-=t\n",
    "print(s)\n",
    "\n",
    "\n",
    "\n",
    "\n"
   ]
  },
  {
   "attachments": {},
   "cell_type": "markdown",
   "metadata": {},
   "source": [
    "DICT Questions"
   ]
  },
  {
   "cell_type": "code",
   "execution_count": 38,
   "metadata": {},
   "outputs": [
    {
     "name": "stdout",
     "output_type": "stream",
     "text": [
      "{'a': 10, 'hello': 'bye'} 2151220457792\n",
      "{'a': 10, 'hello': 'bye', 'c': 30} 2151220457792\n",
      "{'a': 10, 'hello': 'bye'} 2151214955136\n",
      "{'a': 10, 'hello': 'bye', 'Apple': 10, 'Bat': 1500, 'ball': 60} 2151214955136\n"
     ]
    }
   ],
   "source": [
    "#43Q] WAS to concat the new key and value into the dict\n",
    "#adding the single pair\n",
    "d={'a':10,\"hello\":\"bye\"}\n",
    "print(d,id(d))\n",
    "d['c']=30\n",
    "print(d,id(d))\n",
    "\n",
    "# adiing the multiple pair\n",
    "d={'a':10,\"hello\":\"bye\"}\n",
    "x={'Apple':10,'Bat':1500,'ball':60}\n",
    "print(d,id(d))\n",
    "d|=x\n",
    "print(d,id(d))"
   ]
  },
  {
   "cell_type": "code",
   "execution_count": 40,
   "metadata": {},
   "outputs": [
    {
     "name": "stdout",
     "output_type": "stream",
     "text": [
      "{'Apple': 200, 'Bat': 'bye', 'ball': 60} 2151220566464\n",
      "{'Apple': 200, 'Bat': 'bye'} 2151220566464\n",
      "{'Apple': 200, 'Bat': 'bye', 'ball': 60} 2151220520832\n",
      "{'Bat': 'bye'} 2151220520832\n"
     ]
    }
   ],
   "source": [
    "#44Q] WAS to delete the specific key and value in the given dict\n",
    "\n",
    "d={'Apple':200,'Bat':'bye','ball':60}\n",
    "print(d,id(d))\n",
    "del d['ball']\n",
    "print(d,id(d))\n",
    "\n",
    "\n",
    "d={'Apple':200,'Bat':'bye','ball':60}\n",
    "print(d,id(d))\n",
    "del [d['ball']],d['Apple']\n",
    "print(d,id(d))"
   ]
  },
  {
   "cell_type": "code",
   "execution_count": 41,
   "metadata": {},
   "outputs": [
    {
     "name": "stdout",
     "output_type": "stream",
     "text": [
      "{'Apple': 200, 'Bat': 'bye', 'ball': 60} 2151214827392\n",
      "{'Apple': 1500, 'Bat': 'bye', 'ball': 60} 2151214827392\n"
     ]
    }
   ],
   "source": [
    "#45Q] WAS to modify the specific value in the given dict\n",
    "\n",
    "d={'Apple':200,'Bat':'bye','ball':60}\n",
    "print(d,id(d))\n",
    "d['Apple']=1500\n",
    "print(d,id(d))\n",
    "\n",
    "#modify the multiple keys value pair\n",
    "d={'Apple':200,'Bat':'bye','ball':60}\n",
    "print(d,id(d))\n",
    "del d['ball']\n",
    "print(d,id(d))\n",
    "\n"
   ]
  },
  {
   "cell_type": "code",
   "execution_count": 5,
   "metadata": {},
   "outputs": [
    {
     "name": "stdout",
     "output_type": "stream",
     "text": [
      "A\n",
      "Z\n",
      "a\n",
      "z\n",
      "0\n",
      "9\n",
      "\u0000\n",
      "\u0001\n",
      ":\n"
     ]
    }
   ],
   "source": [
    "#WAE to find out the ascii character in a given number\n",
    "\n",
    "n=65\n",
    "print(chr(n))\n",
    "n=90\n",
    "print(chr(n))\n",
    "n=97\n",
    "print(chr(n))\n",
    "n=122\n",
    "print(chr(n))\n",
    "n=48\n",
    "print(chr(n))\n",
    "n=57\n",
    "print(chr(n))\n",
    "n=0\n",
    "print(chr(n))\n",
    "n=1\n",
    "print(chr(n))\n",
    "n=58\n",
    "print(chr(n))\n"
   ]
  },
  {
   "cell_type": "code",
   "execution_count": 8,
   "metadata": {},
   "outputs": [
    {
     "name": "stdout",
     "output_type": "stream",
     "text": [
      "65\n",
      "90\n",
      "97\n",
      "122\n",
      "48\n",
      "57\n"
     ]
    }
   ],
   "source": [
    "#WAE to findout the ascii value to the given number\n",
    "ch='A'\n",
    "print(ord(ch))\n",
    "\n",
    "ch='Z'\n",
    "print(ord(ch))\n",
    "\n",
    "ch='a'\n",
    "print(ord(ch))\n",
    "\n",
    "ch='z'\n",
    "print(ord(ch))\n",
    "\n",
    "ch='0'\n",
    "print(ord(ch))\n",
    "\n",
    "ch='9'\n",
    "print(ord(ch))"
   ]
  },
  {
   "cell_type": "code",
   "execution_count": 13,
   "metadata": {},
   "outputs": [
    {
     "name": "stdout",
     "output_type": "stream",
     "text": [
      "a\n",
      "a\n"
     ]
    }
   ],
   "source": [
    "#WAE to convert uppercase to lowercase\n",
    "\n",
    "ch='A'\n",
    "print(chr(ord(ch)+32))\n",
    "\n",
    "ch='A'\n",
    "print(ch.lower())"
   ]
  },
  {
   "cell_type": "code",
   "execution_count": 15,
   "metadata": {},
   "outputs": [
    {
     "name": "stdout",
     "output_type": "stream",
     "text": [
      "A\n",
      "A\n"
     ]
    }
   ],
   "source": [
    "#WAE to convert lowercase to uppercase\n",
    "\n",
    "ch='a'\n",
    "print(chr(ord(ch)-32))\n",
    "\n",
    "ch='A'\n",
    "print(ch.upper())"
   ]
  },
  {
   "cell_type": "code",
   "execution_count": 27,
   "metadata": {},
   "outputs": [
    {
     "name": "stdout",
     "output_type": "stream",
     "text": [
      "False\n",
      "True\n",
      "True\n",
      "True\n",
      "True\n",
      "False\n",
      "False\n",
      "True\n"
     ]
    }
   ],
   "source": [
    "#WAC to the given condition is uppercase or not\n",
    "ch='A'\n",
    "print(65<ord(ch)<90)\n",
    "\n",
    "ch='A'\n",
    "print(65<=ord(ch)<=90)\n",
    "\n",
    "ch='Y'\n",
    "print(65<=ord(ch)<=90) #this condition will consider one character\n",
    "\n",
    "ch='YZ'\n",
    "print(chr(65)<=ch<=chr(90))\n",
    "\n",
    "ch='M'\n",
    "print('A'<=ch<='z')\n",
    "\n",
    "ch='Ya'\n",
    "print(len(ch)==1 and chr(65)<=ch<=chr(90))  #this condition is consider one character\n",
    "\n",
    "ch='Ma'\n",
    "print(len(ch)==1 and 'A'<=ch<='Z')\n",
    "\n",
    "ch=\"MA\"\n",
    "print(ch.isupper()) #isupper is consider each character in the given string"
   ]
  },
  {
   "cell_type": "code",
   "execution_count": 30,
   "metadata": {},
   "outputs": [
    {
     "name": "stdout",
     "output_type": "stream",
     "text": [
      "False\n",
      "True\n",
      "True\n",
      "True\n",
      "True\n",
      "False\n",
      "False\n",
      "True\n"
     ]
    }
   ],
   "source": [
    "#WAC to the given condition is uppercase or not\n",
    "ch='a'\n",
    "print(97<ord(ch)<122)\n",
    "\n",
    "ch='z'\n",
    "print(97<=ord(ch)<=122)\n",
    "\n",
    "ch='a'\n",
    "print(97<=ord(ch)<=122) #this condition will consider one character\n",
    "\n",
    "ch='aG'\n",
    "print(chr(97)<=ch<=chr(122))\n",
    "\n",
    "ch='gJ'\n",
    "print('a'<=ch<='z')\n",
    "\n",
    "ch='aY'\n",
    "print(len(ch)==1 and chr(97)<=ch<=chr(122))  #this condition is consider one character\n",
    "\n",
    "ch='Ma'\n",
    "print(len(ch)==1 and 'a'<=ch<='z')\n",
    "\n",
    "ch=\"at\"\n",
    "print(ch.islower()) #isupper is consider each character in the given string"
   ]
  },
  {
   "cell_type": "code",
   "execution_count": null,
   "metadata": {},
   "outputs": [],
   "source": [
    "#WAC to the given condition is alphabet or not\n",
    "\n",
    "ch='a'\n",
    "print(97<=ord(ch)<=122 or 65<=ord(ch)<=90) #this condition will consider one character\n",
    "\n",
    "ch='aG'\n",
    "print(chr(97)<=ch<=chr(122) or chr(65<=ch<=chr(90)))\n",
    "\n",
    "ch='gJ'\n",
    "print('a'<=ch<='z' or '')\n",
    "\n",
    "ch='aY'\n",
    "print(len(ch)==1 and chr(97)<=ch<=chr(122))  #this condition is consider one character\n",
    "\n",
    "ch='Ma'\n",
    "print(len(ch)==1 and 'a'<=ch<='z')\n",
    "\n",
    "ch=\"at\"\n",
    "print(ch.islower()) #isupper is consider each character in the given string"
   ]
  },
  {
   "cell_type": "code",
   "execution_count": 33,
   "metadata": {},
   "outputs": [
    {
     "name": "stdout",
     "output_type": "stream",
     "text": [
      "True\n",
      "True\n",
      "True\n"
     ]
    }
   ],
   "source": [
    "# WAE to given characters is ascii numbers \n",
    "\n",
    "ch=\"9\"\n",
    "print(48<=ord(ch)<=57)\n",
    "\n",
    "ch=\"8\"\n",
    "print(chr(48)<=ch<=chr(57))\n",
    "\n",
    "ch=\"6\"\n",
    "print('0'<=ch<='9')\n",
    "\n",
    "#ch=\"M\"\n",
    "#print()\n"
   ]
  },
  {
   "cell_type": "code",
   "execution_count": 37,
   "metadata": {},
   "outputs": [
    {
     "name": "stdout",
     "output_type": "stream",
     "text": [
      "True\n",
      "True\n",
      "True\n"
     ]
    }
   ],
   "source": [
    "#WAE to the given character is special character or not\n",
    "\n",
    "ch=\"*\"\n",
    "print(not('A'<=ch<='z' or 'a'<=ch<='z' or '0'<=ch<='9'))\n",
    "\n",
    "ch=\"*\"\n",
    "print(1<=ord(ch)<=47 or 57<=ord(ch)<=64 or 91<=ord(ch)<=96 or 122<=ord(ch)<=127)\n",
    "\n",
    "ch=\"*\"\n",
    "print(not(ch.isalnum()))"
   ]
  },
  {
   "cell_type": "code",
   "execution_count": 38,
   "metadata": {},
   "outputs": [
    {
     "name": "stdout",
     "output_type": "stream",
     "text": [
      "False\n"
     ]
    }
   ],
   "source": [
    "# WAE to check the given character should not be uppercase\n",
    "\n",
    "ch=\"D\"\n",
    "print(len(ch)==1 and not ('A'<=ch<='Z'))"
   ]
  },
  {
   "cell_type": "code",
   "execution_count": 40,
   "metadata": {},
   "outputs": [
    {
     "name": "stdout",
     "output_type": "stream",
     "text": [
      "True\n"
     ]
    }
   ],
   "source": [
    "# WAE to check the given character should not be lowercase\n",
    "\n",
    "ch=\"D\"\n",
    "print(len(ch)==1 and not ('a'<=ch<='z'))"
   ]
  },
  {
   "cell_type": "code",
   "execution_count": 42,
   "metadata": {},
   "outputs": [
    {
     "name": "stdout",
     "output_type": "stream",
     "text": [
      "False\n"
     ]
    }
   ],
   "source": [
    "# WAE to check the given character should not be the alphabet\n",
    "\n",
    "ch=\"q\"\n",
    "print(len(ch)==1 and not('a'<=ch<='z' or 'A'<=ch<='Z'))"
   ]
  },
  {
   "cell_type": "code",
   "execution_count": null,
   "metadata": {},
   "outputs": [],
   "source": []
  }
 ],
 "metadata": {
  "kernelspec": {
   "display_name": "Python 3",
   "language": "python",
   "name": "python3"
  },
  "language_info": {
   "codemirror_mode": {
    "name": "ipython",
    "version": 3
   },
   "file_extension": ".py",
   "mimetype": "text/x-python",
   "name": "python",
   "nbconvert_exporter": "python",
   "pygments_lexer": "ipython3",
   "version": "3.11.3"
  },
  "orig_nbformat": 4
 },
 "nbformat": 4,
 "nbformat_minor": 2
}
